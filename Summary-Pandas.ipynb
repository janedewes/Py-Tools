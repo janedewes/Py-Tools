{
 "cells": [
  {
   "cell_type": "markdown",
   "metadata": {},
   "source": [
    "## Estruturas de Dados em Pandas\n",
    "\n",
    "### pandas.Series() - 1 Dimensão - 1D\n",
    "\n",
    "### pandas.DataFrame() - 2 Dimensões - 2D\n",
    "\n",
    "### pandas.Panel() - 3 Dimensões - 3D\n",
    "\n",
    "### numpy.ndarray() - x Dimensões"
   ]
  },
  {
   "cell_type": "markdown",
   "metadata": {},
   "source": [
    "# DataFrames"
   ]
  },
  {
   "cell_type": "code",
   "execution_count": null,
   "metadata": {},
   "outputs": [],
   "source": [
    "import pandas as pd\n",
    "import numpy as np\n",
    "\n",
    "import warnings\n",
    "warnings.filterwarnings(\"ignore\")"
   ]
  },
  {
   "cell_type": "code",
   "execution_count": null,
   "metadata": {},
   "outputs": [],
   "source": [
    "# Funcoes do pandas - Metodos\n",
    "type(obj)\n",
    "len(obj)\n",
    "df.describe()\n",
    "df.head()\n",
    "df.count()\n",
    "df.size()\n",
    "df.sum()\n",
    "df.set_index('col') # def col indice\n",
    "df.groupby(level = 'col')\n",
    "df..aggregate()"
   ]
  },
  {
   "cell_type": "code",
   "execution_count": null,
   "metadata": {},
   "outputs": [],
   "source": [
    "# Atributos de df pandas\n",
    "df.TECLA TAB\n",
    "\n",
    "#ex:\n",
    "df.index\n",
    "df.columns\n",
    "df.groups\n",
    "\n",
    "\n",
    "# Ordena os grupos por ordem decrescente\n",
    "grupo_criado_pelo_groupby = df.groupby(['col1','col2'])\n",
    "variavel = grupo_criado_pelo_groupby.size()\n",
    "variavel.sort_values(ascending = False)"
   ]
  },
  {
   "cell_type": "markdown",
   "metadata": {},
   "source": [
    "### Converter em dataframe pandas"
   ]
  },
  {
   "cell_type": "code",
   "execution_count": null,
   "metadata": {},
   "outputs": [],
   "source": [
    "# Criar dataframe\n",
    "df = pd.DataFrame(obj)\n",
    "df\n",
    "\n",
    "\n",
    "# Criar dataframe indicando o indice\n",
    "df = pd.DataFrame(obj,\n",
    "                  index = ['name',\n",
    "                            'name', \n",
    "                            'name',\n",
    "                            'name', \n",
    "                            'name',\n",
    "                            'name'])\n",
    "\n",
    "\n",
    "# Criar dataframe indicando o indice e nome das colunas\n",
    "df = pd.DataFrame(obj,\n",
    "                  index = ['name',\n",
    "                            'name', \n",
    "                            'name',\n",
    "                            'name', \n",
    "                            'name',\n",
    "                            'name'],\n",
    "                  columns = ['col1','col2','col3'])\n",
    "\n",
    "\n",
    "\n",
    "# Converter um dicionario em um dataframe (usar a fc \".from_dict\" se tiver dict aninhados)\n",
    "df1 = pd.DataFrame.from_dict(name_dict)"
   ]
  },
  {
   "cell_type": "markdown",
   "metadata": {},
   "source": [
    "### Manipulacao de dataframes"
   ]
  },
  {
   "cell_type": "code",
   "execution_count": null,
   "metadata": {},
   "outputs": [],
   "source": [
    "# Criar subset de um df \n",
    "nome_df_subset = df_nome['coluna']\n",
    "nome_df_subset\n",
    "\n",
    "\n",
    "# Imprimir uma col desejada\n",
    "df_name['coluna']\n",
    "# ou \n",
    "df_name.coluna # fazendo a chamada pelo atributo (pois cada col do df `e um atributo do df)\n",
    "# ou mais de uma col\n",
    "df_name[['coluna1','coluna2']]\n",
    "# ou \n",
    "df_name.get('coluna')\n",
    "# ou\n",
    "# iloc -> Uma busca dentro do df usando a localizacao de indices\n",
    "# iloc\n",
    "df_name.iloc[valor_numerico_do_indice] # retorna linha\n",
    "\n",
    "\n",
    "\n",
    "### Goupby\n",
    "# Aplicando Group By\n",
    "subset_name = df_name.groupby('coluna')\n",
    "subset_name.groups"
   ]
  },
  {
   "cell_type": "markdown",
   "metadata": {},
   "source": [
    "### Slicing"
   ]
  },
  {
   "cell_type": "code",
   "execution_count": null,
   "metadata": {},
   "outputs": [],
   "source": [
    "# Slicing\n",
    "df_name\n",
    "df_name[:2] # retorne todas as linhas ate o indice 2 EXCLUSIVE\n",
    "df_name[2:] # retorne tudo a partir da linha de indice 2\n",
    "df_name[::2] # retorne tudo (linha e col) saltando de 2 em 2\n",
    "df_name[::-1] # retorne todos os dados em ordem inversa (linhas)\n",
    "\n",
    "\n",
    "\n",
    "### Slicing por indexação (indices com nomes)\n",
    "df_name.loc['indice_name']\n",
    "df_name.loc[:,'col_name'] #retorne todas as linhas \",\" para a col_name\n",
    "df_name.loc['indice_name','col_name']\n",
    "df_name.loc['indice_name']['col_name']\n",
    "df_name.loc['indice_name']\n",
    "df_name.loc['indice_name'] > 20\n",
    "df_name.loc[:, df_name.loc['indice_name'] > 20]\n",
    "df_name.loc['indice_name'] > 20\n",
    "### iloc faz a localizacao por indice\n",
    "df_name.iloc[:2]\n",
    "df_name.iloc[2,0:2]\n",
    "df_name.iloc[2:3, :]\n",
    "df_name.iloc[1,:]\n",
    "df_name.iloc[2, 0]\n",
    "\n",
    "\n",
    "### Removendo um membro do dataframe\n",
    "del df_name['col_name']\n",
    "df_name\n",
    "\n",
    "### Inserindo um membro no dataframe\n",
    "df_name.insert(posicao_numerica_do_indice, 'col_name', (valor1, valor2, valor3))\n",
    "olimpiada.insert(0, 'Brasil', (7, 6, 6)) # exemplo\n",
    "df_name\n",
    "\n",
    "### Resumo do dataframe (estatistico)\n",
    "df_name.describe()"
   ]
  },
  {
   "cell_type": "markdown",
   "metadata": {},
   "source": [
    "### Objetos-Multidimensionais"
   ]
  },
  {
   "cell_type": "code",
   "execution_count": null,
   "metadata": {},
   "outputs": [],
   "source": [
    "# Panel (3D)\n",
    "\n",
    "# Exemplo\n",
    "# Criar um conjunto de dados aleatorios(.randint)\n",
    "data = np.random.randint(1, 10, (5, 3, 2))\n",
    "\n",
    "# Fazer um reshape\n",
    "data = data.reshape(5, 6).T\n",
    "\n",
    "# Criar dataframe (usando o pacote MultiIndex)\n",
    "df = pd.DataFrame(\n",
    "    data = data,\n",
    "    index = pd.MultiIndex.from_product([[2015, 2016, 2017], ['US', 'UK']]),\n",
    "    columns = ['item {}'.format(i) for i in range(1, 6)])\n",
    "\n",
    "df\n",
    "\n",
    "\n",
    "\n",
    "\n",
    "### Criando objetos multidimensionais com Panel ---------------------------------------\n",
    "# Criando duas matrizes (2D)\n",
    "USData = pd.DataFrame(np.array([[249.62 , 8900],\n",
    "                              [282.16,12680],\n",
    "                              [309.35,14940]]),\n",
    "                      columns = ['População(M)','PIB($B)'],\n",
    "                      index = [1995,2005,2015])\n",
    "USData\n",
    "\n",
    "ChinaData = pd.DataFrame(np.array([[1133.68, 390.28],\n",
    "                                 [1266.83,1198.48],\n",
    "                                 [1339.72, 9923.47]]),\n",
    "                       columns=['População(M)','PIB($B)'],\n",
    "                       index=[1995,2005,2015])\n",
    "ChinaData\n",
    "\n",
    "\n",
    "# Unir os dois df acima pra criar um obj multidimensional \n",
    "# Usando dict\n",
    "US_ChinaData = {'US' : USData,\n",
    "                'China': ChinaData}\n",
    "US_ChinaData\n",
    "\n",
    "# Converter o objeto acima em um Panel (fc descontinuada VER)\n",
    "pd.Panel(US_ChinaData)\n",
    "type(pd.Panel(US_ChinaData))\n",
    "\n",
    "\n",
    "\n",
    "\n",
    "### Convertendo DataFrame para Panel --------------------------------------------------\n",
    "mIdx = pd.MultiIndex(levels = [['US', 'China'], [1995,2005, 2015]],\n",
    "                     labels = [[1,1,1,0,0,0], [0,1,2,0,1,2]])\n",
    "mIdx\n",
    "\n",
    "ChinaUSDF = pd.DataFrame({'População(M)' : [1133.68, 1266.83, 1339.72, 249.62, 282.16,309.35], \n",
    "                          'PIB($B)': [390.28, 1198.48, 6988.47, 8900,12680,14940]}, \n",
    "                         index = mIdx)\n",
    "ChinaUSDF\n",
    "\n",
    "\n",
    "\n",
    "# ChinaUSDF.to_panel()\n",
    "!pip install xarray\n",
    "\n",
    "ChinaUSDF.to_xarray()\n"
   ]
  },
  {
   "cell_type": "markdown",
   "metadata": {},
   "source": [
    "### OBS: Um dicionario pode ser um arquivo do tipo JSON (padrao web)"
   ]
  },
  {
   "cell_type": "markdown",
   "metadata": {},
   "source": [
    "### End"
   ]
  }
 ],
 "metadata": {
  "kernelspec": {
   "display_name": "Python 3",
   "language": "python",
   "name": "python3"
  },
  "language_info": {
   "codemirror_mode": {
    "name": "ipython",
    "version": 3
   },
   "file_extension": ".py",
   "mimetype": "text/x-python",
   "name": "python",
   "nbconvert_exporter": "python",
   "pygments_lexer": "ipython3",
   "version": "3.7.6"
  }
 },
 "nbformat": 4,
 "nbformat_minor": 4
}
