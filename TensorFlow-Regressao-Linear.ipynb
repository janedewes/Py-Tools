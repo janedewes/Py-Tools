{
 "cells": [
  {
   "cell_type": "markdown",
   "metadata": {},
   "source": [
    " ## Construindo um Modelo de Regressão Linear com TensorFlow"
   ]
  },
  {
   "cell_type": "code",
   "execution_count": 1,
   "metadata": {},
   "outputs": [],
   "source": [
    "# Versão do TensorFlow a ser usada \n",
    "!pip install -q tensorflow==1.15.2"
   ]
  },
  {
   "cell_type": "code",
   "execution_count": 3,
   "metadata": {},
   "outputs": [],
   "source": [
    "# Imports\n",
    "import tensorflow as tf\n",
    "import numpy as np\n",
    "import matplotlib.pyplot as plt\n",
    "import warnings\n",
    "warnings.filterwarnings(\"ignore\")\n",
    "%matplotlib inline"
   ]
  },
  {
   "cell_type": "markdown",
   "metadata": {},
   "source": [
    "## Definindo os hyperparâmetros do modelo"
   ]
  },
  {
   "cell_type": "code",
   "execution_count": 4,
   "metadata": {},
   "outputs": [],
   "source": [
    "# Hyperparâmetros do modelo\n",
    "learning_rate = 0.01\n",
    "training_epochs = 2000\n",
    "display_step = 200"
   ]
  },
  {
   "cell_type": "markdown",
   "metadata": {},
   "source": [
    "## Definindo os datasets de treino e de teste\n",
    "\n",
    " Considere X como o tamanho de uma casa e y o preço de uma casa"
   ]
  },
  {
   "cell_type": "code",
   "execution_count": 5,
   "metadata": {},
   "outputs": [],
   "source": [
    "# Dataset de treino\n",
    "train_X = np.asarray([3.3,4.4,5.5,6.71,6.93,4.168,9.779,6.182,7.59,2.167,7.042,10.791,5.313,7.997,5.654,9.27,3.1])\n",
    "train_y = np.asarray([1.7,2.76,2.09,3.19,1.694,1.573,3.366,2.596,2.53,1.221,2.827,3.465,1.65,2.904,2.42,2.94,1.3])\n",
    "n_samples = train_X.shape[0]\n",
    " \n",
    "# Dataset de teste\n",
    "test_X = np.asarray([6.83, 4.668, 8.9, 7.91, 5.7, 8.7, 3.1, 2.1])\n",
    "test_y = np.asarray([1.84, 2.273, 3.2, 2.831, 2.92, 3.24, 1.35, 1.03])"
   ]
  },
  {
   "cell_type": "markdown",
   "metadata": {},
   "source": [
    "## Placeholders e variáveis"
   ]
  },
  {
   "cell_type": "code",
   "execution_count": 6,
   "metadata": {},
   "outputs": [],
   "source": [
    "# Placeholders para as variáveis preditoras (x) e para  variável target (y) - tensores\n",
    "X = tf.placeholder(tf.float32)\n",
    "y = tf.placeholder(tf.float32)\n",
    " \n",
    "# Pesos e bias do modelo\n",
    "W = tf.Variable(np.random.randn(), name=\"weight\")\n",
    "b = tf.Variable(np.random.randn(), name=\"bias\")"
   ]
  },
  {
   "cell_type": "markdown",
   "metadata": {},
   "source": [
    "## Construindo o modelo"
   ]
  },
  {
   "cell_type": "code",
   "execution_count": 7,
   "metadata": {},
   "outputs": [],
   "source": [
    "# Construindo o modelo linear \n",
    "# Fórmula do modelo linear: y = W*X + b\n",
    "linear_model = W*X + b\n",
    " \n",
    "# Mean squared error (erro quadrado médio)\n",
    "cost = tf.reduce_sum(tf.square(linear_model - y)) / (2*n_samples)\n",
    " \n",
    "# Otimização com Gradient descent\n",
    "optimizer = tf.train.GradientDescentOptimizer(learning_rate).minimize(cost)\n",
    "\n",
    "\n",
    "\n",
    "# É um exemplo de aprendizagem supervisionada\n",
    "# OBS: (Modelo de regressão linear é o modelo mais simples de ML)\n",
    "# Durante o treinamento o modelo irá aprender o que é o W e b, até chegar na melhor combinação possível.  "
   ]
  },
  {
   "cell_type": "markdown",
   "metadata": {},
   "source": [
    "## Executando o grafo computacional, treinando e testando o modelo"
   ]
  },
  {
   "cell_type": "code",
   "execution_count": 8,
   "metadata": {},
   "outputs": [
    {
     "name": "stdout",
     "output_type": "stream",
     "text": [
      "Epoch:   200 \t Custo (Erro):    0.1115 \t W:0.3571 \t b:0.05123\n",
      "Epoch:   400 \t Custo (Erro):   0.09821 \t W:0.3343 \t b:0.2125\n",
      "Epoch:   600 \t Custo (Erro):   0.09002 \t W:0.3165 \t b:0.3389\n",
      "Epoch:   800 \t Custo (Erro):   0.08498 \t W:0.3025 \t b:0.4381\n",
      "Epoch:  1000 \t Custo (Erro):   0.08188 \t W:0.2915 \t b:0.5159\n",
      "Epoch:  1200 \t Custo (Erro):   0.07998 \t W:0.2829 \t b:0.5769\n",
      "Epoch:  1400 \t Custo (Erro):    0.0788 \t W:0.2762 \t b:0.6248\n",
      "Epoch:  1600 \t Custo (Erro):   0.07808 \t W:0.2709 \t b:0.6623\n",
      "Epoch:  1800 \t Custo (Erro):   0.07764 \t W:0.2667 \t b:0.6917\n",
      "Epoch:  2000 \t Custo (Erro):   0.07737 \t W:0.2635 \t b:0.7148\n",
      "\n",
      "Otimização Concluída!\n",
      "Custo Final de Treinamento: 0.07736542  - W Final: 0.26348087  - b Final: 0.71481884 \n",
      "\n"
     ]
    },
    {
     "data": {
      "image/png": "[encoded data removed]",
      "text/plain": [
       "<Figure size 432x288 with 1 Axes>"
      ]
     },
     "metadata": {
      "needs_background": "light"
     },
     "output_type": "display_data"
    },
    {
     "name": "stdout",
     "output_type": "stream",
     "text": [
      "Custo Final em Teste: 0.07636597\n",
      "Diferença Média Quadrada Absoluta: 0.0009994507\n"
     ]
    },
    {
     "data": {
      "image/png": "[encoded data removed]",
      "text/plain": [
       "<Figure size 432x288 with 1 Axes>"
      ]
     },
     "metadata": {
      "needs_background": "light"
     },
     "output_type": "display_data"
    }
   ],
   "source": [
    "# Definindo a inicialização das variáveis\n",
    "init = tf.global_variables_initializer()\n",
    " \n",
    "# Iniciando a sessão\n",
    "with tf.Session() as sess:\n",
    "    # Iniciando as variáveis\n",
    "    sess.run(init)\n",
    " \n",
    "    # Treinamento do modelo\n",
    "    for epoch in range(training_epochs):\n",
    " \n",
    "        # Otimização com Gradient Descent\n",
    "        sess.run(optimizer, feed_dict={X: train_X, y: train_y})\n",
    "         \n",
    "        # Display de cada epoch\n",
    "        if (epoch+1) % display_step == 0:\n",
    "            c = sess.run(cost, feed_dict={X: train_X, y: train_y})\n",
    "            print(\"Epoch:{0:6} \\t Custo (Erro):{1:10.4} \\t W:{2:6.4} \\t b:{3:6.4}\".format(epoch+1, c, sess.run(W), sess.run(b)))\n",
    "             \n",
    "    # Imprimindo os parâmetros finais do modelo\n",
    "    print(\"\\nOtimização Concluída!\")\n",
    "    training_cost = sess.run(cost, feed_dict={X: train_X, y: train_y})\n",
    "    print(\"Custo Final de Treinamento:\", training_cost, \" - W Final:\", sess.run(W), \" - b Final:\", sess.run(b), '\\n')\n",
    "     \n",
    "    # Visualizando o resultado\n",
    "    plt.plot(train_X, train_y, 'ro', label='Dados Originais')\n",
    "    plt.plot(train_X, sess.run(W) * train_X + sess.run(b), label='Linha de Regressão')\n",
    "    plt.legend()\n",
    "    plt.show()\n",
    " \n",
    "    # Testando o modelo\n",
    "    testing_cost = sess.run(tf.reduce_sum(tf.square(linear_model - y)) / (2 * test_X.shape[0]), \n",
    "                            feed_dict={X: test_X, y: test_y})\n",
    "     \n",
    "    print(\"Custo Final em Teste:\", testing_cost)\n",
    "    print(\"Diferença Média Quadrada Absoluta:\", abs(training_cost - testing_cost))\n",
    " \n",
    "    # Display em Teste\n",
    "    plt.plot(test_X, test_y, 'bo', label='Dados de Teste')\n",
    "    plt.plot(train_X, sess.run(W) * train_X + sess.run(b), label='Linha de Regressão')\n",
    "    plt.legend()\n",
    "    plt.show()\n",
    "    \n",
    "sess.close()"
   ]
  },
  {
   "cell_type": "markdown",
   "metadata": {
    "collapsed": true
   },
   "source": [
    "# End"
   ]
  }
 ],
 "metadata": {
  "kernelspec": {
   "display_name": "Python 3",
   "language": "python",
   "name": "python3"
  },
  "language_info": {
   "codemirror_mode": {
    "name": "ipython",
    "version": 3
   },
   "file_extension": ".py",
   "mimetype": "text/x-python",
   "name": "python",
   "nbconvert_exporter": "python",
   "pygments_lexer": "ipython3",
   "version": "3.7.6"
  }
 },
 "nbformat": 4,
 "nbformat_minor": 1
}
