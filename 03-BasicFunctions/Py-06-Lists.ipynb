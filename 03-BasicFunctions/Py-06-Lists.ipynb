{
 "cells": [
  {
   "cell_type": "markdown",
   "metadata": {},
   "source": [
    "# Lists\n",
    "\n",
    "- A list is a kind of Collection, a collection allows us to put many values in a single \"variable\".\n",
    "\n",
    "- Lists are Mutable."
   ]
  },
  {
   "cell_type": "code",
   "execution_count": 2,
   "metadata": {},
   "outputs": [
    {
     "name": "stdout",
     "output_type": "stream",
     "text": [
      "['Jpseph', 'Glenn', 'Sally']\n",
      "[1, 24, 76]\n",
      "['red', 'yellow', 'blue']\n",
      "['red', 24, 98.6]\n",
      "[1, [5, 6], 7]\n",
      "[]\n"
     ]
    }
   ],
   "source": [
    "# Lists\n",
    "print(['Jpseph', 'Glenn', 'Sally'])\n",
    "\n",
    "print([1, 24, 76])\n",
    "\n",
    "print(['red', 'yellow', 'blue'])\n",
    "\n",
    "print(['red', 24, 98.6])\n",
    "\n",
    "print([1, [5 ,6], 7])\n",
    "\n",
    "print([])"
   ]
  },
  {
   "cell_type": "code",
   "execution_count": 3,
   "metadata": {},
   "outputs": [
    {
     "name": "stdout",
     "output_type": "stream",
     "text": [
      "5\n",
      "4\n",
      "3\n",
      "2\n",
      "1\n",
      "0\n",
      "Done!\n"
     ]
    }
   ],
   "source": [
    "# Ex1:\n",
    "\n",
    "for i in [5, 4, 3, 2, 1, 0]:\n",
    "    print(i)\n",
    "print('Done!')"
   ]
  },
  {
   "cell_type": "code",
   "execution_count": 4,
   "metadata": {},
   "outputs": [
    {
     "name": "stdout",
     "output_type": "stream",
     "text": [
      "Happy New Year: Jpseph\n",
      "Happy New Year: Glenn\n",
      "Happy New Year: Sally\n",
      "Done!\n"
     ]
    }
   ],
   "source": [
    "# Ex2:\n",
    "\n",
    "friends = ['Jpseph', 'Glenn', 'Sally']\n",
    "for friend in friends:\n",
    "    print('Happy New Year:', friend)\n",
    "print('Done!')"
   ]
  },
  {
   "cell_type": "code",
   "execution_count": 5,
   "metadata": {},
   "outputs": [
    {
     "name": "stdout",
     "output_type": "stream",
     "text": [
      "Happy New Year: Jpseph\n",
      "Happy New Year: Glenn\n",
      "Happy New Year: Sally\n",
      "Done!\n"
     ]
    }
   ],
   "source": [
    "# Ex3:\n",
    "\n",
    "z = ['Jpseph', 'Glenn', 'Sally']\n",
    "for x in z:\n",
    "    print('Happy New Year:', x)\n",
    "print('Done!')"
   ]
  },
  {
   "cell_type": "code",
   "execution_count": 6,
   "metadata": {},
   "outputs": [
    {
     "name": "stdout",
     "output_type": "stream",
     "text": [
      "Glenn\n"
     ]
    }
   ],
   "source": [
    "# Ex4:\n",
    "\n",
    "friends = ['Jpseph', 'Glenn', 'Sally']\n",
    "print(friends[1])"
   ]
  },
  {
   "cell_type": "markdown",
   "metadata": {},
   "source": [
    "# List Mutability"
   ]
  },
  {
   "cell_type": "code",
   "execution_count": 13,
   "metadata": {},
   "outputs": [
    {
     "name": "stdout",
     "output_type": "stream",
     "text": [
      "B\n",
      "banana\n",
      "[2, 14, 26, 41, 63]\n",
      "[2, 14, 66, 41, 63]\n",
      "9\n",
      "4\n"
     ]
    }
   ],
   "source": [
    "# Ex5: Lists are mutable, strings are not.\n",
    "\n",
    "fruit = 'Banana'\n",
    "print(fruit[0])\n",
    "\n",
    "x = fruit.lower()\n",
    "print(x)\n",
    "\n",
    "lotto = [2, 14, 26, 41, 63]\n",
    "print(lotto)\n",
    "\n",
    "lotto[2] = 66\n",
    "print(lotto)\n",
    "\n",
    "# String len (number os characters)\n",
    "greet = 'Hello Bob'\n",
    "print(len(greet))\n",
    "\n",
    "# List len (number elements)\n",
    "x = [1, 2, 'joe', 99]\n",
    "print(len(x))"
   ]
  },
  {
   "cell_type": "markdown",
   "metadata": {},
   "source": [
    "### The range function \n",
    "\n",
    "- Returns a list of numbers that range from zero to one less the parameter."
   ]
  },
  {
   "cell_type": "code",
   "execution_count": 29,
   "metadata": {},
   "outputs": [
    {
     "name": "stdout",
     "output_type": "stream",
     "text": [
      "0\n",
      "1\n",
      "2\n",
      "3\n",
      "4\n",
      "5\n",
      "3\n",
      "range(0, 3)\n",
      "range(0, 6)\n"
     ]
    }
   ],
   "source": [
    "# Ex6: Fc range(start, stop, step) \n",
    "\n",
    "x = range(6)\n",
    "for n in x:\n",
    "  print(n)\n",
    "\n",
    "\n",
    "friends = ['Jpseph', 'Glenn', 'Sally']\n",
    "print(len(friends))\n",
    "print(range(len(friends)))\n",
    "\n",
    "\n",
    "print(range(6))"
   ]
  },
  {
   "cell_type": "code",
   "execution_count": 31,
   "metadata": {},
   "outputs": [
    {
     "name": "stdout",
     "output_type": "stream",
     "text": [
      "Heppy New Year: Jpseph\n",
      "Heppy New Year: Glenn\n",
      "Heppy New Year: Sally\n",
      "-------------\n",
      "Happy New Year: Jpseph\n",
      "Happy New Year: Glenn\n",
      "Happy New Year: Sally\n"
     ]
    }
   ],
   "source": [
    "# Ex7:\n",
    "\n",
    "friends = ['Jpseph', 'Glenn', 'Sally']\n",
    "\n",
    "# Code1:\n",
    "for friend in friends:\n",
    "    print('Heppy New Year:', friend)\n",
    "\n",
    "print('-------------')\n",
    "\n",
    "# Code2:\n",
    "for i in range(len(friends)):\n",
    "    friend = friends[i]\n",
    "    print('Happy New Year:', friend)"
   ]
  },
  {
   "cell_type": "code",
   "execution_count": 2,
   "metadata": {},
   "outputs": [
    {
     "name": "stdout",
     "output_type": "stream",
     "text": [
      "a\n"
     ]
    }
   ],
   "source": [
    "fruit = 'banana'\n",
    "x = fruit[1]\n",
    "print(x)"
   ]
  },
  {
   "cell_type": "markdown",
   "metadata": {},
   "source": [
    "# Concatenating lists using +\n",
    "\n",
    "- We can create a new list by adding two existing lists together."
   ]
  },
  {
   "cell_type": "code",
   "execution_count": 3,
   "metadata": {},
   "outputs": [
    {
     "name": "stdout",
     "output_type": "stream",
     "text": [
      "[1, 2, 3, 4, 5, 6]\n",
      "[1, 2, 3]\n"
     ]
    }
   ],
   "source": [
    "# Ex1:\n",
    "\n",
    "a = [1, 2, 3]\n",
    "b = [4, 5, 6]\n",
    "c = a + b \n",
    "print(c)\n",
    "print(a)"
   ]
  },
  {
   "cell_type": "markdown",
   "metadata": {},
   "source": [
    "# Slicing lists"
   ]
  },
  {
   "cell_type": "code",
   "execution_count": 7,
   "metadata": {},
   "outputs": [
    {
     "name": "stdout",
     "output_type": "stream",
     "text": [
      "[41, 12]\n",
      "[9, 41, 12, 3]\n",
      "[3, 74, 15]\n",
      "[9, 41, 12, 3, 74, 15]\n"
     ]
    }
   ],
   "source": [
    "# Lists can be sliced using: (exclusivo, ultimo nao entra)\n",
    "\n",
    "t = [9, 41, 12, 3, 74, 15]\n",
    "print(t[1:3])\n",
    "\n",
    "print(t[:4])\n",
    "\n",
    "print(t[3:])\n",
    "\n",
    "print(t[:])"
   ]
  },
  {
   "cell_type": "markdown",
   "metadata": {},
   "source": [
    "# Lists Methods"
   ]
  },
  {
   "cell_type": "code",
   "execution_count": 8,
   "metadata": {},
   "outputs": [
    {
     "data": {
      "text/plain": [
       "list"
      ]
     },
     "execution_count": 8,
     "metadata": {},
     "output_type": "execute_result"
    }
   ],
   "source": [
    "# type()\n",
    "\n",
    "x = list()\n",
    "type(x)"
   ]
  },
  {
   "cell_type": "code",
   "execution_count": 9,
   "metadata": {
    "scrolled": true
   },
   "outputs": [
    {
     "data": {
      "text/plain": [
       "['__add__',\n",
       " '__class__',\n",
       " '__contains__',\n",
       " '__delattr__',\n",
       " '__delitem__',\n",
       " '__dir__',\n",
       " '__doc__',\n",
       " '__eq__',\n",
       " '__format__',\n",
       " '__ge__',\n",
       " '__getattribute__',\n",
       " '__getitem__',\n",
       " '__gt__',\n",
       " '__hash__',\n",
       " '__iadd__',\n",
       " '__imul__',\n",
       " '__init__',\n",
       " '__init_subclass__',\n",
       " '__iter__',\n",
       " '__le__',\n",
       " '__len__',\n",
       " '__lt__',\n",
       " '__mul__',\n",
       " '__ne__',\n",
       " '__new__',\n",
       " '__reduce__',\n",
       " '__reduce_ex__',\n",
       " '__repr__',\n",
       " '__reversed__',\n",
       " '__rmul__',\n",
       " '__setattr__',\n",
       " '__setitem__',\n",
       " '__sizeof__',\n",
       " '__str__',\n",
       " '__subclasshook__',\n",
       " 'append',\n",
       " 'clear',\n",
       " 'copy',\n",
       " 'count',\n",
       " 'extend',\n",
       " 'index',\n",
       " 'insert',\n",
       " 'pop',\n",
       " 'remove',\n",
       " 'reverse',\n",
       " 'sort']"
      ]
     },
     "execution_count": 9,
     "metadata": {},
     "output_type": "execute_result"
    }
   ],
   "source": [
    "dir(x)"
   ]
  },
  {
   "cell_type": "markdown",
   "metadata": {},
   "source": [
    "# Building a list from scratch (constr uma lista do zero)"
   ]
  },
  {
   "cell_type": "code",
   "execution_count": 12,
   "metadata": {},
   "outputs": [
    {
     "name": "stdout",
     "output_type": "stream",
     "text": [
      "['Book', 99]\n",
      "['Book', 99, 'Cookie']\n"
     ]
    }
   ],
   "source": [
    "# building a list from scratch (zero)\n",
    "\n",
    "# stuff = []\n",
    "# or\n",
    "stuff = list()\n",
    "\n",
    "stuff.append('Book')\n",
    "stuff.append(99)\n",
    "print(stuff)\n",
    "\n",
    "stuff.append('Cookie')\n",
    "print(stuff)"
   ]
  },
  {
   "cell_type": "code",
   "execution_count": 15,
   "metadata": {},
   "outputs": [
    {
     "data": {
      "text/plain": [
       "True"
      ]
     },
     "execution_count": 15,
     "metadata": {},
     "output_type": "execute_result"
    }
   ],
   "source": [
    "# Is something in a List?\n",
    "\n",
    "some = [1, 9, 21, 10, 16]\n",
    "\n",
    "9 in some\n",
    "15 in some\n",
    "20 not in some"
   ]
  },
  {
   "cell_type": "code",
   "execution_count": 18,
   "metadata": {},
   "outputs": [
    {
     "name": "stdout",
     "output_type": "stream",
     "text": [
      "['Glenn', 'Joseph', 'Sally']\n",
      "Joseph\n"
     ]
    }
   ],
   "source": [
    "# A list can be sorted\n",
    "\n",
    "friends = ['Joseph', 'Glenn', 'Sally']\n",
    "friends.sort()\n",
    "print(friends)\n",
    "\n",
    "print(friends[1])"
   ]
  },
  {
   "cell_type": "code",
   "execution_count": 19,
   "metadata": {},
   "outputs": [
    {
     "name": "stdout",
     "output_type": "stream",
     "text": [
      "6\n",
      "74\n",
      "3\n",
      "154\n",
      "25.666666666666668\n"
     ]
    }
   ],
   "source": [
    "# Buint-in functions and lists\n",
    "\n",
    "nums = [3, 41, 12, 9, 74, 15]\n",
    "\n",
    "print(len(nums))\n",
    "print(max(nums))\n",
    "print(min(nums))\n",
    "print(sum(nums))\n",
    "print(sum(nums)/len(nums))"
   ]
  },
  {
   "cell_type": "code",
   "execution_count": 22,
   "metadata": {
    "scrolled": true
   },
   "outputs": [
    {
     "name": "stdout",
     "output_type": "stream",
     "text": [
      "Enter a number: 10\n",
      "Enter a number: 20\n",
      "Enter a number: done\n",
      "Average: 15.0\n"
     ]
    }
   ],
   "source": [
    "# 2 codes that makes the same thing\n",
    "\n",
    "# Code1:\n",
    "total = 0\n",
    "count = 0\n",
    "\n",
    "while True:\n",
    "    inp = input('Enter a number: ')\n",
    "    if inp == 'done' : break\n",
    "    value = float(inp)\n",
    "    total = total + value \n",
    "    count = count + 1\n",
    "    \n",
    "average = total / count\n",
    "print('Average:', average)"
   ]
  },
  {
   "cell_type": "code",
   "execution_count": 24,
   "metadata": {},
   "outputs": [
    {
     "name": "stdout",
     "output_type": "stream",
     "text": [
      "Enter a number: 10\n",
      "Enter a number: 20\n",
      "Enter a number: done\n",
      "Average 15.0\n"
     ]
    }
   ],
   "source": [
    "# Code2: using list (cada valor digitiado eh appending na list)\n",
    "\n",
    "numlist = []\n",
    "while True:\n",
    "    inp = input('Enter a number: ')\n",
    "    \n",
    "    if inp == 'done' : break\n",
    "    \n",
    "    value = float(inp)\n",
    "    numlist.append(value)\n",
    "    \n",
    "average = sum(numlist) / len(numlist)\n",
    "print('Average', average)"
   ]
  },
  {
   "cell_type": "markdown",
   "metadata": {},
   "source": [
    "# Strings and Lists = best friends!\n",
    "\n",
    "- Split() breaks a string into parts and produces a list of strings. We can access a particular word or loop through all the words."
   ]
  },
  {
   "cell_type": "code",
   "execution_count": 3,
   "metadata": {},
   "outputs": [
    {
     "name": "stdout",
     "output_type": "stream",
     "text": [
      "['With', 'three', 'words']\n",
      "3\n",
      "With\n"
     ]
    }
   ],
   "source": [
    "# Ex1:\n",
    "\n",
    "abc = 'With three words'\n",
    "\n",
    "stuff = abc.split()\n",
    "print(stuff)\n",
    "\n",
    "print(len(stuff))\n",
    "print(stuff[0])"
   ]
  },
  {
   "cell_type": "code",
   "execution_count": 4,
   "metadata": {},
   "outputs": [
    {
     "name": "stdout",
     "output_type": "stream",
     "text": [
      "['With', 'three', 'words']\n",
      "With\n",
      "three\n",
      "words\n"
     ]
    }
   ],
   "source": [
    "# Loop through \n",
    "print(stuff)\n",
    "\n",
    "for w in stuff:\n",
    "    print(w)"
   ]
  },
  {
   "cell_type": "code",
   "execution_count": 27,
   "metadata": {},
   "outputs": [
    {
     "name": "stdout",
     "output_type": "stream",
     "text": [
      "['A', 'lot', 'of', 'spaces']\n",
      "4\n"
     ]
    }
   ],
   "source": [
    "# Ex2: Spaces\n",
    "\n",
    "line = ' A lot           of spaces'\n",
    "etc = line.split()\n",
    "print(etc)\n",
    "print(len(etc))"
   ]
  },
  {
   "cell_type": "code",
   "execution_count": 9,
   "metadata": {},
   "outputs": [
    {
     "name": "stdout",
     "output_type": "stream",
     "text": [
      "['first;second;third']\n",
      "1\n"
     ]
    }
   ],
   "source": [
    "# Ex3: \n",
    "# Note: the split() is looking for spaces! \n",
    "\n",
    "line2 = 'first;second;third'\n",
    "etc2 = line2.split()\n",
    "print(etc2)\n",
    "print(len(etc2))"
   ]
  },
  {
   "cell_type": "code",
   "execution_count": 8,
   "metadata": {},
   "outputs": [
    {
     "name": "stdout",
     "output_type": "stream",
     "text": [
      "['first', 'second', 'third']\n",
      "3\n"
     ]
    }
   ],
   "source": [
    "# Ex4: Correct way, with the parameter\n",
    "\n",
    "line3 = 'first;second;third'\n",
    "\n",
    "etc3 = line3.split(';')\n",
    "\n",
    "print(etc3)\n",
    "print(len(etc3))"
   ]
  },
  {
   "cell_type": "code",
   "execution_count": 17,
   "metadata": {},
   "outputs": [
    {
     "name": "stdout",
     "output_type": "stream",
     "text": [
      "Sat\n"
     ]
    }
   ],
   "source": [
    "# Ex5: \n",
    "\n",
    "fhand = open('mbox.txt')\n",
    "\n",
    "for line in fhand:\n",
    "    line = line.rstrip()\n",
    "    if not line.startswith('From') : continue\n",
    "    words = line.split()\n",
    "    print(words[2])"
   ]
  },
  {
   "cell_type": "code",
   "execution_count": 20,
   "metadata": {},
   "outputs": [
    {
     "name": "stdout",
     "output_type": "stream",
     "text": [
      "['From', 'stephen.marquard@utc.ac.za', 'Sat', 'Jan', '5', '09:14:16', '2008']\n",
      "7\n"
     ]
    }
   ],
   "source": [
    "# Ex6:\n",
    "\n",
    "sentence = 'From stephen.marquard@utc.ac.za Sat Jan 5 09:14:16 2008'\n",
    "words = sentence.split()\n",
    "print(words)\n",
    "print(len(words))"
   ]
  },
  {
   "cell_type": "markdown",
   "metadata": {},
   "source": [
    "# The double split pattern "
   ]
  },
  {
   "cell_type": "code",
   "execution_count": 37,
   "metadata": {},
   "outputs": [
    {
     "name": "stdout",
     "output_type": "stream",
     "text": [
      "['From', 'stephen.marquard@utc.ac.za', 'Sat', 'Jan', '5', '09:14:16', '2008']\n",
      "stephen.marquard@utc.ac.za\n"
     ]
    }
   ],
   "source": [
    "# Ex1:\n",
    "\n",
    "# 1: Split based on apaces\n",
    "line = 'From stephen.marquard@utc.ac.za Sat Jan  5 09:14:16 2008'\n",
    "words = line.split()\n",
    "print(words)\n",
    "email = words[1]\n",
    "print(email)"
   ]
  },
  {
   "cell_type": "code",
   "execution_count": 40,
   "metadata": {},
   "outputs": [
    {
     "name": "stdout",
     "output_type": "stream",
     "text": [
      "['stephen.marquard', 'utc.ac.za']\n",
      "utc.ac.za\n"
     ]
    }
   ],
   "source": [
    "# 2: Re-split \n",
    "pieces = email.split('@')\n",
    "print(pieces)\n",
    "extencao = pieces[1]\n",
    "print(extencao)"
   ]
  },
  {
   "cell_type": "code",
   "execution_count": 41,
   "metadata": {},
   "outputs": [
    {
     "name": "stdout",
     "output_type": "stream",
     "text": [
      "['utc', 'ac', 'za']\n"
     ]
    }
   ],
   "source": [
    "# 3: Re-re-split \n",
    "final = extencao.split('.')\n",
    "print(final)"
   ]
  },
  {
   "cell_type": "code",
   "execution_count": 51,
   "metadata": {},
   "outputs": [
    {
     "name": "stdout",
     "output_type": "stream",
     "text": [
      "['His', 'e-mail', 'is', 'q-lar@gmail.com']\n",
      "q-lar@gmail.com\n",
      "------------------\n",
      "['q', 'lar@gmail.com']\n",
      "lar@gmail.com\n"
     ]
    }
   ],
   "source": [
    "# Ex2:\n",
    "\n",
    "palavras = 'His e-mail  is q-lar@gmail.com'\n",
    "pedacos = palavras.split()\n",
    "print(pedacos)\n",
    "print(pedacos[3])\n",
    "\n",
    "\n",
    "print('------------------')\n",
    "\n",
    "partes = pedacos[3].split('-')\n",
    "print(partes)\n",
    "n = partes[1]\n",
    "print(n)"
   ]
  },
  {
   "cell_type": "markdown",
   "metadata": {},
   "source": [
    "# end"
   ]
  }
 ],
 "metadata": {
  "kernelspec": {
   "display_name": "Python 3",
   "language": "python",
   "name": "python3"
  },
  "language_info": {
   "codemirror_mode": {
    "name": "ipython",
    "version": 3
   },
   "file_extension": ".py",
   "mimetype": "text/x-python",
   "name": "python",
   "nbconvert_exporter": "python",
   "pygments_lexer": "ipython3",
   "version": "3.7.6"
  }
 },
 "nbformat": 4,
 "nbformat_minor": 4
}
