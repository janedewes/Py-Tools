{
 "cells": [
  {
   "cell_type": "markdown",
   "metadata": {},
   "source": [
    "# 1. Data on the Web\n",
    "\n",
    "- Exchanging data between programs using these protocols (HTTP Request/Response). A way to represent data going between applications and across network are these commonly used formats: XML and JSON."
   ]
  },
  {
   "cell_type": "markdown",
   "metadata": {},
   "source": [
    "### 1.1 XML: eXtensible Markup Language\n",
    "\n",
    "- Tags: indicate the beginning and ending of elements. \n",
    "\n",
    "\n",
    "- Attributes: Keyword/value pairs on the opening tag of XML. \n",
    "\n",
    "\n",
    "- Serialize/De-Serialize: Convert data in one program into a commom format that can be stored and/or transmitted between systems in a programming language-independent manner."
   ]
  },
  {
   "cell_type": "code",
   "execution_count": null,
   "metadata": {},
   "outputs": [],
   "source": [
    "# XML Basics:\n",
    "\n",
    "# Ex01:\n",
    "\n",
    "import xml.etree.ElementTree as ET\n",
    "\n",
    "data = '''<person> \n",
    "\n",
    "    <name>Chuck</name> \n",
    "    \n",
    "    <phone type=\"intl\"> \n",
    "    +1 734 303 4456\n",
    "    </phone>\n",
    "    \n",
    "    <email hide=\"yes\"/>\n",
    "</person>'''\n",
    "\n",
    "tree = ET.fromstring(data)\n",
    "print('Name:',tree.find('name').text)\n",
    "print('Attr:',tree.find('email').get('hide'))"
   ]
  },
  {
   "cell_type": "code",
   "execution_count": null,
   "metadata": {},
   "outputs": [],
   "source": [
    "# Ex02:\n",
    "\n",
    "import xml.etree.ElementTree as ET\n",
    "\n",
    "input = '''<stuff>\n",
    "    <users>\n",
    "        <user x=\"2\">\n",
    "            <id>001</id>\n",
    "            <name>Chuck</name>\n",
    "        </user>\n",
    "        \n",
    "        <user x=\"7\">\n",
    "            <id><009/id>\n",
    "            <name>Brent</name>\n",
    "        </user>\n",
    "    </users>\n",
    "\n",
    "</stuff>'''\n",
    "\n",
    "\n",
    "stuff = ET.fromstring(input)\n",
    "lst = stuff.findall('users/user')\n",
    "print('User count:', len(lst))\n",
    "\n",
    "for item in lst:\n",
    "    print('Name', item.find('name').text)\n",
    "    print('Id', item.find('id').text)\n",
    "    print('Attribute', item.get(\"x\"))"
   ]
  },
  {
   "cell_type": "markdown",
   "metadata": {},
   "source": [
    "### 1.2 JSON: JavaScript Object Notation"
   ]
  },
  {
   "cell_type": "code",
   "execution_count": null,
   "metadata": {},
   "outputs": [],
   "source": []
  }
 ],
 "metadata": {
  "kernelspec": {
   "display_name": "Python 3",
   "language": "python",
   "name": "python3"
  },
  "language_info": {
   "codemirror_mode": {
    "name": "ipython",
    "version": 3
   },
   "file_extension": ".py",
   "mimetype": "text/x-python",
   "name": "python",
   "nbconvert_exporter": "python",
   "pygments_lexer": "ipython3",
   "version": "3.7.6"
  }
 },
 "nbformat": 4,
 "nbformat_minor": 4
}
