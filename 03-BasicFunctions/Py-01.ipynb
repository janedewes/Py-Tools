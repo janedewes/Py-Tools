{
 "cells": [
  {
   "cell_type": "code",
   "execution_count": 1,
   "metadata": {},
   "outputs": [
    {
     "name": "stdout",
     "output_type": "stream",
     "text": [
      "14.0\n"
     ]
    }
   ],
   "source": [
    "# Formula da raiz sem usar raiz: \n",
    "# (ir trocando n pelo resultado anterior)\n",
    "sr_number = 27\n",
    "n = 1\n",
    "\n",
    "result = (n+sr_number/n)/2\n",
    "print(result)"
   ]
  },
  {
   "cell_type": "code",
   "execution_count": 2,
   "metadata": {},
   "outputs": [
    {
     "data": {
      "text/plain": [
       "str"
      ]
     },
     "execution_count": 2,
     "metadata": {},
     "output_type": "execute_result"
    }
   ],
   "source": [
    "# Type()\n",
    "frase = 'My home'\n",
    "\n",
    "type(frase)"
   ]
  },
  {
   "cell_type": "code",
   "execution_count": 3,
   "metadata": {},
   "outputs": [
    {
     "name": "stdout",
     "output_type": "stream",
     "text": [
      "Who are you? Janeci\n",
      "Welcome Janeci !\n"
     ]
    }
   ],
   "source": [
    "# Input()\n",
    "\n",
    "user_name = input('Who are you? ')\n",
    "\n",
    "print('Welcome', user_name,'!')"
   ]
  },
  {
   "cell_type": "code",
   "execution_count": 4,
   "metadata": {},
   "outputs": [
    {
     "name": "stdout",
     "output_type": "stream",
     "text": [
      "Europe floor? 5\n",
      "Nos Estados Unidos voce esta no andar:  6\n"
     ]
    }
   ],
   "source": [
    "# Convertendo dados de input (string)\n",
    "\n",
    "andar_europa = input('Europe floor? ')\n",
    "andar_eua = int(andar_europa) + 1\n",
    "\n",
    "print('Nos Estados Unidos voce esta no andar: ', andar_eua)"
   ]
  },
  {
   "cell_type": "code",
   "execution_count": 1,
   "metadata": {},
   "outputs": [
    {
     "name": "stdout",
     "output_type": "stream",
     "text": [
      "-2.5\n"
     ]
    }
   ],
   "source": [
    "# Tipos de conversao (numeric)\n",
    "print(1 + 2 * float(3) / 4 - 5)"
   ]
  },
  {
   "cell_type": "code",
   "execution_count": 5,
   "metadata": {},
   "outputs": [
    {
     "name": "stdout",
     "output_type": "stream",
     "text": [
      "4.0\n"
     ]
    }
   ],
   "source": [
    "# What will print out after runnning this code?\n",
    "\n",
    "width = 15\n",
    "heigth = 12\n",
    "print(heigth/3)"
   ]
  },
  {
   "cell_type": "code",
   "execution_count": null,
   "metadata": {},
   "outputs": [],
   "source": [
    "# Get the name of the file and open it (PROBLEMA COM O UTF-8)\n",
    "name = input('Enter file: ')\n",
    "handle = open(name, 'r')\n",
    "\n",
    "\n",
    "# Count word frequency \n",
    "counts = dict()\n",
    "for line in handle:\n",
    "    words = line.split()\n",
    "    for word in words:\n",
    "        counts[word] = counts.get(word,0) + 1\n",
    "        \n",
    "\n",
    "# Find the most common word\n",
    "bigcount = None\n",
    "bigword = None \n",
    "for word, count in counts.items():\n",
    "    if bigcount is None or count > bigcount:\n",
    "        bigword = word\n",
    "        bigcount = count\n",
    "        \n",
    "# All done\n",
    "print(bigword, bigcount)"
   ]
  },
  {
   "cell_type": "markdown",
   "metadata": {},
   "source": [
    "# Execussao Condicional \n",
    "\n",
    "# - if"
   ]
  },
  {
   "cell_type": "code",
   "execution_count": 14,
   "metadata": {},
   "outputs": [
    {
     "name": "stdout",
     "output_type": "stream",
     "text": [
      "Equals\n",
      "End of the loop!\n"
     ]
    }
   ],
   "source": [
    "x = 10\n",
    "\n",
    "# Code\n",
    "if x < 10:\n",
    "    print('Smaller')\n",
    "if x == 10:\n",
    "    print('Equals')\n",
    "if x > 10:\n",
    "    print('Bigger')\n",
    "    \n",
    "print('End of the loop!')"
   ]
  },
  {
   "cell_type": "code",
   "execution_count": 21,
   "metadata": {},
   "outputs": [
    {
     "name": "stdout",
     "output_type": "stream",
     "text": [
      "Before 5!\n",
      "Afterwards 5!\n",
      "Before 6!\n",
      "Afterwards 6!\n"
     ]
    }
   ],
   "source": [
    "x = 7\n",
    "\n",
    "# Code\n",
    "print('Before 5!')\n",
    "if x == 5:\n",
    "    print('Is 5')\n",
    "    print('Is still 5')\n",
    "    print('Third 5')\n",
    "    \n",
    "print('Afterwards 5!')\n",
    "print('Before 6!')\n",
    "\n",
    "if x == 6:\n",
    "    print('Is 6')\n",
    "    print('Is still 6')\n",
    "    print('Third 6')\n",
    "\n",
    "print('Afterwards 6!')"
   ]
  },
  {
   "cell_type": "code",
   "execution_count": 26,
   "metadata": {
    "scrolled": true
   },
   "outputs": [
    {
     "name": "stdout",
     "output_type": "stream",
     "text": [
      "Bigger than 2\n",
      "Still bigger\n",
      "Done with 2\n",
      "0\n",
      "Done with i 0\n",
      "1\n",
      "Done with i 1\n",
      "2\n",
      "Done with i 2\n",
      "3\n",
      "Bigger than 2\n",
      "Done with i 3\n",
      "4\n",
      "Bigger than 2\n",
      "Done with i 4\n",
      "All done!\n"
     ]
    }
   ],
   "source": [
    "# Code \n",
    "x = 6\n",
    "\n",
    "if x > 2:\n",
    "    print('Bigger than 2')\n",
    "    print('Still bigger')\n",
    "print('Done with 2')\n",
    "\n",
    "for i in range(5):\n",
    "    print(i)\n",
    "    if i > 2:\n",
    "        print('Bigger than 2')\n",
    "    print('Done with i', i)\n",
    "print('All done!')"
   ]
  },
  {
   "cell_type": "code",
   "execution_count": 30,
   "metadata": {},
   "outputs": [
    {
     "name": "stdout",
     "output_type": "stream",
     "text": [
      "More than one\n",
      "Less than 100\n",
      "All done!\n"
     ]
    }
   ],
   "source": [
    "# Code\n",
    "x = 42\n",
    "\n",
    "if x > 1:\n",
    "    print('More than one')\n",
    "    if x < 100:\n",
    "        print('Less than 100')\n",
    "        \n",
    "print('All done!')"
   ]
  },
  {
   "cell_type": "markdown",
   "metadata": {},
   "source": [
    "# - else"
   ]
  },
  {
   "cell_type": "code",
   "execution_count": 33,
   "metadata": {},
   "outputs": [
    {
     "name": "stdout",
     "output_type": "stream",
     "text": [
      "Bigger\n",
      "All done!\n"
     ]
    }
   ],
   "source": [
    "# Code\n",
    "x = 4\n",
    "\n",
    "if x > 2:\n",
    "    print('Bigger')\n",
    "    \n",
    "else:\n",
    "    print('Smaller')\n",
    "    \n",
    "print('All done!')"
   ]
  },
  {
   "cell_type": "code",
   "execution_count": 39,
   "metadata": {},
   "outputs": [],
   "source": [
    "# Code\n",
    "if 0 == x:\n",
    "    if y == 10:\n",
    "        print('Yes')"
   ]
  },
  {
   "cell_type": "markdown",
   "metadata": {},
   "source": [
    "# - elif"
   ]
  },
  {
   "cell_type": "code",
   "execution_count": 45,
   "metadata": {},
   "outputs": [
    {
     "name": "stdout",
     "output_type": "stream",
     "text": [
      "Medium\n",
      "All done!\n"
     ]
    }
   ],
   "source": [
    "# Code\n",
    "x = 10\n",
    "\n",
    "if x < 2:\n",
    "    print('small')\n",
    "elif x <= 10:\n",
    "    print('Medium')\n",
    "else:\n",
    "    print('LARGE')\n",
    "    \n",
    "print('All done!')"
   ]
  },
  {
   "cell_type": "code",
   "execution_count": 48,
   "metadata": {},
   "outputs": [
    {
     "name": "stdout",
     "output_type": "stream",
     "text": [
      "Huge\n"
     ]
    }
   ],
   "source": [
    "# Code\n",
    "x = 35\n",
    "\n",
    "if x < 2:\n",
    "    print('small')\n",
    "elif x < 10:\n",
    "    print('Medium')\n",
    "elif x < 20:\n",
    "    print('Big')\n",
    "elif x < 30:\n",
    "    print('Large')\n",
    "elif x < 40:\n",
    "    print('Huge')\n",
    "else:\n",
    "    print('Ginormous')"
   ]
  }
 ],
 "metadata": {
  "kernelspec": {
   "display_name": "Python 3",
   "language": "python",
   "name": "python3"
  },
  "language_info": {
   "codemirror_mode": {
    "name": "ipython",
    "version": 3
   },
   "file_extension": ".py",
   "mimetype": "text/x-python",
   "name": "python",
   "nbconvert_exporter": "python",
   "pygments_lexer": "ipython3",
   "version": "3.7.6"
  }
 },
 "nbformat": 4,
 "nbformat_minor": 4
}
