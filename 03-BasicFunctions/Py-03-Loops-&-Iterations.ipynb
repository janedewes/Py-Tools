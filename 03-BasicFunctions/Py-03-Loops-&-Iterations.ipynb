{
 "cells": [
  {
   "cell_type": "markdown",
   "metadata": {},
   "source": [
    "# Loops - Repeated steps\n",
    "\n",
    "# - While"
   ]
  },
  {
   "cell_type": "code",
   "execution_count": 3,
   "metadata": {},
   "outputs": [
    {
     "name": "stdout",
     "output_type": "stream",
     "text": [
      "5\n",
      "4\n",
      "3\n",
      "2\n",
      "1\n",
      "End\n",
      "0\n"
     ]
    }
   ],
   "source": [
    "# Ex1:\n",
    "n = 5\n",
    "while n > 0:\n",
    "    print(n)\n",
    "    n = n - 1\n",
    "print('End')\n",
    "print(n)"
   ]
  },
  {
   "cell_type": "code",
   "execution_count": 5,
   "metadata": {},
   "outputs": [
    {
     "name": "stdout",
     "output_type": "stream",
     "text": [
      "> Hello \n",
      "Hello \n",
      "> hi there\n",
      "hi there\n",
      "> How are you?\n",
      "How are you?\n",
      "> done\n",
      "Done!\n"
     ]
    }
   ],
   "source": [
    "# Ex2:\n",
    "while True:\n",
    "    line = input('> ')\n",
    "    if line == 'done':\n",
    "        break\n",
    "    print(line)\n",
    "print('Done!')"
   ]
  },
  {
   "cell_type": "code",
   "execution_count": 8,
   "metadata": {},
   "outputs": [
    {
     "name": "stdout",
     "output_type": "stream",
     "text": [
      "> hi\n",
      "hi\n",
      "> there\n",
      "there\n",
      "> # don't print this \n",
      "> print this \n",
      "print this \n",
      "> done\n",
      "Done!\n"
     ]
    }
   ],
   "source": [
    "# Ex3:\n",
    "while True:\n",
    "    line = input('> ')\n",
    "    if line[0] == '#':\n",
    "        continue\n",
    "    if line == 'done':\n",
    "        break\n",
    "    print(line)\n",
    "print('Done!')"
   ]
  },
  {
   "cell_type": "code",
   "execution_count": 9,
   "metadata": {},
   "outputs": [
    {
     "name": "stdout",
     "output_type": "stream",
     "text": [
      "0\n",
      "1\n",
      "2\n"
     ]
    }
   ],
   "source": [
    "# Ex4:\n",
    "n = 0\n",
    "while True:\n",
    "    if n == 3:\n",
    "        break\n",
    "    print(n)\n",
    "    n = n + 1"
   ]
  },
  {
   "cell_type": "markdown",
   "metadata": {},
   "source": [
    "# Definite loops\n",
    "\n",
    "# - For"
   ]
  },
  {
   "cell_type": "code",
   "execution_count": 10,
   "metadata": {},
   "outputs": [
    {
     "name": "stdout",
     "output_type": "stream",
     "text": [
      "5\n",
      "4\n",
      "3\n",
      "2\n",
      "1\n",
      "End\n"
     ]
    }
   ],
   "source": [
    "# Ex1:\n",
    "for i in [5, 4, 3, 2, 1]:\n",
    "    print(i)\n",
    "print('End')"
   ]
  },
  {
   "cell_type": "code",
   "execution_count": 11,
   "metadata": {},
   "outputs": [
    {
     "name": "stdout",
     "output_type": "stream",
     "text": [
      "Happy New Year: Jane\n",
      "Happy New Year: Paloma\n",
      "Happy New Year: Claudia\n",
      "Happy New Year: Ana\n",
      "Done!\n"
     ]
    }
   ],
   "source": [
    "# Ex2:\n",
    "friends = ['Jane', 'Paloma', 'Claudia', 'Ana']\n",
    "for friend in friends:\n",
    "    print('Happy New Year:', friend)\n",
    "print('Done!')"
   ]
  },
  {
   "cell_type": "code",
   "execution_count": 12,
   "metadata": {},
   "outputs": [
    {
     "name": "stdout",
     "output_type": "stream",
     "text": [
      "2\n",
      "1\n",
      "5\n"
     ]
    }
   ],
   "source": [
    "# Ex3:\n",
    "for i in [2,1,5]:\n",
    "    print(i)"
   ]
  },
  {
   "cell_type": "code",
   "execution_count": 13,
   "metadata": {},
   "outputs": [
    {
     "name": "stdout",
     "output_type": "stream",
     "text": [
      "Before\n",
      "9\n",
      "41\n",
      "12\n",
      "3\n",
      "74\n",
      "15\n",
      "After\n"
     ]
    }
   ],
   "source": [
    "# Ex4:\n",
    "\n",
    "print('Before')\n",
    "for thing in [9, 41, 12, 3, 74, 15]:\n",
    "    print(thing)\n",
    "print('After')"
   ]
  },
  {
   "cell_type": "code",
   "execution_count": 14,
   "metadata": {},
   "outputs": [
    {
     "name": "stdout",
     "output_type": "stream",
     "text": [
      "Before -1\n",
      "9 9\n",
      "41 41\n",
      "41 12\n",
      "41 3\n",
      "74 74\n",
      "74 15\n",
      "After 74\n"
     ]
    }
   ],
   "source": [
    "# Ex5: Maior numero da lista \n",
    "\n",
    "maior_ate_agora = -1 \n",
    "print('Before', maior_ate_agora)\n",
    "\n",
    "for o_numero in [9, 41, 12, 3, 74, 15]:\n",
    "    if o_numero > maior_ate_agora:\n",
    "        maior_ate_agora = o_numero\n",
    "    print(maior_ate_agora, o_numero)\n",
    "    \n",
    "print('After', maior_ate_agora)\n",
    "\n",
    "# Note que: voce mantem sempre o maior numero que foi encontrado, ate encontrar algum que seja maior. "
   ]
  },
  {
   "cell_type": "code",
   "execution_count": 16,
   "metadata": {},
   "outputs": [
    {
     "name": "stdout",
     "output_type": "stream",
     "text": [
      "Before: None\n",
      "Menor 3\n"
     ]
    }
   ],
   "source": [
    "# Ex6:\n",
    "menor = None\n",
    "print('Before:', menor)\n",
    "\n",
    "for itervar in [3, 41, 12, 9, 74, 15]:\n",
    "    if menor is None or itervar < menor:\n",
    "        menor = itervar\n",
    "        break\n",
    "    print('Loop:', itervar, menor)\n",
    "print('Menor', menor)"
   ]
  },
  {
   "cell_type": "code",
   "execution_count": 19,
   "metadata": {},
   "outputs": [
    {
     "name": "stdout",
     "output_type": "stream",
     "text": [
      "Before 0\n",
      "1 9\n",
      "2 41\n",
      "3 12\n",
      "4 3\n",
      "5 74\n",
      "6 15\n",
      "After 6\n"
     ]
    }
   ],
   "source": [
    "# Ex7:\n",
    "\n",
    "# Number of elements\n",
    "contagem_elementos = 0\n",
    "print('Before', contagem_elementos)\n",
    "\n",
    "for thing in [9, 41, 12, 3, 74, 15]:\n",
    "    contagem_elementos = contagem_elementos + 1    \n",
    "    print(contagem_elementos, thing)\n",
    "    \n",
    "print('After', contagem_elementos)"
   ]
  },
  {
   "cell_type": "code",
   "execution_count": 24,
   "metadata": {},
   "outputs": [
    {
     "name": "stdout",
     "output_type": "stream",
     "text": [
      "Before =  0\n",
      "9 9\n",
      "50 41\n",
      "62 12\n",
      "65 3\n",
      "139 74\n",
      "154 15\n",
      "After =  154\n"
     ]
    }
   ],
   "source": [
    "# Ex8:\n",
    "\n",
    "# Soma dos elementos\n",
    "soma_elementos = 0\n",
    "print('Before = ', soma_elementos)\n",
    "\n",
    "for thing in [9, 41, 12, 3, 74, 15]:\n",
    "    soma_elementos = soma_elementos + thing\n",
    "    print(soma_elementos, thing)\n",
    "\n",
    "print('After = ', soma_elementos)"
   ]
  },
  {
   "cell_type": "code",
   "execution_count": 43,
   "metadata": {},
   "outputs": [
    {
     "name": "stdout",
     "output_type": "stream",
     "text": [
      "Before: 0 0\n",
      "1 9 9\n",
      "2 50 41\n",
      "3 62 12\n",
      "4 65 3\n",
      "5 139 74\n",
      "6 154 15\n",
      "After: \n",
      " Contagem dos elementos =  6 \n",
      " Soma dos elementos =  154 \n",
      " Media dos elementos =  25.666666666666668\n"
     ]
    }
   ],
   "source": [
    "# Ex8:\n",
    "# Media dos elementos \n",
    "count = 0\n",
    "sum = 0\n",
    "\n",
    "# Soma\n",
    "print('Before:', count, sum)\n",
    "for value in [9, 41, 12, 3, 74, 15]:\n",
    "    count = count + 1\n",
    "    sum = sum + value\n",
    "    print(count, sum, value)\n",
    "    \n",
    "# Media\n",
    "print('After:', '\\n Contagem dos elementos = ', count, \n",
    "      '\\n Soma dos elementos = ',sum, \n",
    "      '\\n Media dos elementos = ', sum/count)"
   ]
  },
  {
   "cell_type": "code",
   "execution_count": 53,
   "metadata": {},
   "outputs": [
    {
     "name": "stdout",
     "output_type": "stream",
     "text": [
      "Before\n",
      "9 eh MENOR do que 20.\n",
      "41 eh MAIOR do que 20.\n",
      "12 eh MENOR do que 20.\n",
      "3 eh MENOR do que 20.\n",
      "74 eh MAIOR do que 20.\n",
      "15 eh MENOR do que 20.\n",
      "After\n"
     ]
    }
   ],
   "source": [
    "# Ex9:\n",
    "# Filtrando dentro do loop\n",
    "\n",
    "print('Before')\n",
    "for value in [9, 41, 12, 3, 74, 15]:\n",
    "    if value > 20:\n",
    "        print(value, 'eh MAIOR do que 20.')\n",
    "    else:\n",
    "        print(value, 'eh MENOR do que 20.')\n",
    "print('After')"
   ]
  },
  {
   "cell_type": "code",
   "execution_count": 54,
   "metadata": {},
   "outputs": [
    {
     "name": "stdout",
     "output_type": "stream",
     "text": [
      "Before False\n",
      "False 9\n",
      "False 41\n",
      "False 12\n",
      "True 3\n",
      "True 74\n",
      "True 15\n",
      "After True\n"
     ]
    }
   ],
   "source": [
    "# Ex10:\n",
    "# Ao encontrar o 3 na lista, os valores seguintes serao True.\n",
    "\n",
    "found = False\n",
    "print('Before', found)\n",
    "\n",
    "for value in [9, 41, 12, 3, 74, 15]:\n",
    "    if value == 3:\n",
    "        found = True\n",
    "    print(found, value)\n",
    "print('After', found)"
   ]
  },
  {
   "cell_type": "code",
   "execution_count": 55,
   "metadata": {},
   "outputs": [
    {
     "name": "stdout",
     "output_type": "stream",
     "text": [
      "Before\n",
      "9 9\n",
      "9 41\n",
      "9 12\n",
      "3 3\n",
      "3 74\n",
      "3 15\n",
      "After 3\n"
     ]
    }
   ],
   "source": [
    "# Ex11:\n",
    "# Encontrar o menor valor\n",
    "\n",
    "menor_valor = None\n",
    "print('Before')\n",
    "\n",
    "for value in [9, 41, 12, 3, 74, 15]:\n",
    "    if menor_valor is None:\n",
    "        menor_valor = value\n",
    "    elif value < menor_valor:\n",
    "        menor_valor = value\n",
    "    print(menor_valor, value)\n",
    "    \n",
    "print('After', menor_valor)"
   ]
  },
  {
   "cell_type": "code",
   "execution_count": 59,
   "metadata": {},
   "outputs": [
    {
     "data": {
      "text/plain": [
       "True"
      ]
     },
     "execution_count": 59,
     "metadata": {},
     "output_type": "execute_result"
    }
   ],
   "source": [
    "# Ex12:\n",
    "\n",
    "0 == 0.0"
   ]
  },
  {
   "cell_type": "code",
   "execution_count": 60,
   "metadata": {},
   "outputs": [
    {
     "data": {
      "text/plain": [
       "False"
      ]
     },
     "execution_count": 60,
     "metadata": {},
     "output_type": "execute_result"
    }
   ],
   "source": [
    "0 is 0.0"
   ]
  },
  {
   "cell_type": "code",
   "execution_count": 61,
   "metadata": {},
   "outputs": [
    {
     "data": {
      "text/plain": [
       "True"
      ]
     },
     "execution_count": 61,
     "metadata": {},
     "output_type": "execute_result"
    }
   ],
   "source": [
    "0 is not 0.0"
   ]
  }
 ],
 "metadata": {
  "kernelspec": {
   "display_name": "Python 3",
   "language": "python",
   "name": "python3"
  },
  "language_info": {
   "codemirror_mode": {
    "name": "ipython",
    "version": 3
   },
   "file_extension": ".py",
   "mimetype": "text/x-python",
   "name": "python",
   "nbconvert_exporter": "python",
   "pygments_lexer": "ipython3",
   "version": "3.7.6"
  }
 },
 "nbformat": 4,
 "nbformat_minor": 4
}
