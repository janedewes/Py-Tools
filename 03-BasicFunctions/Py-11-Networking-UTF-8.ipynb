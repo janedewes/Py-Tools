{
 "cells": [
  {
   "cell_type": "markdown",
   "metadata": {},
   "source": [
    "# 1. Text Processing\n",
    "\n",
    "- ASCII - American Standard Code for Information Interchange.\n",
    "\n",
    "- Each character is represented by a number between 0 and 256 stored in 8 bits of memory. \n",
    "\n",
    "- We refer to \"8bits of memory as a \"byte\" of memory. \n",
    "\n",
    "- The ord() function tells us the numeric value of a simple ASCII characher.\n",
    "\n",
    "\n",
    "\n",
    "- Unicode: to represent the wide range of characters computers must handle we represent characters with more than one byte. \n",
    "\n",
    "- *ASCII - 1 byte*\n",
    "- UTF-16 - Fixed length - Two bytes\n",
    "- UTF-32 - Fixed length - Four bytes\n",
    "- UTF-8 - 1-4 bytes\n",
    "\n",
    "- Upwards compatible with ASCII \n",
    "- Automatic detection between ASCII and UTF-8\n",
    "- UTF-8 is recommended practice for encoding data to be exchanged between systems.\n",
    "\n",
    "\n",
    "- In Python 3, all strings internally are UNICODE!\n",
    "- When we talk to a network resource using sockets or talk to a databse we have to encode and decode data (usually to UTF-8)"
   ]
  },
  {
   "cell_type": "code",
   "execution_count": 1,
   "metadata": {},
   "outputs": [
    {
     "name": "stdout",
     "output_type": "stream",
     "text": [
      "72\n"
     ]
    }
   ],
   "source": [
    "print(ord('H'))"
   ]
  },
  {
   "cell_type": "code",
   "execution_count": 3,
   "metadata": {},
   "outputs": [
    {
     "name": "stdout",
     "output_type": "stream",
     "text": [
      "104\n"
     ]
    }
   ],
   "source": [
    "print(ord('h'))"
   ]
  },
  {
   "cell_type": "code",
   "execution_count": 2,
   "metadata": {},
   "outputs": [
    {
     "name": "stdout",
     "output_type": "stream",
     "text": [
      "101\n"
     ]
    }
   ],
   "source": [
    "print(ord('e'))"
   ]
  },
  {
   "cell_type": "code",
   "execution_count": 4,
   "metadata": {},
   "outputs": [
    {
     "name": "stdout",
     "output_type": "stream",
     "text": [
      "10\n"
     ]
    }
   ],
   "source": [
    "print(ord('\\n'))"
   ]
  },
  {
   "cell_type": "markdown",
   "metadata": {},
   "source": [
    "## 2. Python Strings to Bytes\n",
    "\n",
    "- When we talk to an external resource like a network socket we send bytes, so we need to encode Python3 strings into a given character encoding. \n",
    "\n",
    "\n",
    "- When we read data from an external resource, we must decode it based on the character set so it is properly represented in Python3 as a string."
   ]
  },
  {
   "cell_type": "code",
   "execution_count": null,
   "metadata": {},
   "outputs": [],
   "source": [
    "# Ex: decode() - receiving from external source: \n",
    "\n",
    "while True:\n",
    "    data = mysock.recv(512)\n",
    "    if ( len(data) < 1 ):\n",
    "        break\n",
    "    mystring = data.decode()\n",
    "    print(mystring)"
   ]
  },
  {
   "cell_type": "code",
   "execution_count": null,
   "metadata": {},
   "outputs": [],
   "source": [
    "# Ex: encode() - sending to external source:\n",
    "\n",
    "# Browser (you say hello, is the protocol)\n",
    "cmd = 'GET http://data.pr4e.org/romeo.txt HTTP/1.0\\r\\n\\r\\n'.encode()\n",
    "mysock.send(cmd)"
   ]
  },
  {
   "cell_type": "code",
   "execution_count": null,
   "metadata": {},
   "outputs": [],
   "source": [
    "# Complete ex: encode() -> send() -> (socket - network) -> recv() -> decode()\n",
    "\n",
    "import socket\n",
    "\n",
    "# Create socket (ring phone call)\n",
    "mysock = socket.socket(socket.AF_INET, socket.SOCK_STREAM)\n",
    "mysock.connect(('data.pr4e.org', 80)) # blow up if the software is not running!\n",
    "\n",
    "# Browser (you say hello, is the protocol)\n",
    "cmd = 'GET http://data.pr4e.org/romeo.txt HTTP/1.0\\r\\n\\r\\n'.encode()\n",
    "mysock.send(cmd)\n",
    "\n",
    "# the server send data back and we choose to receive with a loop while\n",
    "\n",
    "while True:\n",
    "    data = mysock.recv(512)\n",
    "    if len(data) < 1:\n",
    "        break\n",
    "    print(data.decode(),end='') # decode() because is coming from outside world!\n",
    "mysock.close()"
   ]
  }
 ],
 "metadata": {
  "kernelspec": {
   "display_name": "Python 3",
   "language": "python",
   "name": "python3"
  },
  "language_info": {
   "codemirror_mode": {
    "name": "ipython",
    "version": 3
   },
   "file_extension": ".py",
   "mimetype": "text/x-python",
   "name": "python",
   "nbconvert_exporter": "python",
   "pygments_lexer": "ipython3",
   "version": "3.7.6"
  }
 },
 "nbformat": 4,
 "nbformat_minor": 4
}
