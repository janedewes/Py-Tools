{
 "cells": [
  {
   "cell_type": "markdown",
   "metadata": {},
   "source": [
    "# String\n",
    "\n",
    "- Is a sequence of characteres '  ' or \"  \"\n",
    "- '+' menas \"concatenate\"\n",
    "- \"123\" still a string.\n",
    "- int() to convert in numbers."
   ]
  },
  {
   "cell_type": "code",
   "execution_count": 1,
   "metadata": {},
   "outputs": [
    {
     "name": "stdout",
     "output_type": "stream",
     "text": [
      "Hello There\n"
     ]
    }
   ],
   "source": [
    "# Ex1:\n",
    "\n",
    "str1 = \"Hello \"\n",
    "str2 = 'There'\n",
    "\n",
    "bob = str1 + str2\n",
    "print(bob)"
   ]
  },
  {
   "cell_type": "code",
   "execution_count": 2,
   "metadata": {},
   "outputs": [
    {
     "name": "stdout",
     "output_type": "stream",
     "text": [
      "124\n"
     ]
    }
   ],
   "source": [
    "# Ex2:\n",
    "\n",
    "# string\n",
    "str3 = '123' \n",
    "\n",
    "x = int(str3) + 1\n",
    "print(x)"
   ]
  },
  {
   "cell_type": "code",
   "execution_count": 3,
   "metadata": {},
   "outputs": [
    {
     "name": "stdout",
     "output_type": "stream",
     "text": [
      "Name: jane\n",
      "jane\n",
      "Number of apples: 6\n",
      "Order: \n",
      "You bougth 6 apples and get 10 extra, \n",
      " Total: 16 Apples\n"
     ]
    }
   ],
   "source": [
    "# Ex3:\n",
    "\n",
    "\n",
    "# An apple order: if you buy apples you get 10 extra.\n",
    "name = input('Name: ')\n",
    "print(name)\n",
    "\n",
    "apple = input('Number of apples: ')\n",
    "\n",
    "x = int(apple) + 10\n",
    "print(\"Order: \\n\" \"You bougth\", apple, \"apples\", \"and get 10 extra, \\n\",\"Total:\", x, \"Apples\")"
   ]
  },
  {
   "cell_type": "code",
   "execution_count": 4,
   "metadata": {},
   "outputs": [
    {
     "name": "stdout",
     "output_type": "stream",
     "text": [
      "a\n"
     ]
    }
   ],
   "source": [
    "# Ex4:\n",
    "\n",
    "# OBS: A indexacao em Py comeca em zero!\n",
    "\n",
    "fruit = 'banana'\n",
    "letter = fruit[1]\n",
    "print(letter)"
   ]
  },
  {
   "cell_type": "code",
   "execution_count": 5,
   "metadata": {},
   "outputs": [
    {
     "name": "stdout",
     "output_type": "stream",
     "text": [
      "b\n"
     ]
    }
   ],
   "source": [
    "# Continuacao:\n",
    "x = 1\n",
    "\n",
    "w = fruit[x - 1]\n",
    "print(w)"
   ]
  },
  {
   "cell_type": "code",
   "execution_count": 6,
   "metadata": {},
   "outputs": [
    {
     "name": "stdout",
     "output_type": "stream",
     "text": [
      "6\n"
     ]
    }
   ],
   "source": [
    "# Ex5: len(parameter)\n",
    "\n",
    "fruit = 'Banana'\n",
    "print(len(fruit))"
   ]
  },
  {
   "cell_type": "markdown",
   "metadata": {},
   "source": [
    "# Looping through strings"
   ]
  },
  {
   "cell_type": "code",
   "execution_count": 15,
   "metadata": {},
   "outputs": [
    {
     "name": "stdout",
     "output_type": "stream",
     "text": [
      "Digite o nome da fruta: maracuja\n",
      "0 m\n",
      "1 a\n",
      "2 r\n",
      "3 a\n",
      "4 c\n",
      "5 u\n",
      "6 j\n",
      "7 a\n"
     ]
    }
   ],
   "source": [
    "# Ex6: While\n",
    "\n",
    "fruta = input('Digite o nome da fruta: ')\n",
    "indx = 0\n",
    "letra = fruta[0]\n",
    " \n",
    "while indx < len(fruta):\n",
    "    letra = fruta[indx]\n",
    "    print(indx, letra)\n",
    "    indx = indx + 1"
   ]
  },
  {
   "cell_type": "code",
   "execution_count": 18,
   "metadata": {},
   "outputs": [
    {
     "name": "stdout",
     "output_type": "stream",
     "text": [
      "Digite a fruta: laranja\n",
      "l\n",
      "a\n",
      "r\n",
      "a\n",
      "n\n",
      "j\n",
      "a\n"
     ]
    }
   ],
   "source": [
    "# Ex7: For \n",
    "\n",
    "fruta_1 = input('Digite a fruta: ')\n",
    "for letra_1 in fruta_1:\n",
    "    print(letra_1)"
   ]
  },
  {
   "cell_type": "code",
   "execution_count": 21,
   "metadata": {},
   "outputs": [
    {
     "name": "stdout",
     "output_type": "stream",
     "text": [
      "Digite a fruta: banana\n",
      "0\n",
      "1\n",
      "1\n",
      "2\n",
      "2\n",
      "3\n"
     ]
    }
   ],
   "source": [
    "# Ex8: count\n",
    "\n",
    "fruta_2 = input('Digite a fruta: ')\n",
    "count = 0\n",
    "for letra_2 in fruta_2:\n",
    "    if letra_2 == 'a':\n",
    "        count = count + 1\n",
    "    print(count)"
   ]
  },
  {
   "cell_type": "code",
   "execution_count": 24,
   "metadata": {},
   "outputs": [
    {
     "name": "stdout",
     "output_type": "stream",
     "text": [
      "B\n",
      "a\n",
      "n\n",
      "a\n",
      "n\n",
      "a\n",
      "s\n"
     ]
    }
   ],
   "source": [
    "# Ex9: 'for' and 'in'\n",
    "\n",
    "for letras in 'Bananas' :\n",
    "    print(letras)"
   ]
  },
  {
   "cell_type": "code",
   "execution_count": 25,
   "metadata": {},
   "outputs": [
    {
     "name": "stdout",
     "output_type": "stream",
     "text": [
      "b\n",
      "a\n",
      "n\n",
      "a\n",
      "n\n",
      "a\n"
     ]
    }
   ],
   "source": [
    "for n in 'banana':\n",
    "    print(n)"
   ]
  },
  {
   "cell_type": "markdown",
   "metadata": {},
   "source": [
    "# Intermediate Strings"
   ]
  },
  {
   "cell_type": "code",
   "execution_count": 9,
   "metadata": {},
   "outputs": [
    {
     "name": "stdout",
     "output_type": "stream",
     "text": [
      "Mont\n",
      "P\n",
      "Python\n",
      "------\n",
      "Mo\n",
      "thon\n",
      "Monty Python\n"
     ]
    }
   ],
   "source": [
    "# Ex1:\n",
    "\n",
    "# Py e' exclusivo(nao conta o ultimo) e comeca em zero!\n",
    "\n",
    "s = 'Monty Python'\n",
    "print(s[0:4])\n",
    "print(s[6:7])\n",
    "print(s[6:20])\n",
    "print('------')\n",
    "print(s[:2])\n",
    "print(s[8:])\n",
    "print(s[:])"
   ]
  },
  {
   "cell_type": "code",
   "execution_count": 12,
   "metadata": {},
   "outputs": [
    {
     "data": {
      "text/plain": [
       "True"
      ]
     },
     "execution_count": 12,
     "metadata": {},
     "output_type": "execute_result"
    }
   ],
   "source": [
    "# Ex2: \n",
    "# Using 'in' as a logial Operator\n",
    "\n",
    "fruta_5 = 'Banana'\n",
    "'n' in fruta_5"
   ]
  },
  {
   "cell_type": "code",
   "execution_count": 13,
   "metadata": {},
   "outputs": [
    {
     "name": "stdout",
     "output_type": "stream",
     "text": [
      "Found it!\n"
     ]
    }
   ],
   "source": [
    "# Continuacao:\n",
    "if 'a' in fruta_5:\n",
    "    print('Found it!')"
   ]
  },
  {
   "cell_type": "code",
   "execution_count": 19,
   "metadata": {},
   "outputs": [
    {
     "name": "stdout",
     "output_type": "stream",
     "text": [
      "Your word,abacaxi, comes before banana.\n"
     ]
    }
   ],
   "source": [
    "# Ex3:\n",
    "\n",
    "# String comparison  obs: observe lower and upper cases.\n",
    "\n",
    "word = 'abacaxi'\n",
    "\n",
    "# Se for igual \n",
    "if word == 'banana':\n",
    "    print('All right, bananas.')\n",
    "\n",
    "# Se comecar antes de b:  \n",
    "if word < 'banana':\n",
    "    print('Your word,' + word + ', comes before banana.')\n",
    "\n",
    "# Se comecar depois do b:\n",
    "elif word > 'banana':\n",
    "    print('Your word,' + word + ', comes after banana.')\n",
    "    \n",
    "else:\n",
    "    print('All right, bananas.')"
   ]
  },
  {
   "cell_type": "markdown",
   "metadata": {},
   "source": [
    "# String Library "
   ]
  },
  {
   "cell_type": "code",
   "execution_count": 24,
   "metadata": {},
   "outputs": [
    {
     "name": "stdout",
     "output_type": "stream",
     "text": [
      "Hello Bob\n",
      "hello bob\n",
      "hi there\n",
      "HI THERE\n"
     ]
    }
   ],
   "source": [
    "# Ex1:\n",
    "\n",
    "greet = 'Hello Bob'\n",
    "print(greet)\n",
    "\n",
    "zap = greet.lower()\n",
    "print(zap)\n",
    "\n",
    "\n",
    "print('Hi There'.lower())\n",
    "\n",
    "print('Hi There'.upper())"
   ]
  },
  {
   "cell_type": "code",
   "execution_count": 25,
   "metadata": {},
   "outputs": [
    {
     "data": {
      "text/plain": [
       "str"
      ]
     },
     "execution_count": 25,
     "metadata": {},
     "output_type": "execute_result"
    }
   ],
   "source": [
    "# fc type()\n",
    "stuff = 'Hello World'\n",
    "type(stuff)"
   ]
  },
  {
   "cell_type": "code",
   "execution_count": 26,
   "metadata": {
    "scrolled": true
   },
   "outputs": [
    {
     "data": {
      "text/plain": [
       "['__add__',\n",
       " '__class__',\n",
       " '__contains__',\n",
       " '__delattr__',\n",
       " '__dir__',\n",
       " '__doc__',\n",
       " '__eq__',\n",
       " '__format__',\n",
       " '__ge__',\n",
       " '__getattribute__',\n",
       " '__getitem__',\n",
       " '__getnewargs__',\n",
       " '__gt__',\n",
       " '__hash__',\n",
       " '__init__',\n",
       " '__init_subclass__',\n",
       " '__iter__',\n",
       " '__le__',\n",
       " '__len__',\n",
       " '__lt__',\n",
       " '__mod__',\n",
       " '__mul__',\n",
       " '__ne__',\n",
       " '__new__',\n",
       " '__reduce__',\n",
       " '__reduce_ex__',\n",
       " '__repr__',\n",
       " '__rmod__',\n",
       " '__rmul__',\n",
       " '__setattr__',\n",
       " '__sizeof__',\n",
       " '__str__',\n",
       " '__subclasshook__',\n",
       " 'capitalize',\n",
       " 'casefold',\n",
       " 'center',\n",
       " 'count',\n",
       " 'encode',\n",
       " 'endswith',\n",
       " 'expandtabs',\n",
       " 'find',\n",
       " 'format',\n",
       " 'format_map',\n",
       " 'index',\n",
       " 'isalnum',\n",
       " 'isalpha',\n",
       " 'isascii',\n",
       " 'isdecimal',\n",
       " 'isdigit',\n",
       " 'isidentifier',\n",
       " 'islower',\n",
       " 'isnumeric',\n",
       " 'isprintable',\n",
       " 'isspace',\n",
       " 'istitle',\n",
       " 'isupper',\n",
       " 'join',\n",
       " 'ljust',\n",
       " 'lower',\n",
       " 'lstrip',\n",
       " 'maketrans',\n",
       " 'partition',\n",
       " 'replace',\n",
       " 'rfind',\n",
       " 'rindex',\n",
       " 'rjust',\n",
       " 'rpartition',\n",
       " 'rsplit',\n",
       " 'rstrip',\n",
       " 'split',\n",
       " 'splitlines',\n",
       " 'startswith',\n",
       " 'strip',\n",
       " 'swapcase',\n",
       " 'title',\n",
       " 'translate',\n",
       " 'upper',\n",
       " 'zfill']"
      ]
     },
     "execution_count": 26,
     "metadata": {},
     "output_type": "execute_result"
    }
   ],
   "source": [
    "# Mostra os diferentes metodos (o que podemos fazer com essa STRING!)\n",
    "dir(stuff)"
   ]
  },
  {
   "cell_type": "code",
   "execution_count": 56,
   "metadata": {},
   "outputs": [
    {
     "data": {
      "text/plain": [
       "2"
      ]
     },
     "execution_count": 56,
     "metadata": {},
     "output_type": "execute_result"
    }
   ],
   "source": [
    "# Contar os seguintes elementos na sentenca:\n",
    "stuff.count('o')"
   ]
  },
  {
   "cell_type": "code",
   "execution_count": 32,
   "metadata": {},
   "outputs": [
    {
     "data": {
      "text/plain": [
       "False"
      ]
     },
     "execution_count": 32,
     "metadata": {},
     "output_type": "execute_result"
    }
   ],
   "source": [
    "# Tem espaco na sentenca?\n",
    "stuff.isspace()"
   ]
  },
  {
   "cell_type": "code",
   "execution_count": 36,
   "metadata": {},
   "outputs": [
    {
     "data": {
      "text/plain": [
       "4"
      ]
     },
     "execution_count": 36,
     "metadata": {},
     "output_type": "execute_result"
    }
   ],
   "source": [
    "# O primeiro 'o' aparece na posicao 4!\n",
    "stuff.find('o')"
   ]
  },
  {
   "cell_type": "code",
   "execution_count": 58,
   "metadata": {},
   "outputs": [
    {
     "name": "stdout",
     "output_type": "stream",
     "text": [
      "123.0\n",
      "<class 'float'>\n",
      "123.0\n",
      "<class 'str'>\n"
     ]
    }
   ],
   "source": [
    "# Conversao de tipos\n",
    "x = '123'\n",
    "y = float(x)\n",
    "print(y)\n",
    "print(type(y))\n",
    "\n",
    "\n",
    "z = str(y)\n",
    "print(z)\n",
    "print(type(z))"
   ]
  },
  {
   "cell_type": "code",
   "execution_count": 62,
   "metadata": {},
   "outputs": [
    {
     "name": "stdout",
     "output_type": "stream",
     "text": [
      "Hello Jane!\n",
      "HellX BXb!\n"
     ]
    }
   ],
   "source": [
    "# Metodo replace()\n",
    "ola = 'Hello Bob!'\n",
    "\n",
    "string_1 = ola.replace('Bob', 'Jane')\n",
    "print(string_1)\n",
    "\n",
    "string_2 = ola.replace('o', 'X')\n",
    "print(string_2)"
   ]
  },
  {
   "cell_type": "code",
   "execution_count": 67,
   "metadata": {},
   "outputs": [
    {
     "data": {
      "text/plain": [
       "'Hello Bob'"
      ]
     },
     "execution_count": 67,
     "metadata": {},
     "output_type": "execute_result"
    }
   ],
   "source": [
    "# Metodos para remover espacos:\n",
    "# lstrip() remove a esquerda\n",
    "# rstrip() remove a direita\n",
    "# strip() remove ambos os lados\n",
    "\n",
    "oie = '    Hello Bob  '\n",
    "\n",
    "oie.lstrip()\n",
    "oie.rstrip()\n",
    "oie.strip()"
   ]
  },
  {
   "cell_type": "code",
   "execution_count": 71,
   "metadata": {},
   "outputs": [
    {
     "data": {
      "text/plain": [
       "False"
      ]
     },
     "execution_count": 71,
     "metadata": {},
     "output_type": "execute_result"
    }
   ],
   "source": [
    "# Prefixos\n",
    "\n",
    "line = 'Please have a nice day!'\n",
    "\n",
    "line.startswith('Please')\n",
    "line.startswith('p')"
   ]
  },
  {
   "cell_type": "markdown",
   "metadata": {},
   "source": [
    "# Análise e extração"
   ]
  },
  {
   "cell_type": "code",
   "execution_count": 77,
   "metadata": {},
   "outputs": [
    {
     "name": "stdout",
     "output_type": "stream",
     "text": [
      "21\n",
      "31\n",
      "utc.ac.za\n"
     ]
    }
   ],
   "source": [
    "# Análise e extração\n",
    "\n",
    "data = 'From stephen.marquard@utc.ac.za Sat Jan  5 09:14:16 2018'\n",
    "\n",
    "# saida e' a posicao do caracter:\n",
    "atpos = data.find('@')\n",
    "print(atpos)\n",
    "\n",
    "# o primeiro espaco depois do caracter de definido acima:\n",
    "sppos = data.find(' ', atpos)\n",
    "print(sppos)\n",
    "\n",
    "# posicao a partir do @ (indexacao comeca em zero! por isso + 1 e exclusivo p ultimo caracter):\n",
    "host = data[atpos+1 : sppos]\n",
    "print(host)"
   ]
  },
  {
   "cell_type": "code",
   "execution_count": 79,
   "metadata": {},
   "outputs": [
    {
     "name": "stdout",
     "output_type": "stream",
     "text": [
      "2\n"
     ]
    }
   ],
   "source": [
    "# Ex:\n",
    "word_1 = 'bananana'\n",
    "\n",
    "i = word_1.find('na')\n",
    "print(i)"
   ]
  }
 ],
 "metadata": {
  "kernelspec": {
   "display_name": "Python 3",
   "language": "python",
   "name": "python3"
  },
  "language_info": {
   "codemirror_mode": {
    "name": "ipython",
    "version": 3
   },
   "file_extension": ".py",
   "mimetype": "text/x-python",
   "name": "python",
   "nbconvert_exporter": "python",
   "pygments_lexer": "ipython3",
   "version": "3.7.6"
  }
 },
 "nbformat": 4,
 "nbformat_minor": 4
}
