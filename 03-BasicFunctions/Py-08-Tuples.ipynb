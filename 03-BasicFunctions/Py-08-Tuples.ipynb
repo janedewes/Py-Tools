{
 "cells": [
  {
   "cell_type": "markdown",
   "metadata": {},
   "source": [
    "# 1. Tuples\n",
    "\n",
    "- Tuples are another kind of sequence that fucntions much like a list - they have elements which are indexed starting at 0.\n",
    "\n",
    "- TUPLES ARE \"IMMUTABLE\" - unlike a list, once you create a tuple, you cannot alter its contents - similar to a string. \n",
    "\n",
    "\n",
    "#### Tuples are more efficient\n",
    "\n",
    "- Since Py does not have to build tuple structures to be modifiable, they are simpler and more efficient in terms of memory use and performance than lists. \n",
    "\n",
    "- So in our program when we are making \"temporary variables\" we prefer tuples over lists."
   ]
  },
  {
   "cell_type": "code",
   "execution_count": 5,
   "metadata": {},
   "outputs": [
    {
     "name": "stdout",
     "output_type": "stream",
     "text": [
      "('Glenn', 'Sally', 'Joseph')\n",
      "Joseph\n",
      "(1, 9, 2)\n",
      "9\n",
      "1\n",
      "9\n",
      "2\n"
     ]
    }
   ],
   "source": [
    "# Ex1:\n",
    "\n",
    "x = ('Glenn', 'Sally', 'Joseph')\n",
    "print(x)\n",
    "print(x[2])\n",
    "\n",
    "\n",
    "# Ex2:\n",
    "y = (1, 9, 2)\n",
    "print(y)\n",
    "print(max(y))\n",
    "\n",
    "\n",
    "# Ex3:\n",
    "for iter in y:\n",
    "    print(iter)"
   ]
  },
  {
   "cell_type": "code",
   "execution_count": 10,
   "metadata": {},
   "outputs": [
    {
     "name": "stdout",
     "output_type": "stream",
     "text": [
      "[9, 8, 6]\n"
     ]
    },
    {
     "ename": "TypeError",
     "evalue": "'str' object does not support item assignment",
     "output_type": "error",
     "traceback": [
      "\u001b[0;31m---------------------------------------------------------------------------\u001b[0m",
      "\u001b[0;31mTypeError\u001b[0m                                 Traceback (most recent call last)",
      "\u001b[0;32m<ipython-input-10-d3413d86db81>\u001b[0m in \u001b[0;36m<module>\u001b[0;34m\u001b[0m\n\u001b[1;32m      7\u001b[0m \u001b[0;31m# Strings: Error\u001b[0m\u001b[0;34m\u001b[0m\u001b[0;34m\u001b[0m\u001b[0;34m\u001b[0m\u001b[0m\n\u001b[1;32m      8\u001b[0m \u001b[0mc\u001b[0m \u001b[0;34m=\u001b[0m \u001b[0;34m'ABC'\u001b[0m\u001b[0;34m\u001b[0m\u001b[0;34m\u001b[0m\u001b[0m\n\u001b[0;32m----> 9\u001b[0;31m \u001b[0mc\u001b[0m\u001b[0;34m[\u001b[0m\u001b[0;36m2\u001b[0m\u001b[0;34m]\u001b[0m \u001b[0;34m=\u001b[0m \u001b[0;34m'D'\u001b[0m\u001b[0;34m\u001b[0m\u001b[0;34m\u001b[0m\u001b[0m\n\u001b[0m\u001b[1;32m     10\u001b[0m \u001b[0;34m\u001b[0m\u001b[0m\n\u001b[1;32m     11\u001b[0m \u001b[0;31m# Tuples: Error\u001b[0m\u001b[0;34m\u001b[0m\u001b[0;34m\u001b[0m\u001b[0;34m\u001b[0m\u001b[0m\n",
      "\u001b[0;31mTypeError\u001b[0m: 'str' object does not support item assignment"
     ]
    }
   ],
   "source": [
    "# Lists \n",
    "x = [9, 8, 7]\n",
    "x[2] = 6\n",
    "print(x)\n",
    "\n",
    "\n",
    "# Strings: Error\n",
    "c = 'ABC'\n",
    "c[2] = 'D'\n",
    "\n",
    "# Tuples: Error\n",
    "z = (5, 4, 3)\n",
    "z[2] = 0\n",
    "print(z)"
   ]
  },
  {
   "cell_type": "markdown",
   "metadata": {},
   "source": [
    "## 1.1 Things not to do with tuples"
   ]
  },
  {
   "cell_type": "code",
   "execution_count": 12,
   "metadata": {},
   "outputs": [
    {
     "ename": "AttributeError",
     "evalue": "'tuple' object has no attribute 'sort'",
     "output_type": "error",
     "traceback": [
      "\u001b[0;31m---------------------------------------------------------------------------\u001b[0m",
      "\u001b[0;31mAttributeError\u001b[0m                            Traceback (most recent call last)",
      "\u001b[0;32m<ipython-input-12-072cccd4aeb2>\u001b[0m in \u001b[0;36m<module>\u001b[0;34m\u001b[0m\n\u001b[1;32m      1\u001b[0m \u001b[0;31m# Ex1:\u001b[0m\u001b[0;34m\u001b[0m\u001b[0;34m\u001b[0m\u001b[0;34m\u001b[0m\u001b[0m\n\u001b[1;32m      2\u001b[0m \u001b[0mx\u001b[0m \u001b[0;34m=\u001b[0m \u001b[0;34m(\u001b[0m\u001b[0;36m3\u001b[0m\u001b[0;34m,\u001b[0m \u001b[0;36m2\u001b[0m\u001b[0;34m,\u001b[0m \u001b[0;36m1\u001b[0m\u001b[0;34m)\u001b[0m\u001b[0;34m\u001b[0m\u001b[0;34m\u001b[0m\u001b[0m\n\u001b[0;32m----> 3\u001b[0;31m \u001b[0mx\u001b[0m\u001b[0;34m.\u001b[0m\u001b[0msort\u001b[0m\u001b[0;34m(\u001b[0m\u001b[0;34m)\u001b[0m\u001b[0;34m\u001b[0m\u001b[0;34m\u001b[0m\u001b[0m\n\u001b[0m\u001b[1;32m      4\u001b[0m \u001b[0;34m\u001b[0m\u001b[0m\n\u001b[1;32m      5\u001b[0m \u001b[0;31m# Ex2:\u001b[0m\u001b[0;34m\u001b[0m\u001b[0;34m\u001b[0m\u001b[0;34m\u001b[0m\u001b[0m\n",
      "\u001b[0;31mAttributeError\u001b[0m: 'tuple' object has no attribute 'sort'"
     ]
    }
   ],
   "source": [
    "# Ex1:\n",
    "x = (3, 2, 1)\n",
    "x.sort()\n",
    "\n",
    "# Ex2:\n",
    "x.append(5)\n",
    "\n",
    "# Ex3: \n",
    "x.reverse()"
   ]
  },
  {
   "cell_type": "markdown",
   "metadata": {},
   "source": [
    "## 1.2 A table of two sequences"
   ]
  },
  {
   "cell_type": "code",
   "execution_count": 13,
   "metadata": {
    "scrolled": true
   },
   "outputs": [
    {
     "data": {
      "text/plain": [
       "['__add__',\n",
       " '__class__',\n",
       " '__contains__',\n",
       " '__delattr__',\n",
       " '__delitem__',\n",
       " '__dir__',\n",
       " '__doc__',\n",
       " '__eq__',\n",
       " '__format__',\n",
       " '__ge__',\n",
       " '__getattribute__',\n",
       " '__getitem__',\n",
       " '__gt__',\n",
       " '__hash__',\n",
       " '__iadd__',\n",
       " '__imul__',\n",
       " '__init__',\n",
       " '__init_subclass__',\n",
       " '__iter__',\n",
       " '__le__',\n",
       " '__len__',\n",
       " '__lt__',\n",
       " '__mul__',\n",
       " '__ne__',\n",
       " '__new__',\n",
       " '__reduce__',\n",
       " '__reduce_ex__',\n",
       " '__repr__',\n",
       " '__reversed__',\n",
       " '__rmul__',\n",
       " '__setattr__',\n",
       " '__setitem__',\n",
       " '__sizeof__',\n",
       " '__str__',\n",
       " '__subclasshook__',\n",
       " 'append',\n",
       " 'clear',\n",
       " 'copy',\n",
       " 'count',\n",
       " 'extend',\n",
       " 'index',\n",
       " 'insert',\n",
       " 'pop',\n",
       " 'remove',\n",
       " 'reverse',\n",
       " 'sort']"
      ]
     },
     "execution_count": 13,
     "metadata": {},
     "output_type": "execute_result"
    }
   ],
   "source": [
    "# Methods that can be used in a list:\n",
    "\n",
    "l = list()\n",
    "dir(l)"
   ]
  },
  {
   "cell_type": "code",
   "execution_count": 14,
   "metadata": {
    "scrolled": true
   },
   "outputs": [
    {
     "data": {
      "text/plain": [
       "['__add__',\n",
       " '__class__',\n",
       " '__contains__',\n",
       " '__delattr__',\n",
       " '__dir__',\n",
       " '__doc__',\n",
       " '__eq__',\n",
       " '__format__',\n",
       " '__ge__',\n",
       " '__getattribute__',\n",
       " '__getitem__',\n",
       " '__getnewargs__',\n",
       " '__gt__',\n",
       " '__hash__',\n",
       " '__init__',\n",
       " '__init_subclass__',\n",
       " '__iter__',\n",
       " '__le__',\n",
       " '__len__',\n",
       " '__lt__',\n",
       " '__mul__',\n",
       " '__ne__',\n",
       " '__new__',\n",
       " '__reduce__',\n",
       " '__reduce_ex__',\n",
       " '__repr__',\n",
       " '__rmul__',\n",
       " '__setattr__',\n",
       " '__sizeof__',\n",
       " '__str__',\n",
       " '__subclasshook__',\n",
       " 'count',\n",
       " 'index']"
      ]
     },
     "execution_count": 14,
     "metadata": {},
     "output_type": "execute_result"
    }
   ],
   "source": [
    "# Methods that can be used in a tuple:\n",
    "\n",
    "t = tuple()\n",
    "dir(t)\n",
    "\n",
    "\n",
    "\n",
    "# Note just: 'count' and 'index'."
   ]
  },
  {
   "cell_type": "markdown",
   "metadata": {},
   "source": [
    "## 1.3 Tuples and assignment (atribuicao)\n",
    " \n",
    "- We can also put a tuple on the left-and side of an assignment statement. \n",
    "\n",
    "- We can even omit the parentheses. \n",
    "\n"
   ]
  },
  {
   "cell_type": "code",
   "execution_count": 16,
   "metadata": {},
   "outputs": [
    {
     "name": "stdout",
     "output_type": "stream",
     "text": [
      "Fred\n",
      "99\n"
     ]
    }
   ],
   "source": [
    "# Ex1: \n",
    "\n",
    "(x, y) = (4, 'Fred')\n",
    "print(y)\n",
    "\n",
    "\n",
    "# Ex2:\n",
    "(a, b) = (99, 98)\n",
    "print(a)"
   ]
  },
  {
   "cell_type": "markdown",
   "metadata": {},
   "source": [
    "## 1.4 Tuples and Dictionaries\n",
    "\n",
    "- The items() method in dictionaries returns a list of (key, value) tuples. "
   ]
  },
  {
   "cell_type": "code",
   "execution_count": 20,
   "metadata": {},
   "outputs": [
    {
     "name": "stdout",
     "output_type": "stream",
     "text": [
      "csev 2\n",
      "cwen 4\n",
      "dict_items([('csev', 2), ('cwen', 4)])\n"
     ]
    }
   ],
   "source": [
    "# Ex1:\n",
    "\n",
    "d = dict()\n",
    "d['csev'] = 2\n",
    "d['cwen'] = 4\n",
    "\n",
    "for (k,v) in d.items():\n",
    "    print(k, v)\n",
    "    \n",
    "   \n",
    "\n",
    "\n",
    "    \n",
    "# Ex2:\n",
    "tups = d.items()\n",
    "print(tups)"
   ]
  },
  {
   "cell_type": "markdown",
   "metadata": {},
   "source": [
    "## 1.5 Tuples are Comparable\n",
    "\n",
    "- The comparison operators work with tuples and other sequences. If the item is equal, Py goes on to the next element, and so on, until it finds elements that differ. "
   ]
  },
  {
   "cell_type": "code",
   "execution_count": 21,
   "metadata": {},
   "outputs": [
    {
     "data": {
      "text/plain": [
       "True"
      ]
     },
     "execution_count": 21,
     "metadata": {},
     "output_type": "execute_result"
    }
   ],
   "source": [
    "# Ex1: verificacao `e feita pela ordem dos elementos\n",
    "(0, 1, 2) < (5, 1, 2)"
   ]
  },
  {
   "cell_type": "code",
   "execution_count": 23,
   "metadata": {},
   "outputs": [
    {
     "data": {
      "text/plain": [
       "True"
      ]
     },
     "execution_count": 23,
     "metadata": {},
     "output_type": "execute_result"
    }
   ],
   "source": [
    "# Ex2:\n",
    "(0, 1, 200000000) < (0, 3, 4)"
   ]
  },
  {
   "cell_type": "code",
   "execution_count": 25,
   "metadata": {},
   "outputs": [
    {
     "data": {
      "text/plain": [
       "True"
      ]
     },
     "execution_count": 25,
     "metadata": {},
     "output_type": "execute_result"
    }
   ],
   "source": [
    "# Ex3:\n",
    "('Jonas', 'Sally') < ('Jonas', 'Sam')"
   ]
  },
  {
   "cell_type": "code",
   "execution_count": 26,
   "metadata": {},
   "outputs": [
    {
     "data": {
      "text/plain": [
       "True"
      ]
     },
     "execution_count": 26,
     "metadata": {},
     "output_type": "execute_result"
    }
   ],
   "source": [
    "# Ex4:\n",
    "('Jones', 'Sally') > ('Adams', 'Sam')"
   ]
  },
  {
   "cell_type": "code",
   "execution_count": 27,
   "metadata": {},
   "outputs": [
    {
     "name": "stdout",
     "output_type": "stream",
     "text": [
      "quincy 1\n",
      "beau 5\n",
      "kris 9\n"
     ]
    }
   ],
   "source": [
    "# Ex final:\n",
    "\n",
    "d = dict()\n",
    "\n",
    "d['quincy'] = 1\n",
    "d['beau'] = 5\n",
    "d['kris'] = 9\n",
    "\n",
    "for (k,i) in d.items():\n",
    "    print(k,i)"
   ]
  },
  {
   "cell_type": "markdown",
   "metadata": {},
   "source": [
    "# 2. Comparing and Sorting Tuples"
   ]
  },
  {
   "cell_type": "markdown",
   "metadata": {},
   "source": [
    "## 2.1 Sorting Lists of Tuples  (by key)\n",
    "\n",
    "- To sort a list of tuples to get a sorted version of a dict.\n",
    "\n",
    "- First we sort the dict by the key using the items() method and sorted() function. "
   ]
  },
  {
   "cell_type": "code",
   "execution_count": 13,
   "metadata": {},
   "outputs": [
    {
     "name": "stdout",
     "output_type": "stream",
     "text": [
      "{'a': 10, 'c': 1, 'b': 22}\n"
     ]
    },
    {
     "data": {
      "text/plain": [
       "[('a', 10), ('b', 22), ('c', 1)]"
      ]
     },
     "execution_count": 13,
     "metadata": {},
     "output_type": "execute_result"
    }
   ],
   "source": [
    "# Ex1:\n",
    "\n",
    "d = {'a':10, 'c':1, 'b':22}\n",
    "\n",
    "# items() method: \n",
    "d.items()\n",
    "print(d)\n",
    "\n",
    "\n",
    "# Sorted (ordem): (by key)\n",
    "sorted(d.items())"
   ]
  },
  {
   "cell_type": "code",
   "execution_count": 16,
   "metadata": {},
   "outputs": [
    {
     "name": "stdout",
     "output_type": "stream",
     "text": [
      "[('x', 10), ('y', 25), ('z', 30)]\n",
      "x 10\n",
      "y 25\n",
      "z 30\n"
     ]
    }
   ],
   "source": [
    "# Ex2:\n",
    "\n",
    "d = {'x':10, 'z':30, 'y':25}\n",
    "\n",
    "# Faz o sorted() de acordo com a key\n",
    "t = sorted(d.items())\n",
    "print(t)\n",
    "\n",
    "\n",
    "# Ou \n",
    "for k, v in sorted(d.items()):\n",
    "    print(k,v)"
   ]
  },
  {
   "cell_type": "markdown",
   "metadata": {},
   "source": [
    "## 2.2 Sort by values (instead of key)\n",
    "\n",
    "- If we could construct a list of tuples of the form (value, key) we could sort by values.\n",
    "- We do this with a \"for\" loop that creates a list of tuples. "
   ]
  },
  {
   "cell_type": "code",
   "execution_count": 18,
   "metadata": {},
   "outputs": [
    {
     "name": "stdout",
     "output_type": "stream",
     "text": [
      "[(10, 'a'), (1, 'b'), (22, 'c')]\n",
      "[(22, 'c'), (10, 'a'), (1, 'b')]\n"
     ]
    }
   ],
   "source": [
    "# Ex1: \n",
    "\n",
    "c = {'a':10, 'b':1, 'c':22}\n",
    "tmp = list()\n",
    "\n",
    "for k,v in c.items():\n",
    "    tmp.append( (v,k))\n",
    "    \n",
    "print(tmp)\n",
    "\n",
    "\n",
    "# Ordenar (agora by value)\n",
    "tmp = sorted(tmp, reverse=True)\n",
    "print(tmp)"
   ]
  },
  {
   "cell_type": "markdown",
   "metadata": {},
   "source": [
    "## 2.3 Even shorter version  (List comprehension)\n",
    "\n",
    "- List Comprehension creates a dynamic list. In this case, we make a list of reversed tuples and then sort it. "
   ]
  },
  {
   "cell_type": "code",
   "execution_count": 20,
   "metadata": {},
   "outputs": [
    {
     "name": "stdout",
     "output_type": "stream",
     "text": [
      "[(1, 'b'), (10, 'a'), (22, 'c')]\n"
     ]
    }
   ],
   "source": [
    "# Ex1: Lish Comprehension\n",
    "\n",
    "h = {'a':10, 'b':1, 'c':22}\n",
    "\n",
    "print( sorted( [ (v,k) for k,v in h.items() ] ) )"
   ]
  },
  {
   "cell_type": "markdown",
   "metadata": {},
   "source": [
    "## 2.4 Ex: The 10 most common words"
   ]
  },
  {
   "cell_type": "code",
   "execution_count": 27,
   "metadata": {},
   "outputs": [
    {
     "name": "stdout",
     "output_type": "stream",
     "text": [
      "de 16\n",
      "o 12\n",
      "com 8\n",
      "pelo 5\n",
      "no 5\n",
      "focos 5\n",
      "registrados 4\n",
      "queimadas 4\n",
      "foram 4\n",
      "e 4\n"
     ]
    }
   ],
   "source": [
    "# Open file, create dict\n",
    "fhand = open('mbox.txt')\n",
    "counts = dict()\n",
    "\n",
    "# split\n",
    "for line in fhand:\n",
    "    words = line.split()\n",
    "    \n",
    "    # count\n",
    "    for word in words:\n",
    "        counts[word] = counts.get(word, 0) + 1\n",
    "\n",
    "# Ate aqui eh feito a contagem (sem ordenacao!) -----        \n",
    "\n",
    "\n",
    "# create list\n",
    "lst = list()\n",
    "for key, val in counts.items():\n",
    "    newtup = (val, key)\n",
    "    lst.append(newtup)\n",
    "    \n",
    "# Ate aqui temos uma lista de tuplas--- (v,k), (v,k)....        \n",
    "\n",
    "\n",
    "# Ordena de forma reversa\n",
    "lst = sorted(lst, reverse=True)\n",
    "\n",
    "\n",
    "# Queremos (k,v)---------------------------------------\n",
    "# 10 common words\n",
    "for val, key in lst[:10]:\n",
    "    print(key, val)\n"
   ]
  },
  {
   "cell_type": "code",
   "execution_count": 28,
   "metadata": {},
   "outputs": [
    {
     "name": "stdout",
     "output_type": "stream",
     "text": [
      "[(16, 'de'), (12, 'o'), (8, 'com'), (5, 'pelo'), (5, 'no'), (5, 'focos'), (4, 'registrados'), (4, 'queimadas'), (4, 'foram'), (4, 'e'), (3, 'mês'), (3, 'já'), (3, 'em'), (2, 'órgão'), (2, 'é'), (2, 'terceiro'), (2, 'segundo'), (2, 'registradas'), (2, 'queimadas,'), (2, 'que'), (2, 'quando'), (2, 'para'), (2, 'outubro'), (2, 'os'), (2, 'números'), (2, 'número'), (2, 'maior'), (2, 'janeiro'), (2, 'divulgados'), (2, 'dados'), (2, 'ano'), (2, 'O'), (2, 'Amazonas'), (2, '2021'), (1, '\\ufeffO'), (1, 'últimos'), (1, 'última'), (1, 'órgão.'), (1, 'índices'), (1, 'índice'), (1, 'vez'), (1, 'tão'), (1, 'tomadas'), (1, 'todo'), (1, 'tiveram'), (1, 'tido'), (1, 'teve'), (1, 'só'), (1, 'setembro,'), (1, 'sendo'), (1, 'saber'), (1, 'resposta.'), (1, 'registraram'), (1, 'registrar'), (1, 'quais'), (1, 'primeiros'), (1, 'pior'), (1, 'novembro,'), (1, 'novembro'), (1, 'nos'), (1, 'mil'), (1, 'meses'), (1, 'medidas'), (1, 'mais'), (1, 'maiores.'), (1, 'maiores'), (1, 'levantamento'), (1, 'incêndio.'), (1, 'incêndio'), (1, 'havia'), (1, 'g1'), (1, 'foi'), (1, 'focos.'), (1, 'feito'), (1, 'estão'), (1, 'estado.'), (1, 'estado'), (1, 'entrou'), (1, 'dois'), (1, 'do'), (1, 'dias'), (1, 'dia'), (1, 'contato'), (1, 'começou'), (1, 'combater'), (1, 'cinco'), (1, 'avanço'), (1, 'até'), (1, 'as'), (1, 'anos.'), (1, 'anos'), (1, 'ano.'), (1, 'ano,'), (1, 'altos'), (1, 'aguarda'), (1, 'agosto,'), (1, 'acordo'), (1, 'a'), (1, 'Pesquisa'), (1, 'Os'), (1, 'Nacional'), (1, 'Instituto'), (1, 'Inpe.'), (1, 'Inpe,'), (1, 'Governo'), (1, 'Foram'), (1, 'Espacial'), (1, 'Entre'), (1, 'Durante'), (1, 'Desde'), (1, 'De'), (1, 'Amazonas.'), (1, 'Amazonas,'), (1, 'A'), (1, '8.588'), (1, '3'), (1, '2021,'), (1, '2020'), (1, '2016,'), (1, '2005,'), (1, '2.799'), (1, '1998,'), (1, '16.729,'), (1, '15.644'), (1, '14.617'), (1, '14'), (1, '1.913'), (1, '1.773'), (1, '(Inpe).')]\n"
     ]
    }
   ],
   "source": [
    "# Mesmo ex anterior agora com List Comprehension (parte de criar uma lista de tuplas e ordenar)\n",
    "\n",
    "print( sorted( [(v,k) for k,v in counts.items() ], reverse=True))"
   ]
  },
  {
   "cell_type": "code",
   "execution_count": 26,
   "metadata": {},
   "outputs": [
    {
     "name": "stdout",
     "output_type": "stream",
     "text": [
      "[-3, 0, 2, 5, 8, 10, 16, 24]\n",
      "[24, 16, 10, 8, 5, 2, 0, -3]\n"
     ]
    }
   ],
   "source": [
    "# Ex fc sorted()\n",
    "\n",
    "x = [8, 5, 10, 2, 16, 24, 0, -3]\n",
    "    \n",
    "print(sorted(x))    \n",
    "print(sorted(x, reverse=True))"
   ]
  },
  {
   "cell_type": "markdown",
   "metadata": {},
   "source": [
    "### End"
   ]
  }
 ],
 "metadata": {
  "kernelspec": {
   "display_name": "Python 3",
   "language": "python",
   "name": "python3"
  },
  "language_info": {
   "codemirror_mode": {
    "name": "ipython",
    "version": 3
   },
   "file_extension": ".py",
   "mimetype": "text/x-python",
   "name": "python",
   "nbconvert_exporter": "python",
   "pygments_lexer": "ipython3",
   "version": "3.7.6"
  }
 },
 "nbformat": 4,
 "nbformat_minor": 4
}
