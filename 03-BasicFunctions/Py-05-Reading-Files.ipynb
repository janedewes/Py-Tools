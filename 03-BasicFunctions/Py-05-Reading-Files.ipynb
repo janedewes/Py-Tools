{
 "cells": [
  {
   "cell_type": "markdown",
   "metadata": {},
   "source": [
    "# Reading Files"
   ]
  },
  {
   "cell_type": "code",
   "execution_count": 1,
   "metadata": {},
   "outputs": [
    {
     "name": "stdout",
     "output_type": "stream",
     "text": [
      "<_io.TextIOWrapper name='pythonlearn.pdf' mode='r' encoding='UTF-8'>\n"
     ]
    }
   ],
   "source": [
    "# Open file fc: open()\n",
    "\n",
    "fhand = open('pythonlearn.pdf', 'r')\n",
    "print(fhand)"
   ]
  },
  {
   "cell_type": "code",
   "execution_count": 2,
   "metadata": {},
   "outputs": [
    {
     "name": "stdout",
     "output_type": "stream",
     "text": [
      "Hello \n",
      " World\n"
     ]
    }
   ],
   "source": [
    "# The new line character: \\n\n",
    "\n",
    "stuff = 'Hello \\n World'\n",
    "print(stuff)"
   ]
  },
  {
   "cell_type": "code",
   "execution_count": 3,
   "metadata": {},
   "outputs": [
    {
     "name": "stdout",
     "output_type": "stream",
     "text": [
      "X\n",
      "Y\n"
     ]
    }
   ],
   "source": [
    "# \\n para quebrar linha de um unico caracter:\n",
    "algo = 'X\\nY'\n",
    "print(algo)"
   ]
  },
  {
   "cell_type": "code",
   "execution_count": 4,
   "metadata": {},
   "outputs": [
    {
     "data": {
      "text/plain": [
       "3"
      ]
     },
     "execution_count": 4,
     "metadata": {},
     "output_type": "execute_result"
    }
   ],
   "source": [
    "len(algo)"
   ]
  },
  {
   "cell_type": "markdown",
   "metadata": {},
   "source": [
    "# File handle as a sequence"
   ]
  },
  {
   "cell_type": "code",
   "execution_count": 5,
   "metadata": {},
   "outputs": [
    {
     "name": "stdout",
     "output_type": "stream",
     "text": [
      "﻿Lorem ipsum quisque mi ut justo sodales dictumst vulputate, libero senectus odio sed magna tempus justo cras, quam donec in volutpat sodales aptent etiam. gravida eget in adipiscing tristique nunc libero ullamcorper varius volutpat suscipit quis, amet dui suspendisse faucibus mauris sagittis ante urna convallis sed, nullam tristique gravida consectetur semper sapien viverra iaculis egestas blandit. fusce erat purus leo massa bibendum sed molestie eros, fusce maecenas torquent ante egestas taciti etiam, accumsan tellus vel fringilla egestas amet quis. semper ut nisl aliquam sed fusce mattis purus nunc mollis duis, ligula id etiam augue primis aptent habitant euismod facilisis quam, habitasse nisi luctus magna suspendisse condimentum himenaeos commodo malesuada. \n",
      "\n",
      "\n",
      "\n",
      "Cubilia quisque facilisis viverra potenti non fusce sit porta, eros dapibus suscipit a lectus curabitur pretium tortor himenaeos, aliquam etiam nulla fames accumsan velit habitant. inceptos vestibulum aliquet pellentesque vitae at, aliquam nec aenean feugiat rutrum congue, adipiscing laoreet justo aptent. senectus in quisque tempus nunc mauris amet tortor, class nulla erat porttitor sem maecenas facilisis, gravida purus odio suscipit nostra sodales, augue lectus bibendum etiam pharetra augue. sit platea vehicula vel ad velit dapibus vehicula integer blandit lorem ipsum turpis, consectetur diam nunc placerat turpis conubia nunc dapibus fermentum ligula purus. \n",
      "\n",
      "\n",
      "\n",
      "Sagittis ad tellus fermentum nam aliquam aenean mollis ipsum habitasse odio, libero auctor taciti nunc commodo sem vitae sagittis cubilia, quam cursus quisque convallis etiam hac cras velit convallis. nunc torquent ligula sociosqu integer tortor in elementum tempus, imperdiet eros non vel vitae quisque non lobortis porta, aptent egestas eleifend nulla mauris lacinia convallis. at torquent urna in eu praesent interdum venenatis vestibulum elit eget euismod, nunc hendrerit pellentesque class in vivamus porta turpis sociosqu. luctus accumsan tristique lectus mi consequat aliquam lacus adipiscing quisque vehicula vitae, vivamus enim et at nullam auctor iaculis nulla quisque. \n",
      "\n",
      "\n",
      "\n",
      "Leo quisque nam libero vestibulum arcu mi purus, facilisis proin aliquam viverra eu quam, maecenas elit molestie imperdiet sollicitudin velit. augue malesuada iaculis a fusce lorem risus tristique vestibulum etiam adipiscing per, praesent vehicula inceptos faucibus integer sodales nulla lobortis aptent fames, ullamcorper morbi congue dolor tristique nec lacinia nulla consectetur lacinia. eleifend purus interdum magna elit lacus consequat consectetur et massa, lectus malesuada aenean mattis conubia hac turpis condimentum dui, libero lorem turpis mauris sem convallis hac quisque. dui malesuada nec laoreet aliquam congue dolor cras ligula massa, neque id molestie elementum ultrices egestas ligula quisque elit nisl, sociosqu sagittis etiam pulvinar euismod torquent urna mi. \n",
      "\n",
      "\n",
      "\n",
      "Tempus ad turpis rutrum suspendisse nisl lectus turpis nostra, ultrices congue porta semper lacinia imperdiet consectetur, elit fames per primis mollis vulputate phasellus. porttitor cubilia nisl odio euismod taciti libero aliquet hendrerit curabitur id per rhoncus ipsum, porta habitasse eros lorem metus curabitur venenatis aliquet convallis imperdiet aliquam elit. tempor non sollicitudin eu ornare tincidunt pellentesque sociosqu tempus, eros vitae interdum consequat integer curabitur lacinia, phasellus platea morbi ac tristique phasellus aliquet. netus felis vel dui malesuada auctor interdum fusce non libero torquent fermentum mattis, ut massa aenean lacinia donec tristique ut nec dictumst ornare sodales. \n",
      "\n"
     ]
    }
   ],
   "source": [
    "# Open and read lines\n",
    "\n",
    "xfile = open('mbox.txt')\n",
    "for line in xfile:\n",
    "    print(line)"
   ]
  },
  {
   "cell_type": "code",
   "execution_count": 6,
   "metadata": {},
   "outputs": [
    {
     "name": "stdout",
     "output_type": "stream",
     "text": [
      "Line Count: 9\n"
     ]
    }
   ],
   "source": [
    "# Counting lines in a file\n",
    "\n",
    "file_hand = open('mbox.txt')\n",
    "count = 0\n",
    "\n",
    "for line in file_hand:\n",
    "    count = count + 1\n",
    "print('Line Count:', count)\n"
   ]
  },
  {
   "cell_type": "markdown",
   "metadata": {},
   "source": [
    "# Reading the *Whole* file"
   ]
  },
  {
   "cell_type": "code",
   "execution_count": 7,
   "metadata": {},
   "outputs": [
    {
     "name": "stdout",
     "output_type": "stream",
     "text": [
      "3625\n",
      "﻿Lorem ipsum quisque mi ut justo sodales dictumst \n"
     ]
    }
   ],
   "source": [
    "# Open the file\n",
    "whand = open('mbox.txt')\n",
    "\n",
    "# Put in a variable\n",
    "inp = whand.read()\n",
    "print(len(inp))\n",
    "\n",
    "\n",
    "# split by indentation\n",
    "print(inp[:50])"
   ]
  },
  {
   "cell_type": "markdown",
   "metadata": {},
   "source": [
    "# Searching through a file"
   ]
  },
  {
   "cell_type": "code",
   "execution_count": 10,
   "metadata": {},
   "outputs": [
    {
     "name": "stdout",
     "output_type": "stream",
     "text": [
      "Tempus ad turpis rutrum suspendisse nisl lectus turpis nostra, ultrices congue porta semper lacinia imperdiet consectetur, elit fames per primis mollis vulputate phasellus. porttitor cubilia nisl odio euismod taciti libero aliquet hendrerit curabitur id per rhoncus ipsum, porta habitasse eros lorem metus curabitur venenatis aliquet convallis imperdiet aliquam elit. tempor non sollicitudin eu ornare tincidunt pellentesque sociosqu tempus, eros vitae interdum consequat integer curabitur lacinia, phasellus platea morbi ac tristique phasellus aliquet. netus felis vel dui malesuada auctor interdum fusce non libero torquent fermentum mattis, ut massa aenean lacinia donec tristique ut nec dictumst ornare sodales.\n"
     ]
    }
   ],
   "source": [
    "# Skipping with continue\n",
    "\n",
    "# Open the file\n",
    "whand = open('mbox.txt')\n",
    "\n",
    "for line in whand:\n",
    "    line = line.rstrip()\n",
    "    if not line.startswith('Tempus'): # criterio (linha que comeca com Tempus)\n",
    "        continue\n",
    "    print(line)"
   ]
  },
  {
   "cell_type": "markdown",
   "metadata": {},
   "source": [
    "# Prompt for file name (solicitar o nome do arquivo)"
   ]
  },
  {
   "cell_type": "code",
   "execution_count": 15,
   "metadata": {},
   "outputs": [
    {
     "name": "stdout",
     "output_type": "stream",
     "text": [
      "Enter the file name: mbox.txt\n",
      "There were 1  line(s) starting with word `Tempus` in mbox.txt\n"
     ]
    }
   ],
   "source": [
    "# Ex1:\n",
    "fname = input('Enter the file name: ')\n",
    "\n",
    "thand = open(fname)\n",
    "count = 0\n",
    "for line in thand:\n",
    "    if line.startswith('Tempus'):\n",
    "        count = count + 1 \n",
    "print('There were', count, ' line(s) starting with word `Tempus` in', fname)"
   ]
  },
  {
   "cell_type": "code",
   "execution_count": 2,
   "metadata": {},
   "outputs": [
    {
     "name": "stdout",
     "output_type": "stream",
     "text": [
      "Enter the file name: mbox.txt\n",
      "There were 1  line(s) starting with word `Tempus` in mbox.txt\n"
     ]
    }
   ],
   "source": [
    "# Ex2: wrong file name\n",
    "\n",
    "# File input\n",
    "fname = input('Enter the file name: ')\n",
    "\n",
    "\n",
    "# wrong name case:\n",
    "try:\n",
    "    thand = open(fname)\n",
    "except:\n",
    "    print('File cannot be opened:', fname)\n",
    "    # quit() JNB nao funciona.\n",
    "\n",
    "# correct name:    \n",
    "count = 0\n",
    "for line in thand:\n",
    "    if line.startswith('Tempus'):\n",
    "        count = count + 1 \n",
    "print('There were', count, ' line(s) starting with word `Tempus` in', fname)"
   ]
  }
 ],
 "metadata": {
  "kernelspec": {
   "display_name": "Python 3",
   "language": "python",
   "name": "python3"
  },
  "language_info": {
   "codemirror_mode": {
    "name": "ipython",
    "version": 3
   },
   "file_extension": ".py",
   "mimetype": "text/x-python",
   "name": "python",
   "nbconvert_exporter": "python",
   "pygments_lexer": "ipython3",
   "version": "3.7.6"
  }
 },
 "nbformat": 4,
 "nbformat_minor": 4
}
