{
 "cells": [
  {
   "cell_type": "markdown",
   "metadata": {},
   "source": [
    "# 1. Regular Expressions\n",
    "\n",
    "- In computing, a regular expression, also referred to as \"regex\" or \"regexp\", provides a concise and flexible means for matching strings of text, such as particular characters, words, or patterns of characters. \n",
    "\n",
    "- A regular expression is written in a formal language thar can be interpreted by a regular expression processor.\n",
    "\n",
    "- Really clever \"wild card\" expressions for matching and parsing strings. \n",
    "\n",
    "\n",
    "- Library: \"import re\"\n",
    "\n",
    "- re.search() to see if a string matches a RE, similar to using the find() method for strings. \n",
    "\n",
    "- re.findall() to extract portions of a string that match your RE, similar to a combination of find() and slicing: var[5:10]"
   ]
  },
  {
   "cell_type": "code",
   "execution_count": 5,
   "metadata": {},
   "outputs": [
    {
     "name": "stdout",
     "output_type": "stream",
     "text": [
      "De acordo com os dados divulgados pelo Inpe, de janeiro até o dia 3 de novembro de 2021, já foram\n",
      "De acordo com os dados divulgados pelo Inpe, de janeiro até o dia 3 de novembro de 2021, já foram\n"
     ]
    }
   ],
   "source": [
    "# Ex1: find()\n",
    "\n",
    "hand = open('mbox.txt')\n",
    "\n",
    "for line in hand:\n",
    "    line = line.rstrip()\n",
    "    if line.find('De acordo') >= 0:\n",
    "        print(line)\n",
    "        \n",
    "        \n",
    "        \n",
    "# Ex2: re.search()\n",
    "import re\n",
    "\n",
    "hand = open('mbox.txt')\n",
    "\n",
    "for line in hand:\n",
    "    line = line.rstrip()\n",
    "    if re.search('De acordo', line):\n",
    "        print(line)"
   ]
  },
  {
   "cell_type": "code",
   "execution_count": 16,
   "metadata": {},
   "outputs": [
    {
     "name": "stdout",
     "output_type": "stream",
     "text": [
      "Durante o ano, outubro é o terceiro mês com maior número de queimadas, segundo o levantamento feito pelo órgão.\n",
      "Durante o ano, outubro é o terceiro mês com maior número de queimadas, segundo o levantamento feito pelo órgão.\n"
     ]
    }
   ],
   "source": [
    "# Ex1: find()\n",
    "\n",
    "hand = open('mbox.txt')\n",
    "\n",
    "for line in hand:\n",
    "    line = line.rstrip()\n",
    "    if line.startswith('Durante'):\n",
    "        print(line)\n",
    "        \n",
    "        \n",
    "# Ex2: re.search()\n",
    "import re\n",
    "\n",
    "hand = open('mbox.txt')\n",
    "\n",
    "for line in hand:\n",
    "    line = line.rstrip()\n",
    "    if re.search('^Durante', line):\n",
    "        print(line)"
   ]
  },
  {
   "cell_type": "code",
   "execution_count": 26,
   "metadata": {},
   "outputs": [
    {
     "name": "stdout",
     "output_type": "stream",
     "text": [
      "['2', '1', '9', '4', '2']\n",
      "[]\n"
     ]
    }
   ],
   "source": [
    "# Ex3: re.findall()\n",
    "\n",
    "import re\n",
    "\n",
    "x = 'My 2 favorite numbers are 19 and 42'\n",
    "y = re.findall('[0-9+]', x)\n",
    "print(y)\n",
    "\n",
    "\n",
    "# Ex4:\n",
    "z = re.findall('[AEIOU]+', x)\n",
    "print(z)"
   ]
  },
  {
   "cell_type": "code",
   "execution_count": 29,
   "metadata": {},
   "outputs": [
    {
     "name": "stdout",
     "output_type": "stream",
     "text": [
      "['From: Using the :']\n"
     ]
    }
   ],
   "source": [
    "# Ex5: (Questao aqui eh no primeiro : ou no segundo : )\n",
    "\n",
    "import re\n",
    "\n",
    "x = 'From: Using the : character'\n",
    "y = re.findall('^F.+:', x)\n",
    "print(y)"
   ]
  },
  {
   "cell_type": "code",
   "execution_count": 30,
   "metadata": {},
   "outputs": [
    {
     "name": "stdout",
     "output_type": "stream",
     "text": [
      "['From:']\n"
     ]
    }
   ],
   "source": [
    "# Ex6: the shorter of the string!\n",
    "\n",
    "import re\n",
    "\n",
    "x = 'From: Using the : character'\n",
    "y = re.findall('^F.+?:', x)\n",
    "print(y)"
   ]
  },
  {
   "cell_type": "code",
   "execution_count": 31,
   "metadata": {},
   "outputs": [
    {
     "name": "stdout",
     "output_type": "stream",
     "text": [
      "['stephen.marquard@uct.ac.za']\n"
     ]
    }
   ],
   "source": [
    "# Ex7: (para um lado e para outro do @ ate os primeiros espacos)\n",
    "\n",
    "import re\n",
    "\n",
    "x = 'From stephen.marquard@uct.ac.za Sat Jan   5 09:14:16 2018'\n",
    "y = re.findall('\\S+@\\S+', x)\n",
    "print(y)"
   ]
  },
  {
   "cell_type": "code",
   "execution_count": 33,
   "metadata": {},
   "outputs": [
    {
     "name": "stdout",
     "output_type": "stream",
     "text": [
      "['stephen.marquard@uct.ac.za']\n"
     ]
    }
   ],
   "source": [
    "# Ex8: (eh preciso usar o \"()\")\n",
    "\n",
    "import re\n",
    "\n",
    "x = 'From stephen.marquard@uct.ac.za Sat Jan   5 09:14:16 2018'\n",
    "y = re.findall('^From (\\S+@\\S+)', x)\n",
    "print(y)"
   ]
  },
  {
   "cell_type": "code",
   "execution_count": 34,
   "metadata": {},
   "outputs": [
    {
     "name": "stdout",
     "output_type": "stream",
     "text": [
      "['csev@umich.edu', 'cwen@iupui.edu']\n"
     ]
    }
   ],
   "source": [
    "# Ex9: \n",
    "\n",
    "import re\n",
    "\n",
    "s = 'A message from csev@umich.edu to cwen@iupui.edu about meeting @2PM'\n",
    "lst = re.findall('\\\\S+@\\\\S+', s)\n",
    "print(lst)"
   ]
  },
  {
   "cell_type": "markdown",
   "metadata": {},
   "source": [
    "# 2.  Practical Applications"
   ]
  },
  {
   "cell_type": "code",
   "execution_count": 6,
   "metadata": {},
   "outputs": [
    {
     "name": "stdout",
     "output_type": "stream",
     "text": [
      "21\n",
      "31\n",
      "utc.ac.za\n"
     ]
    }
   ],
   "source": [
    "# Ex 1 way: find() \n",
    "\n",
    "data = 'From stephen.marquard@utc.ac.za to cwen@iupui.edu about meeting @2PM'\n",
    "\n",
    "atpos = data.find('@')\n",
    "print(atpos)\n",
    "\n",
    "sppos = data.find(' ', atpos)\n",
    "print(sppos)\n",
    "\n",
    "host = data[atpos+1 : sppos]\n",
    "print(host)"
   ]
  },
  {
   "cell_type": "code",
   "execution_count": 9,
   "metadata": {},
   "outputs": [
    {
     "name": "stdout",
     "output_type": "stream",
     "text": [
      "['stephen.marquard', 'utc.ac.za']\n",
      "utc.ac.za\n"
     ]
    }
   ],
   "source": [
    "# Ex 2 way: split()\n",
    "\n",
    "line = 'From stephen.marquard@utc.ac.za to cwen@iupui.edu about meeting @2PM'\n",
    "\n",
    "words = line.split() \n",
    "email = words[1] # pegar a sentenca que desejar\n",
    "pieces = email.split('@') # faz o split novamente dos dois lados do @ ate os primeiros espacos\n",
    "print(pieces)\n",
    "\n",
    "# Escolhe o segundo lado \n",
    "print(pieces[1])"
   ]
  },
  {
   "cell_type": "code",
   "execution_count": 12,
   "metadata": {},
   "outputs": [
    {
     "name": "stdout",
     "output_type": "stream",
     "text": [
      "['utc.ac.za', 'iupui.edu', '2PM']\n"
     ]
    }
   ],
   "source": [
    "# Ex 3 way: Regex version (ele encontra todos os @)\n",
    "\n",
    "import re\n",
    "lin = 'From stephen.marquard@utc.ac.za to cwen@iupui.edu about meeting @2PM'\n",
    "y = re.findall('@([^ ]*)', lin)\n",
    "print(y)"
   ]
  },
  {
   "cell_type": "code",
   "execution_count": 14,
   "metadata": {},
   "outputs": [
    {
     "name": "stdout",
     "output_type": "stream",
     "text": [
      "['utc.ac.za']\n"
     ]
    }
   ],
   "source": [
    "# Ex 4: Regex version (ele encontra todos os @)\n",
    "\n",
    "import re\n",
    "lin = 'From stephen.marquard@utc.ac.za Sat Jan   5 09:14:16 2008'\n",
    "y = re.findall('^From .*@([^ ]*)', lin)\n",
    "print(y)"
   ]
  },
  {
   "cell_type": "code",
   "execution_count": 18,
   "metadata": {},
   "outputs": [
    {
     "name": "stdout",
     "output_type": "stream",
     "text": [
      "['$10.00']\n"
     ]
    }
   ],
   "source": [
    "# Ex 5: Procurar pelo simbolo de $ seguido por numeros e ponto\n",
    "\n",
    "import re\n",
    "x = 'We just received $10.00 for cookies.'\n",
    "y = re.findall('\\$[0-9.]+', x)\n",
    "print(y)"
   ]
  },
  {
   "cell_type": "code",
   "execution_count": 15,
   "metadata": {},
   "outputs": [
    {
     "name": "stdout",
     "output_type": "stream",
     "text": [
      "Maximum: 0.8475\n"
     ]
    }
   ],
   "source": [
    "# Ex complete: Procurar por uma forma e extrair o  numero converter em float e computar o max\n",
    "\n",
    "import re\n",
    "\n",
    "# Open file \n",
    "hand = open('mbox.txt')\n",
    "\n",
    "# Create a list\n",
    "numlist = list()\n",
    "\n",
    "# Loop for e separar as sentencas \n",
    "for line in hand:\n",
    "    line = line.rstrip()\n",
    "    \n",
    "    # Usar as RE\n",
    "    stuff = re.findall('^X-DSPAM-Confidence: ([0-9.]+)', line)\n",
    "    \n",
    "    # Se as coisas na lista nao sao = 1 entao continue\n",
    "    if len(stuff) != 1 : continue\n",
    "        \n",
    "    # Criar uma var que sera float\n",
    "    num = float(stuff[0])\n",
    "    \n",
    "    # Colocar na lista\n",
    "    numlist.append(num)\n",
    "    \n",
    "# Computar o max\n",
    "print('Maximum:', max(numlist))"
   ]
  },
  {
   "cell_type": "markdown",
   "metadata": {},
   "source": [
    "### End"
   ]
  }
 ],
 "metadata": {
  "kernelspec": {
   "display_name": "Python 3",
   "language": "python",
   "name": "python3"
  },
  "language_info": {
   "codemirror_mode": {
    "name": "ipython",
    "version": 3
   },
   "file_extension": ".py",
   "mimetype": "text/x-python",
   "name": "python",
   "nbconvert_exporter": "python",
   "pygments_lexer": "ipython3",
   "version": "3.7.6"
  }
 },
 "nbformat": 4,
 "nbformat_minor": 4
}
