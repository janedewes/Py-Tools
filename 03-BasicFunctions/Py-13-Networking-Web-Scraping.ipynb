{
 "cells": [
  {
   "cell_type": "markdown",
   "metadata": {},
   "source": [
    "# 1. Web Scraping \n",
    "\n",
    "- When a program or a script pretends to be a browser and retrieves web pages, looks at those web pages, extract information, and then looks at more web pages. \n",
    "\n",
    "- Search engines scrape web pages - we cakk this \"spidering the web\" or \"web crawling\".\n",
    "\n",
    "\n",
    "### Why Scrape?\n",
    "\n",
    "- Pull data - particularly social data - who links to who?\n",
    "- Get your own data back out of some system that has no \"export capability\" \n",
    "- Monitor a site for new information\n",
    "- Spider the web to make a database for a search engine \n",
    "\n",
    "### be careful\n",
    "- There is some controversy about web page scraping and some sites are a bit snippy about it. \n",
    "- Republishing copyrighted information is not allowed.\n",
    "- Violating terms of service is not allowed. \n",
    "\n",
    "\n",
    "### Data\n",
    "- You could do string searches the hard way or use the free software library called BeautifulSoup from www.crummy.com https://www.crummy.com/software/BeautifulSoup/"
   ]
  },
  {
   "cell_type": "code",
   "execution_count": 1,
   "metadata": {},
   "outputs": [],
   "source": [
    "import urllib.request, urllib.parse, urllib.error\n",
    "from bs4 import BeautifulSoup"
   ]
  },
  {
   "cell_type": "code",
   "execution_count": 2,
   "metadata": {},
   "outputs": [
    {
     "name": "stdout",
     "output_type": "stream",
     "text": [
      "Enter - http://www.dr-chuck.com/page1.htm\n",
      "http://www.dr-chuck.com/page2.htm\n"
     ]
    }
   ],
   "source": [
    "# Ex:\n",
    "\n",
    "# Queremos todas as tags ancora dessa pag (<a> )\n",
    "url = input('Enter - ')\n",
    "html = urllib.request.urlopen(url).read()\n",
    "soup = BeautifulSoup(html, 'html.parser')\n",
    "\n",
    "\n",
    "# Retrieve all of the anchor tags\n",
    "tags = soup('a')\n",
    "\n",
    "for tag in tags:\n",
    "    print(tag.get('href', None))"
   ]
  },
  {
   "cell_type": "code",
   "execution_count": null,
   "metadata": {},
   "outputs": [],
   "source": [
    "# End"
   ]
  }
 ],
 "metadata": {
  "kernelspec": {
   "display_name": "Python 3",
   "language": "python",
   "name": "python3"
  },
  "language_info": {
   "codemirror_mode": {
    "name": "ipython",
    "version": 3
   },
   "file_extension": ".py",
   "mimetype": "text/x-python",
   "name": "python",
   "nbconvert_exporter": "python",
   "pygments_lexer": "ipython3",
   "version": "3.7.6"
  }
 },
 "nbformat": 4,
 "nbformat_minor": 4
}
