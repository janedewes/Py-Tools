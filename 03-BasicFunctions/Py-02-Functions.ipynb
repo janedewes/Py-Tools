{
 "cells": [
  {
   "cell_type": "markdown",
   "metadata": {},
   "source": [
    "# Functions\n",
    "Stored (and reused) steps"
   ]
  },
  {
   "cell_type": "code",
   "execution_count": 2,
   "metadata": {},
   "outputs": [
    {
     "name": "stdout",
     "output_type": "stream",
     "text": [
      "w\n"
     ]
    }
   ],
   "source": [
    "# Ex1:\n",
    "big = max('Hello world')\n",
    "print(big)\n",
    "\n",
    "# or\n",
    "\n",
    "tiny = min('Hello world')\n",
    "print(tiny) # espaco\n",
    "\n",
    "\n",
    "# -----------------------\n",
    "# How works this fc\n",
    "\n",
    "#def max(inp):\n",
    "#    blah\n",
    "#    blah \n",
    "#    for x in y:\n",
    "#        blah \n",
    "#        blah\n",
    "#   return 'w'"
   ]
  },
  {
   "cell_type": "code",
   "execution_count": 6,
   "metadata": {},
   "outputs": [
    {
     "name": "stdout",
     "output_type": "stream",
     "text": [
      "Hello\n",
      "Fun\n"
     ]
    }
   ],
   "source": [
    "# Create function:\n",
    "def thing():\n",
    "    print('Hello')\n",
    "    print('Fun')\n",
    "\n",
    "    \n",
    "# Call function:\n",
    "thing()"
   ]
  },
  {
   "cell_type": "code",
   "execution_count": 10,
   "metadata": {},
   "outputs": [
    {
     "name": "stdout",
     "output_type": "stream",
     "text": [
      "I am a lumberjack, and I am okay.\n",
      "I sleep all night and I work all day.\n"
     ]
    }
   ],
   "source": [
    "# Ex2:\n",
    "# Create and store\n",
    "def print_lyrics():\n",
    "    print('I am a lumberjack, and I am okay.')\n",
    "    print('I sleep all night and I work all day.')\n",
    "    \n",
    "    \n",
    "# Call \n",
    "print_lyrics()"
   ]
  },
  {
   "cell_type": "code",
   "execution_count": 12,
   "metadata": {},
   "outputs": [
    {
     "name": "stdout",
     "output_type": "stream",
     "text": [
      "Hello\n",
      "Yo\n",
      "I am a lumberjack, and I am okay.\n",
      "I sleep all night and I work all day.\n",
      "7\n"
     ]
    }
   ],
   "source": [
    "# Ex3:\n",
    "# 1 Code\n",
    "x = 5\n",
    "print('Hello')\n",
    "\n",
    "\n",
    "# Create and store for later\n",
    "def print_lyrics():\n",
    "    print('I am a lumberjack, and I am okay.')\n",
    "    print('I sleep all night and I work all day.')\n",
    "\n",
    "    \n",
    "# 2 Code    \n",
    "print('Yo')\n",
    "x = x + 2\n",
    "# call function:\n",
    "print_lyrics()\n",
    "print(x)"
   ]
  },
  {
   "cell_type": "markdown",
   "metadata": {},
   "source": [
    "# Parameters\n",
    "Um parâmetro é uma variável que usamos na definição da função. \n",
    "É um \"identificador\" que permite que o código na função acesse os argumentos para uma chamada de função específica."
   ]
  },
  {
   "cell_type": "code",
   "execution_count": 23,
   "metadata": {},
   "outputs": [
    {
     "name": "stdout",
     "output_type": "stream",
     "text": [
      "Ola\n",
      "Bonjour\n",
      "Hello\n"
     ]
    }
   ],
   "source": [
    "# Ex4:\n",
    "# Parameters\n",
    "\n",
    "def greet(lang):\n",
    "    if lang == 'pt':\n",
    "        print('Ola')\n",
    "    elif lang == 'fr':\n",
    "        print('Bonjour')\n",
    "    else:\n",
    "        print('Hello')\n",
    "        \n",
    "        \n",
    "# Call fc:\n",
    "greet('pt')\n",
    "greet('fr')\n",
    "greet('en')"
   ]
  },
  {
   "cell_type": "markdown",
   "metadata": {},
   "source": [
    "# Return Values\n",
    "\n",
    "Freqüentemente, uma função pega seus argumentos, faz alguns cálculos e retorna um valor a ser usado como o valor da chamada de função na expressão de chamada.\n",
    "A palavra-chave return é usada para isso."
   ]
  },
  {
   "cell_type": "code",
   "execution_count": 24,
   "metadata": {},
   "outputs": [
    {
     "name": "stdout",
     "output_type": "stream",
     "text": [
      "Bonjour Jane\n",
      "Bonjour Paloma\n"
     ]
    }
   ],
   "source": [
    "# Ex5:\n",
    "def saudar():\n",
    "    return \"Bonjour\"\n",
    "\n",
    "print(saudar(), 'Jane')\n",
    "print(saudar(), 'Paloma')"
   ]
  },
  {
   "cell_type": "code",
   "execution_count": 25,
   "metadata": {},
   "outputs": [
    {
     "name": "stdout",
     "output_type": "stream",
     "text": [
      "Ola\n",
      "None Jane\n",
      "Bonjour\n",
      "None Paloma\n",
      "Hello\n",
      "None Ana\n"
     ]
    }
   ],
   "source": [
    "# Ex6:\n",
    "\n",
    "def saudacao(ling):\n",
    "    if ling == 'pt':\n",
    "        print('Ola')\n",
    "    elif ling == 'fr':\n",
    "        print('Bonjour')\n",
    "    else:\n",
    "        print('Hello')\n",
    "        \n",
    "print(saudacao('pt'), 'Jane')\n",
    "print(saudacao('fr'), 'Paloma')\n",
    "print(saudacao('en'), 'Ana')\n"
   ]
  },
  {
   "cell_type": "code",
   "execution_count": 26,
   "metadata": {},
   "outputs": [
    {
     "name": "stdout",
     "output_type": "stream",
     "text": [
      "8\n"
     ]
    }
   ],
   "source": [
    "# Ex7:\n",
    "# Create\n",
    "def addtwo(a, b):\n",
    "    added = a + b\n",
    "    return added\n",
    "\n",
    "# Call\n",
    "x = addtwo(3, 5)\n",
    "print(x)"
   ]
  },
  {
   "cell_type": "code",
   "execution_count": 27,
   "metadata": {},
   "outputs": [
    {
     "name": "stdout",
     "output_type": "stream",
     "text": [
      "ABC\n",
      "Zap\n",
      "ABC\n"
     ]
    }
   ],
   "source": [
    "# Ex8:\n",
    "def fred():\n",
    "    print('Zap')\n",
    "\n",
    "def jane():\n",
    "    print('ABC')\n",
    "    \n",
    "jane()\n",
    "fred()\n",
    "jane()"
   ]
  }
 ],
 "metadata": {
  "kernelspec": {
   "display_name": "Python 3",
   "language": "python",
   "name": "python3"
  },
  "language_info": {
   "codemirror_mode": {
    "name": "ipython",
    "version": 3
   },
   "file_extension": ".py",
   "mimetype": "text/x-python",
   "name": "python",
   "nbconvert_exporter": "python",
   "pygments_lexer": "ipython3",
   "version": "3.7.6"
  }
 },
 "nbformat": 4,
 "nbformat_minor": 4
}
