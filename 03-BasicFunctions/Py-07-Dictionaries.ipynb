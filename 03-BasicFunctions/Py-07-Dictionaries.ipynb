{
 "cells": [
  {
   "cell_type": "markdown",
   "metadata": {},
   "source": [
    "# 1. Dictionaries\n",
    "\n",
    "- Lists index their entries based on the position in the list.\n",
    "\n",
    "- Dictionaries are like bags - no order. So we index th things we put in the dictionart with a \"lookup tag\". \n",
    "\n",
    "- Dictionaries are like lists except that they use keys instead of numbers to look up values. "
   ]
  },
  {
   "cell_type": "code",
   "execution_count": 6,
   "metadata": {},
   "outputs": [
    {
     "name": "stdout",
     "output_type": "stream",
     "text": [
      "{'money': 12, 'candy': 3, 'tissues': 75}\n",
      "3\n",
      "{'money': 12, 'candy': 5, 'tissues': 75}\n"
     ]
    }
   ],
   "source": [
    "# Ex1:\n",
    "\n",
    "purse = dict()\n",
    "purse['money'] = 12\n",
    "purse['candy'] = 3\n",
    "purse['tissues'] = 75\n",
    "print(purse)\n",
    "\n",
    "print(purse['candy'])\n",
    "\n",
    "purse['candy'] = purse['candy'] + 2\n",
    "print(purse)"
   ]
  },
  {
   "cell_type": "code",
   "execution_count": 8,
   "metadata": {},
   "outputs": [
    {
     "name": "stdout",
     "output_type": "stream",
     "text": [
      "[21, 183]\n",
      "[23, 183]\n"
     ]
    }
   ],
   "source": [
    "# Lists\n",
    "\n",
    "lst = list()\n",
    "lst.append(21)\n",
    "lst.append(183)\n",
    "print(lst)\n",
    "\n",
    "lst[0] = 23\n",
    "print(lst)"
   ]
  },
  {
   "cell_type": "code",
   "execution_count": 10,
   "metadata": {},
   "outputs": [
    {
     "name": "stdout",
     "output_type": "stream",
     "text": [
      "{'age': 21, 'course': 182}\n",
      "{'age': 23, 'course': 182}\n"
     ]
    }
   ],
   "source": [
    "# Dictionaries\n",
    "\n",
    "ddd = dict()\n",
    "ddd['age'] = 21\n",
    "ddd['course'] = 182\n",
    "print(ddd)\n",
    "\n",
    "ddd['age'] = 23\n",
    "print(ddd)"
   ]
  },
  {
   "cell_type": "markdown",
   "metadata": {},
   "source": [
    "## 1.1 Dictionary Literals (Constants)\n",
    "\n",
    "- Use curly braces{} and have a list of key:value pairs.\n",
    "\n",
    "- You can make an empty dictionary using empty curly braces. "
   ]
  },
  {
   "cell_type": "code",
   "execution_count": 13,
   "metadata": {},
   "outputs": [
    {
     "name": "stdout",
     "output_type": "stream",
     "text": [
      "{'chuck': 1, 'fred': 42, 'jane': 100}\n",
      "{}\n"
     ]
    }
   ],
   "source": [
    "# Ex1:\n",
    "jjj = {'chuck' : 1, 'fred' : 42, 'jane' : 100}\n",
    "print(jjj)\n",
    "\n",
    "aaa = { }\n",
    "print(aaa)"
   ]
  },
  {
   "cell_type": "code",
   "execution_count": 16,
   "metadata": {},
   "outputs": [
    {
     "name": "stdout",
     "output_type": "stream",
     "text": [
      "{'Fri': 20, 'Thu': 13, 'Sat': 2, 'Sun': 9}\n"
     ]
    }
   ],
   "source": [
    "# Ex2:\n",
    "\n",
    "dict = {\"Fri\":20, \"Thu\":6, \"Sat\":1}\n",
    "dict[\"Thu\"] = 13\n",
    "dict[\"Sat\"] = 2 \n",
    "dict[\"Sun\"] = 9\n",
    "print(dict)"
   ]
  },
  {
   "cell_type": "markdown",
   "metadata": {},
   "source": [
    "## 1.2 Common Applications\n",
    "\n",
    "- One common use of dict is counting how how often we \"see\" something.  "
   ]
  },
  {
   "cell_type": "code",
   "execution_count": 95,
   "metadata": {},
   "outputs": [
    {
     "name": "stdout",
     "output_type": "stream",
     "text": [
      "{'csev': 1, 'cwen': 1}\n",
      "{'csev': 1, 'cwen': 1, 'swen': 2}\n"
     ]
    }
   ],
   "source": [
    "# Ex1:\n",
    "\n",
    "ccc = {}\n",
    "ccc['csev'] = 1\n",
    "ccc['cwen'] = 1\n",
    "print(ccc)\n",
    "\n",
    "# Counter\n",
    "ccc['swen'] = ccc['cwen'] + 1\n",
    "print(ccc)\n"
   ]
  },
  {
   "cell_type": "code",
   "execution_count": 96,
   "metadata": {},
   "outputs": [
    {
     "data": {
      "text/plain": [
       "True"
      ]
     },
     "execution_count": 96,
     "metadata": {},
     "output_type": "execute_result"
    }
   ],
   "source": [
    "# Is there a key with this name in the dict?\n",
    "'csev' in ccc"
   ]
  },
  {
   "cell_type": "code",
   "execution_count": 97,
   "metadata": {},
   "outputs": [
    {
     "data": {
      "text/plain": [
       "False"
      ]
     },
     "execution_count": 97,
     "metadata": {},
     "output_type": "execute_result"
    }
   ],
   "source": [
    "# or \n",
    "'tsev' in ccc"
   ]
  },
  {
   "cell_type": "markdown",
   "metadata": {},
   "source": [
    "### A new name \n",
    "\n",
    "- When encounter a new name, we need to add a new entry in the dict.\n",
    "\n",
    "- If this the second or later time we have seen the name, we simply add one to the count in the dict under that name."
   ]
  },
  {
   "cell_type": "code",
   "execution_count": 75,
   "metadata": {},
   "outputs": [
    {
     "name": "stdout",
     "output_type": "stream",
     "text": [
      "{'csev': 2, 'cwen': 2, 'zquian': 1}\n"
     ]
    }
   ],
   "source": [
    "# Ex2:\n",
    "\n",
    "# Dict\n",
    "counts = {}\n",
    "# Name list\n",
    "names = ['csev', 'cwen', 'csev', 'zquian', 'cwen']\n",
    "\n",
    "\n",
    "# What to do\n",
    "for name in names:\n",
    "    if name not in counts:\n",
    "        counts[name] = 1\n",
    "    else:\n",
    "        counts[name] = counts[name] + 1\n",
    "print(counts)"
   ]
  },
  {
   "cell_type": "code",
   "execution_count": 76,
   "metadata": {},
   "outputs": [
    {
     "name": "stdout",
     "output_type": "stream",
     "text": [
      "{'csev': 2, 'cwen': 2, 'zquian': 1}\n"
     ]
    }
   ],
   "source": [
    "# Ex3:\n",
    "# or\n",
    "\n",
    "if name in counts: \n",
    "    x = counts[name]\n",
    "else:\n",
    "    x = 0\n",
    "\n",
    "print(counts)"
   ]
  },
  {
   "cell_type": "markdown",
   "metadata": {},
   "source": [
    "## 1.3 The get method for dict\n",
    "\n",
    "- The pattern of checking to see if a key is already in a dict and assuming a default value if the key is not there is so common that there is a method called get() that does this for us!\n",
    "\n",
    "\n",
    "- **Used to create histograms!** "
   ]
  },
  {
   "cell_type": "code",
   "execution_count": 88,
   "metadata": {},
   "outputs": [
    {
     "name": "stdout",
     "output_type": "stream",
     "text": [
      "{'H': 1, 'e': 1, 'l': 3, 'o': 2, ' ': 1, 'W': 1, 'r': 1, 'd': 1}\n"
     ]
    }
   ],
   "source": [
    "# Ex2:\n",
    "# dict.get(key, default=None)\n",
    "\n",
    "characters = {}\n",
    "sentence = \"Hello World\"\n",
    "\n",
    "for character in sentence:\n",
    "    characters[character] = characters.get(character, 0) + 1 \n",
    "\n",
    "print(characters)"
   ]
  },
  {
   "cell_type": "code",
   "execution_count": 93,
   "metadata": {},
   "outputs": [
    {
     "name": "stdout",
     "output_type": "stream",
     "text": [
      "{1: 1, 2: 1, 5: 1, 3: 1, 4: 1, 6: 1, 9: 1, 8: 1, 7: 1, 10: 2}\n"
     ]
    }
   ],
   "source": [
    "# Ex3:\n",
    "# dict.get(key, default=None)\n",
    "\n",
    "dicionario = {}\n",
    "numeros = [1, 2, 5, 3, 4, 6, 9, 8, 7, 10, 10]\n",
    "\n",
    "for numero in numeros:\n",
    "    dicionario[numero] = dicionario.get(numero, 0) + 1\n",
    "    \n",
    "print(dicionario)"
   ]
  },
  {
   "cell_type": "code",
   "execution_count": 94,
   "metadata": {},
   "outputs": [
    {
     "name": "stdout",
     "output_type": "stream",
     "text": [
      "{'Ana': 2, 'Julia': 1, 'Luiza': 2, 'Clara': 1}\n"
     ]
    }
   ],
   "source": [
    "# Ex4:\n",
    "# dict.get(key, default=None)\n",
    "\n",
    "palavras = {}\n",
    "nomes = ['Ana', 'Julia', 'Luiza', 'Ana', 'Luiza', 'Clara']\n",
    "\n",
    "for nome in nomes:\n",
    "    palavras[nome] = palavras.get(nome, 0) + 1\n",
    "    \n",
    "print(palavras)"
   ]
  },
  {
   "cell_type": "code",
   "execution_count": 98,
   "metadata": {},
   "outputs": [
    {
     "name": "stdout",
     "output_type": "stream",
     "text": [
      "{'csev': 2, 'cwen': 2, 'zquian': 1}\n"
     ]
    }
   ],
   "source": [
    "# Ex 5:\n",
    "# dict.get(key, default=None)\n",
    "\n",
    "counts = {}\n",
    "names = ['csev', 'cwen', 'csev', 'zquian', 'cwen']\n",
    "\n",
    "\n",
    "for name in names:\n",
    "    counts[name] = counts.get(name, 0) + 1\n",
    "print(counts)"
   ]
  },
  {
   "cell_type": "code",
   "execution_count": 101,
   "metadata": {},
   "outputs": [
    {
     "name": "stdout",
     "output_type": "stream",
     "text": [
      "0\n"
     ]
    }
   ],
   "source": [
    "# Ex6:\n",
    "\n",
    "counts = { 'quincy' : 1 , 'mrugesh' : 42, 'beau': 100, '0': 10}\n",
    "print(counts.get('kris', 0))"
   ]
  },
  {
   "cell_type": "markdown",
   "metadata": {},
   "source": [
    "# 2. Dictionaries and Loops\n",
    "\n",
    "### Counting Pattern\n",
    "\n",
    "- The general pattern to count the words in a line of text is to split the lines into words, then loop through the words and use a dict to track the count of each word independently.   "
   ]
  },
  {
   "cell_type": "code",
   "execution_count": 1,
   "metadata": {},
   "outputs": [
    {
     "name": "stdout",
     "output_type": "stream",
     "text": [
      "Enter a line of text:\n",
      "hello world how are you today, are you really really good \n",
      "Words: ['hello', 'world', 'how', 'are', 'you', 'today,', 'are', 'you', 'really', 'really', 'good']\n",
      "Counting...\n",
      "Counts {'hello': 1, 'world': 1, 'how': 1, 'are': 2, 'you': 2, 'today,': 1, 'really': 2, 'good': 1}\n"
     ]
    }
   ],
   "source": [
    "# Ex1: \n",
    "\n",
    "# Dict:\n",
    "counts = dict()\n",
    "print('Enter a line of text:')\n",
    "line = input('')\n",
    "# split\n",
    "words = line.split()\n",
    "\n",
    "print('Words:', words)\n",
    "\n",
    "\n",
    "# Counting\n",
    "print('Counting...')\n",
    "\n",
    "# Counting loop and produt a dict\n",
    "for word in words:\n",
    "    counts[word] = counts.get(word, 0) + 1\n",
    "print('Counts', counts)"
   ]
  },
  {
   "cell_type": "markdown",
   "metadata": {},
   "source": [
    "## 2.1 Definite Loops and Dict\n",
    "\n",
    "- Even though dicts are not sorted in order, we can write a for loop that goes through all the entries in a dict - actually it goes through all of the keys in the dictionary and loos up the values. "
   ]
  },
  {
   "cell_type": "code",
   "execution_count": 2,
   "metadata": {},
   "outputs": [
    {
     "name": "stdout",
     "output_type": "stream",
     "text": [
      "Chuck 1\n",
      "Fred 42\n",
      "Jan 100\n"
     ]
    }
   ],
   "source": [
    "# Ex1:\n",
    "\n",
    "counts = {'Chuck' : 1, 'Fred' : 42, 'Jan' : 100}\n",
    "\n",
    "for key in counts:\n",
    "    print(key, counts[key])"
   ]
  },
  {
   "cell_type": "markdown",
   "metadata": {},
   "source": [
    "## 2.2 Retrieving lists of Keys and Values"
   ]
  },
  {
   "cell_type": "code",
   "execution_count": 9,
   "metadata": {},
   "outputs": [
    {
     "name": "stdout",
     "output_type": "stream",
     "text": [
      "{'Chuck': 1, 'Fred': 42, 'Jan': 100}\n",
      "['Chuck', 'Fred', 'Jan']\n",
      "dict_keys(['Chuck', 'Fred', 'Jan'])\n",
      "dict_values([1, 42, 100])\n",
      "dict_items([('Chuck', 1), ('Fred', 42), ('Jan', 100)])\n"
     ]
    }
   ],
   "source": [
    "# Ex1:\n",
    "\n",
    "jjj = {'Chuck' : 1, 'Fred' : 42, 'Jan' : 100}\n",
    "\n",
    "print(jjj)\n",
    "\n",
    "print(list(jjj))\n",
    "\n",
    "print(jjj.keys())\n",
    "\n",
    "print(jjj.values())\n",
    "\n",
    "print(jjj.items())"
   ]
  },
  {
   "cell_type": "code",
   "execution_count": 10,
   "metadata": {},
   "outputs": [
    {
     "name": "stdout",
     "output_type": "stream",
     "text": [
      "Chuck 1\n",
      "Fred 42\n",
      "Jan 100\n"
     ]
    }
   ],
   "source": [
    "# Two Iteration Variables - .items()\n",
    "\n",
    "# Ex2:\n",
    "ddd = {'Chuck' : 1, 'Fred' : 42, 'Jan' : 100}\n",
    "\n",
    "for aaa,bbb in jjj.items() :\n",
    "    print(aaa, bbb)"
   ]
  },
  {
   "cell_type": "code",
   "execution_count": 12,
   "metadata": {},
   "outputs": [
    {
     "name": "stdout",
     "output_type": "stream",
     "text": [
      "enter file:mbox.txt\n",
      "id 5\n"
     ]
    }
   ],
   "source": [
    "# Ex3:\n",
    "\n",
    "name = input('enter file:')\n",
    "handle = open(name)\n",
    "\n",
    "counts = dict()\n",
    "for line in handle:\n",
    "    words = line.split()\n",
    "    for word in words:\n",
    "        counts[word] = counts.get(word, 0) + 1\n",
    "        \n",
    "\n",
    "bigcount = None\n",
    "bigword = None\n",
    "\n",
    "for word, count in counts.items():\n",
    "    if bigcount is None or count > bigcount:\n",
    "        bigword = word\n",
    "        bigcount = count \n",
    "\n",
    "print(bigword, bigcount)"
   ]
  },
  {
   "cell_type": "code",
   "execution_count": 14,
   "metadata": {},
   "outputs": [
    {
     "name": "stdout",
     "output_type": "stream",
     "text": [
      "annie 42\n",
      "Jan 100\n"
     ]
    }
   ],
   "source": [
    "# Ex4:\n",
    "\n",
    "counts1 = {'Chuck' : 1, 'annie' : 42, 'Jan' : 100}\n",
    "\n",
    "for key in counts1:\n",
    "    if counts1[key] > 10:\n",
    "        print(key, counts1[key])"
   ]
  },
  {
   "cell_type": "code",
   "execution_count": 15,
   "metadata": {},
   "outputs": [],
   "source": [
    "# End"
   ]
  }
 ],
 "metadata": {
  "kernelspec": {
   "display_name": "Python 3",
   "language": "python",
   "name": "python3"
  },
  "language_info": {
   "codemirror_mode": {
    "name": "ipython",
    "version": 3
   },
   "file_extension": ".py",
   "mimetype": "text/x-python",
   "name": "python",
   "nbconvert_exporter": "python",
   "pygments_lexer": "ipython3",
   "version": "3.7.6"
  }
 },
 "nbformat": 4,
 "nbformat_minor": 4
}
