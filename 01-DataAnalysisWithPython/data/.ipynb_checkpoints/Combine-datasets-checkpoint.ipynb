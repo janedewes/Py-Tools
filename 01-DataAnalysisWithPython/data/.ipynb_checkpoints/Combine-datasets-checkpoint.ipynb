{
 "cells": [
  {
   "cell_type": "code",
   "execution_count": 1,
   "metadata": {},
   "outputs": [],
   "source": [
    "# Imports\n",
    "import pandas as pd\n",
    "import os"
   ]
  },
  {
   "cell_type": "markdown",
   "metadata": {},
   "source": [
    "# Data"
   ]
  },
  {
   "cell_type": "code",
   "execution_count": 2,
   "metadata": {},
   "outputs": [],
   "source": [
    "# Data \n",
    "arq_1 = pd.read_csv('petra1.csv')\n",
    "arq_2 = pd.read_csv('petra2.csv')\n",
    "arq_3 = pd.read_csv('petra3.csv')"
   ]
  },
  {
   "cell_type": "code",
   "execution_count": 3,
   "metadata": {},
   "outputs": [
    {
     "data": {
      "text/html": [
       "<div>\n",
       "<style scoped>\n",
       "    .dataframe tbody tr th:only-of-type {\n",
       "        vertical-align: middle;\n",
       "    }\n",
       "\n",
       "    .dataframe tbody tr th {\n",
       "        vertical-align: top;\n",
       "    }\n",
       "\n",
       "    .dataframe thead th {\n",
       "        text-align: right;\n",
       "    }\n",
       "</style>\n",
       "<table border=\"1\" class=\"dataframe\">\n",
       "  <thead>\n",
       "    <tr style=\"text-align: right;\">\n",
       "      <th></th>\n",
       "      <th>Date</th>\n",
       "      <th>Open</th>\n",
       "      <th>High</th>\n",
       "      <th>Low</th>\n",
       "      <th>Close</th>\n",
       "      <th>Adj Close</th>\n",
       "      <th>Volume</th>\n",
       "    </tr>\n",
       "  </thead>\n",
       "  <tbody>\n",
       "    <tr>\n",
       "      <th>0</th>\n",
       "      <td>2021-10-13</td>\n",
       "      <td>29.17</td>\n",
       "      <td>29.700001</td>\n",
       "      <td>29.08</td>\n",
       "      <td>29.629999</td>\n",
       "      <td>29.629999</td>\n",
       "      <td>55605400</td>\n",
       "    </tr>\n",
       "  </tbody>\n",
       "</table>\n",
       "</div>"
      ],
      "text/plain": [
       "         Date   Open       High    Low      Close  Adj Close    Volume\n",
       "0  2021-10-13  29.17  29.700001  29.08  29.629999  29.629999  55605400"
      ]
     },
     "execution_count": 3,
     "metadata": {},
     "output_type": "execute_result"
    }
   ],
   "source": [
    "arq_1.head()"
   ]
  },
  {
   "cell_type": "code",
   "execution_count": 4,
   "metadata": {},
   "outputs": [
    {
     "data": {
      "text/plain": [
       "(1, 7)"
      ]
     },
     "execution_count": 4,
     "metadata": {},
     "output_type": "execute_result"
    }
   ],
   "source": [
    "arq_1.shape"
   ]
  },
  {
   "cell_type": "code",
   "execution_count": 5,
   "metadata": {
    "scrolled": true
   },
   "outputs": [
    {
     "data": {
      "text/html": [
       "<div>\n",
       "<style scoped>\n",
       "    .dataframe tbody tr th:only-of-type {\n",
       "        vertical-align: middle;\n",
       "    }\n",
       "\n",
       "    .dataframe tbody tr th {\n",
       "        vertical-align: top;\n",
       "    }\n",
       "\n",
       "    .dataframe thead th {\n",
       "        text-align: right;\n",
       "    }\n",
       "</style>\n",
       "<table border=\"1\" class=\"dataframe\">\n",
       "  <thead>\n",
       "    <tr style=\"text-align: right;\">\n",
       "      <th></th>\n",
       "      <th>Date</th>\n",
       "      <th>Open</th>\n",
       "      <th>High</th>\n",
       "      <th>Low</th>\n",
       "      <th>Close</th>\n",
       "      <th>Adj Close</th>\n",
       "      <th>Volume</th>\n",
       "    </tr>\n",
       "  </thead>\n",
       "  <tbody>\n",
       "    <tr>\n",
       "      <th>0</th>\n",
       "      <td>2021-10-14</td>\n",
       "      <td>29.860001</td>\n",
       "      <td>30.219999</td>\n",
       "      <td>29.5</td>\n",
       "      <td>29.68</td>\n",
       "      <td>29.68</td>\n",
       "      <td>76172700</td>\n",
       "    </tr>\n",
       "  </tbody>\n",
       "</table>\n",
       "</div>"
      ],
      "text/plain": [
       "         Date       Open       High   Low  Close  Adj Close    Volume\n",
       "0  2021-10-14  29.860001  30.219999  29.5  29.68      29.68  76172700"
      ]
     },
     "execution_count": 5,
     "metadata": {},
     "output_type": "execute_result"
    }
   ],
   "source": [
    "arq_2.head()"
   ]
  },
  {
   "cell_type": "code",
   "execution_count": 6,
   "metadata": {},
   "outputs": [
    {
     "data": {
      "text/plain": [
       "(1, 7)"
      ]
     },
     "execution_count": 6,
     "metadata": {},
     "output_type": "execute_result"
    }
   ],
   "source": [
    "arq_2.shape"
   ]
  },
  {
   "cell_type": "code",
   "execution_count": 7,
   "metadata": {},
   "outputs": [
    {
     "data": {
      "text/html": [
       "<div>\n",
       "<style scoped>\n",
       "    .dataframe tbody tr th:only-of-type {\n",
       "        vertical-align: middle;\n",
       "    }\n",
       "\n",
       "    .dataframe tbody tr th {\n",
       "        vertical-align: top;\n",
       "    }\n",
       "\n",
       "    .dataframe thead th {\n",
       "        text-align: right;\n",
       "    }\n",
       "</style>\n",
       "<table border=\"1\" class=\"dataframe\">\n",
       "  <thead>\n",
       "    <tr style=\"text-align: right;\">\n",
       "      <th></th>\n",
       "      <th>Date</th>\n",
       "      <th>Open</th>\n",
       "      <th>High</th>\n",
       "      <th>Low</th>\n",
       "      <th>Close</th>\n",
       "      <th>Adj Close</th>\n",
       "      <th>Volume</th>\n",
       "    </tr>\n",
       "  </thead>\n",
       "  <tbody>\n",
       "    <tr>\n",
       "      <th>0</th>\n",
       "      <td>2021-10-15</td>\n",
       "      <td>29.799999</td>\n",
       "      <td>29.84</td>\n",
       "      <td>29.51</td>\n",
       "      <td>29.6</td>\n",
       "      <td>29.6</td>\n",
       "      <td>72479900</td>\n",
       "    </tr>\n",
       "    <tr>\n",
       "      <th>1</th>\n",
       "      <td>2021-10-15</td>\n",
       "      <td>29.799999</td>\n",
       "      <td>29.84</td>\n",
       "      <td>29.51</td>\n",
       "      <td>29.6</td>\n",
       "      <td>29.6</td>\n",
       "      <td>71603100</td>\n",
       "    </tr>\n",
       "  </tbody>\n",
       "</table>\n",
       "</div>"
      ],
      "text/plain": [
       "         Date       Open   High    Low  Close  Adj Close    Volume\n",
       "0  2021-10-15  29.799999  29.84  29.51   29.6       29.6  72479900\n",
       "1  2021-10-15  29.799999  29.84  29.51   29.6       29.6  71603100"
      ]
     },
     "execution_count": 7,
     "metadata": {},
     "output_type": "execute_result"
    }
   ],
   "source": [
    "arq_3.head()"
   ]
  },
  {
   "cell_type": "code",
   "execution_count": 8,
   "metadata": {},
   "outputs": [
    {
     "data": {
      "text/plain": [
       "(2, 7)"
      ]
     },
     "execution_count": 8,
     "metadata": {},
     "output_type": "execute_result"
    }
   ],
   "source": [
    "arq_3.shape"
   ]
  },
  {
   "cell_type": "code",
   "execution_count": 9,
   "metadata": {},
   "outputs": [],
   "source": [
    "# Se o arq nao existir criamos em modo de escrita (w)\n",
    "if not os.path.isfile('dados.csv'):\n",
    "    \n",
    "    # Cria e abre o arq para gravacao\n",
    "    dataset = open('dados.csv', mode = 'w')\n",
    "    \n",
    "    # Lista vazia para as linhas dos arquivos\n",
    "    linhas = list()\n",
    "    \n",
    "    # Nomes e caminhos dos arquivos que serao concatenados\n",
    "    arquivos = ['petra1.csv', 'petra2.csv', 'petra3.csv']\n",
    "    \n",
    "    # Loop por cada arquivo na lista de arquivos\n",
    "    for arquivo in arquivos:\n",
    "        \n",
    "        # Print\n",
    "        print(\"Lendo o arquivo {}...\".format(arquivo))\n",
    "        \n",
    "        # Com o arquivo aberto, extraímos as linhas\n",
    "        with open(arquivo) as f:\n",
    "            \n",
    "            # Loop por cada linha do arquivo\n",
    "            for linha in f: \n",
    "                \n",
    "                # Deletamos o conteúdo da lista\n",
    "                del linhas[:] \n",
    "                \n",
    "                # Divide as linhas do arquivo pelo caracter de final de linha\n",
    "                linha = linha.strip()\n",
    "                \n",
    "                # Se encontramos \"dois pontos\" ao final da linha, fazemos replace removendo o caracter,\n",
    "                # pois queremos apenas o id do filme\n",
    "                if linha.endswith(':'):\n",
    "                    Date = linha.replace(':', '')\n",
    "                    \n",
    "                # Se não, criamos uma lista comprehension para fazer a separação das colunas por vírgula\n",
    "                else:\n",
    "                    \n",
    "                    # Separa as colunas\n",
    "                    linhas = [x for x in linha.split(',')]\n",
    "                    \n",
    "                    # Usa a data na posição de índice zero (se ela ja nao estiver como)\n",
    "                    #linhas.insert(0, Date)\n",
    "                    \n",
    "                    # Grava o resultado no novo arquivo\n",
    "                    dataset.write(','.join(linhas))\n",
    "                    dataset.write('\\n')\n",
    "                    \n",
    "        print(\"Concluído.\\n\")\n",
    "        \n",
    "    dataset.close()"
   ]
  },
  {
   "cell_type": "code",
   "execution_count": 10,
   "metadata": {
    "scrolled": true
   },
   "outputs": [
    {
     "name": "stdout",
     "output_type": "stream",
     "text": [
      "Date         object\n",
      "Open         object\n",
      "High         object\n",
      "Low          object\n",
      "Close        object\n",
      "Adj Close    object\n",
      "Volume       object\n",
      "dtype: object\n"
     ]
    },
    {
     "data": {
      "text/html": [
       "<div>\n",
       "<style scoped>\n",
       "    .dataframe tbody tr th:only-of-type {\n",
       "        vertical-align: middle;\n",
       "    }\n",
       "\n",
       "    .dataframe tbody tr th {\n",
       "        vertical-align: top;\n",
       "    }\n",
       "\n",
       "    .dataframe thead th {\n",
       "        text-align: right;\n",
       "    }\n",
       "</style>\n",
       "<table border=\"1\" class=\"dataframe\">\n",
       "  <thead>\n",
       "    <tr style=\"text-align: right;\">\n",
       "      <th></th>\n",
       "      <th>Date</th>\n",
       "      <th>Open</th>\n",
       "      <th>High</th>\n",
       "      <th>Low</th>\n",
       "      <th>Close</th>\n",
       "      <th>Adj Close</th>\n",
       "      <th>Volume</th>\n",
       "    </tr>\n",
       "  </thead>\n",
       "  <tbody>\n",
       "    <tr>\n",
       "      <th>0</th>\n",
       "      <td>2021-10-13</td>\n",
       "      <td>29.170000</td>\n",
       "      <td>29.700001</td>\n",
       "      <td>29.080000</td>\n",
       "      <td>29.629999</td>\n",
       "      <td>29.629999</td>\n",
       "      <td>55605400</td>\n",
       "    </tr>\n",
       "    <tr>\n",
       "      <th>1</th>\n",
       "      <td>Date</td>\n",
       "      <td>Open</td>\n",
       "      <td>High</td>\n",
       "      <td>Low</td>\n",
       "      <td>Close</td>\n",
       "      <td>Adj Close</td>\n",
       "      <td>Volume</td>\n",
       "    </tr>\n",
       "    <tr>\n",
       "      <th>2</th>\n",
       "      <td>2021-10-14</td>\n",
       "      <td>29.860001</td>\n",
       "      <td>30.219999</td>\n",
       "      <td>29.500000</td>\n",
       "      <td>29.680000</td>\n",
       "      <td>29.680000</td>\n",
       "      <td>76172700</td>\n",
       "    </tr>\n",
       "    <tr>\n",
       "      <th>3</th>\n",
       "      <td>Date</td>\n",
       "      <td>Open</td>\n",
       "      <td>High</td>\n",
       "      <td>Low</td>\n",
       "      <td>Close</td>\n",
       "      <td>Adj Close</td>\n",
       "      <td>Volume</td>\n",
       "    </tr>\n",
       "    <tr>\n",
       "      <th>4</th>\n",
       "      <td>2021-10-15</td>\n",
       "      <td>29.799999</td>\n",
       "      <td>29.840000</td>\n",
       "      <td>29.510000</td>\n",
       "      <td>29.600000</td>\n",
       "      <td>29.600000</td>\n",
       "      <td>72479900</td>\n",
       "    </tr>\n",
       "    <tr>\n",
       "      <th>5</th>\n",
       "      <td>2021-10-15</td>\n",
       "      <td>29.799999</td>\n",
       "      <td>29.840000</td>\n",
       "      <td>29.510000</td>\n",
       "      <td>29.600000</td>\n",
       "      <td>29.600000</td>\n",
       "      <td>71603100</td>\n",
       "    </tr>\n",
       "  </tbody>\n",
       "</table>\n",
       "</div>"
      ],
      "text/plain": [
       "         Date       Open       High        Low      Close  Adj Close    Volume\n",
       "0  2021-10-13  29.170000  29.700001  29.080000  29.629999  29.629999  55605400\n",
       "1        Date       Open       High        Low      Close  Adj Close    Volume\n",
       "2  2021-10-14  29.860001  30.219999  29.500000  29.680000  29.680000  76172700\n",
       "3        Date       Open       High        Low      Close  Adj Close    Volume\n",
       "4  2021-10-15  29.799999  29.840000  29.510000  29.600000  29.600000  72479900\n",
       "5  2021-10-15  29.799999  29.840000  29.510000  29.600000  29.600000  71603100"
      ]
     },
     "execution_count": 10,
     "metadata": {},
     "output_type": "execute_result"
    }
   ],
   "source": [
    "dados = pd.read_csv('dados.csv')\n",
    "\n",
    "print(dados.dtypes)\n",
    "dados"
   ]
  },
  {
   "cell_type": "markdown",
   "metadata": {},
   "source": [
    "### Eliminar linhas pelo indice"
   ]
  },
  {
   "cell_type": "code",
   "execution_count": 11,
   "metadata": {},
   "outputs": [
    {
     "data": {
      "text/html": [
       "<div>\n",
       "<style scoped>\n",
       "    .dataframe tbody tr th:only-of-type {\n",
       "        vertical-align: middle;\n",
       "    }\n",
       "\n",
       "    .dataframe tbody tr th {\n",
       "        vertical-align: top;\n",
       "    }\n",
       "\n",
       "    .dataframe thead th {\n",
       "        text-align: right;\n",
       "    }\n",
       "</style>\n",
       "<table border=\"1\" class=\"dataframe\">\n",
       "  <thead>\n",
       "    <tr style=\"text-align: right;\">\n",
       "      <th></th>\n",
       "      <th>Date</th>\n",
       "      <th>Open</th>\n",
       "      <th>High</th>\n",
       "      <th>Low</th>\n",
       "      <th>Close</th>\n",
       "      <th>Adj Close</th>\n",
       "      <th>Volume</th>\n",
       "    </tr>\n",
       "  </thead>\n",
       "  <tbody>\n",
       "    <tr>\n",
       "      <th>0</th>\n",
       "      <td>2021-10-13</td>\n",
       "      <td>29.170000</td>\n",
       "      <td>29.700001</td>\n",
       "      <td>29.080000</td>\n",
       "      <td>29.629999</td>\n",
       "      <td>29.629999</td>\n",
       "      <td>55605400</td>\n",
       "    </tr>\n",
       "    <tr>\n",
       "      <th>2</th>\n",
       "      <td>2021-10-14</td>\n",
       "      <td>29.860001</td>\n",
       "      <td>30.219999</td>\n",
       "      <td>29.500000</td>\n",
       "      <td>29.680000</td>\n",
       "      <td>29.680000</td>\n",
       "      <td>76172700</td>\n",
       "    </tr>\n",
       "    <tr>\n",
       "      <th>3</th>\n",
       "      <td>Date</td>\n",
       "      <td>Open</td>\n",
       "      <td>High</td>\n",
       "      <td>Low</td>\n",
       "      <td>Close</td>\n",
       "      <td>Adj Close</td>\n",
       "      <td>Volume</td>\n",
       "    </tr>\n",
       "    <tr>\n",
       "      <th>4</th>\n",
       "      <td>2021-10-15</td>\n",
       "      <td>29.799999</td>\n",
       "      <td>29.840000</td>\n",
       "      <td>29.510000</td>\n",
       "      <td>29.600000</td>\n",
       "      <td>29.600000</td>\n",
       "      <td>72479900</td>\n",
       "    </tr>\n",
       "    <tr>\n",
       "      <th>5</th>\n",
       "      <td>2021-10-15</td>\n",
       "      <td>29.799999</td>\n",
       "      <td>29.840000</td>\n",
       "      <td>29.510000</td>\n",
       "      <td>29.600000</td>\n",
       "      <td>29.600000</td>\n",
       "      <td>71603100</td>\n",
       "    </tr>\n",
       "  </tbody>\n",
       "</table>\n",
       "</div>"
      ],
      "text/plain": [
       "         Date       Open       High        Low      Close  Adj Close    Volume\n",
       "0  2021-10-13  29.170000  29.700001  29.080000  29.629999  29.629999  55605400\n",
       "2  2021-10-14  29.860001  30.219999  29.500000  29.680000  29.680000  76172700\n",
       "3        Date       Open       High        Low      Close  Adj Close    Volume\n",
       "4  2021-10-15  29.799999  29.840000  29.510000  29.600000  29.600000  72479900\n",
       "5  2021-10-15  29.799999  29.840000  29.510000  29.600000  29.600000  71603100"
      ]
     },
     "execution_count": 11,
     "metadata": {},
     "output_type": "execute_result"
    }
   ],
   "source": [
    "new_dados = dados.drop(1) \n",
    "new_dados"
   ]
  },
  {
   "cell_type": "code",
   "execution_count": 12,
   "metadata": {
    "scrolled": true
   },
   "outputs": [
    {
     "data": {
      "text/html": [
       "<div>\n",
       "<style scoped>\n",
       "    .dataframe tbody tr th:only-of-type {\n",
       "        vertical-align: middle;\n",
       "    }\n",
       "\n",
       "    .dataframe tbody tr th {\n",
       "        vertical-align: top;\n",
       "    }\n",
       "\n",
       "    .dataframe thead th {\n",
       "        text-align: right;\n",
       "    }\n",
       "</style>\n",
       "<table border=\"1\" class=\"dataframe\">\n",
       "  <thead>\n",
       "    <tr style=\"text-align: right;\">\n",
       "      <th></th>\n",
       "      <th>Date</th>\n",
       "      <th>Open</th>\n",
       "      <th>High</th>\n",
       "      <th>Low</th>\n",
       "      <th>Close</th>\n",
       "      <th>Adj Close</th>\n",
       "      <th>Volume</th>\n",
       "    </tr>\n",
       "  </thead>\n",
       "  <tbody>\n",
       "    <tr>\n",
       "      <th>0</th>\n",
       "      <td>2021-10-13</td>\n",
       "      <td>29.170000</td>\n",
       "      <td>29.700001</td>\n",
       "      <td>29.080000</td>\n",
       "      <td>29.629999</td>\n",
       "      <td>29.629999</td>\n",
       "      <td>55605400</td>\n",
       "    </tr>\n",
       "    <tr>\n",
       "      <th>2</th>\n",
       "      <td>2021-10-14</td>\n",
       "      <td>29.860001</td>\n",
       "      <td>30.219999</td>\n",
       "      <td>29.500000</td>\n",
       "      <td>29.680000</td>\n",
       "      <td>29.680000</td>\n",
       "      <td>76172700</td>\n",
       "    </tr>\n",
       "    <tr>\n",
       "      <th>4</th>\n",
       "      <td>2021-10-15</td>\n",
       "      <td>29.799999</td>\n",
       "      <td>29.840000</td>\n",
       "      <td>29.510000</td>\n",
       "      <td>29.600000</td>\n",
       "      <td>29.600000</td>\n",
       "      <td>72479900</td>\n",
       "    </tr>\n",
       "    <tr>\n",
       "      <th>5</th>\n",
       "      <td>2021-10-15</td>\n",
       "      <td>29.799999</td>\n",
       "      <td>29.840000</td>\n",
       "      <td>29.510000</td>\n",
       "      <td>29.600000</td>\n",
       "      <td>29.600000</td>\n",
       "      <td>71603100</td>\n",
       "    </tr>\n",
       "  </tbody>\n",
       "</table>\n",
       "</div>"
      ],
      "text/plain": [
       "         Date       Open       High        Low      Close  Adj Close    Volume\n",
       "0  2021-10-13  29.170000  29.700001  29.080000  29.629999  29.629999  55605400\n",
       "2  2021-10-14  29.860001  30.219999  29.500000  29.680000  29.680000  76172700\n",
       "4  2021-10-15  29.799999  29.840000  29.510000  29.600000  29.600000  72479900\n",
       "5  2021-10-15  29.799999  29.840000  29.510000  29.600000  29.600000  71603100"
      ]
     },
     "execution_count": 12,
     "metadata": {},
     "output_type": "execute_result"
    }
   ],
   "source": [
    "new_dados_final = new_dados.drop(3)\n",
    "new_dados_final"
   ]
  },
  {
   "cell_type": "code",
   "execution_count": 13,
   "metadata": {
    "scrolled": true
   },
   "outputs": [
    {
     "name": "stdout",
     "output_type": "stream",
     "text": [
      "Date         object\n",
      "Open         object\n",
      "High         object\n",
      "Low          object\n",
      "Close        object\n",
      "Adj Close    object\n",
      "Volume       object\n",
      "dtype: object\n"
     ]
    }
   ],
   "source": [
    "print(new_dados_final.dtypes)"
   ]
  },
  {
   "cell_type": "code",
   "execution_count": 17,
   "metadata": {
    "scrolled": true
   },
   "outputs": [
    {
     "name": "stdout",
     "output_type": "stream",
     "text": [
      "Date         datetime64[ns]\n",
      "Open                 object\n",
      "High                 object\n",
      "Low                  object\n",
      "Close                object\n",
      "Adj Close            object\n",
      "Volume               object\n",
      "dtype: object\n"
     ]
    },
    {
     "data": {
      "text/html": [
       "<div>\n",
       "<style scoped>\n",
       "    .dataframe tbody tr th:only-of-type {\n",
       "        vertical-align: middle;\n",
       "    }\n",
       "\n",
       "    .dataframe tbody tr th {\n",
       "        vertical-align: top;\n",
       "    }\n",
       "\n",
       "    .dataframe thead th {\n",
       "        text-align: right;\n",
       "    }\n",
       "</style>\n",
       "<table border=\"1\" class=\"dataframe\">\n",
       "  <thead>\n",
       "    <tr style=\"text-align: right;\">\n",
       "      <th></th>\n",
       "      <th>Date</th>\n",
       "      <th>Open</th>\n",
       "      <th>High</th>\n",
       "      <th>Low</th>\n",
       "      <th>Close</th>\n",
       "      <th>Adj Close</th>\n",
       "      <th>Volume</th>\n",
       "    </tr>\n",
       "  </thead>\n",
       "  <tbody>\n",
       "    <tr>\n",
       "      <th>0</th>\n",
       "      <td>2021-10-13</td>\n",
       "      <td>29.170000</td>\n",
       "      <td>29.700001</td>\n",
       "      <td>29.080000</td>\n",
       "      <td>29.629999</td>\n",
       "      <td>29.629999</td>\n",
       "      <td>55605400</td>\n",
       "    </tr>\n",
       "    <tr>\n",
       "      <th>2</th>\n",
       "      <td>2021-10-14</td>\n",
       "      <td>29.860001</td>\n",
       "      <td>30.219999</td>\n",
       "      <td>29.500000</td>\n",
       "      <td>29.680000</td>\n",
       "      <td>29.680000</td>\n",
       "      <td>76172700</td>\n",
       "    </tr>\n",
       "    <tr>\n",
       "      <th>4</th>\n",
       "      <td>2021-10-15</td>\n",
       "      <td>29.799999</td>\n",
       "      <td>29.840000</td>\n",
       "      <td>29.510000</td>\n",
       "      <td>29.600000</td>\n",
       "      <td>29.600000</td>\n",
       "      <td>72479900</td>\n",
       "    </tr>\n",
       "    <tr>\n",
       "      <th>5</th>\n",
       "      <td>2021-10-15</td>\n",
       "      <td>29.799999</td>\n",
       "      <td>29.840000</td>\n",
       "      <td>29.510000</td>\n",
       "      <td>29.600000</td>\n",
       "      <td>29.600000</td>\n",
       "      <td>71603100</td>\n",
       "    </tr>\n",
       "  </tbody>\n",
       "</table>\n",
       "</div>"
      ],
      "text/plain": [
       "        Date       Open       High        Low      Close  Adj Close    Volume\n",
       "0 2021-10-13  29.170000  29.700001  29.080000  29.629999  29.629999  55605400\n",
       "2 2021-10-14  29.860001  30.219999  29.500000  29.680000  29.680000  76172700\n",
       "4 2021-10-15  29.799999  29.840000  29.510000  29.600000  29.600000  72479900\n",
       "5 2021-10-15  29.799999  29.840000  29.510000  29.600000  29.600000  71603100"
      ]
     },
     "execution_count": 17,
     "metadata": {},
     "output_type": "execute_result"
    }
   ],
   "source": [
    "# Alterar tipo da col Date\n",
    "new_dados_final.Date = pd.to_datetime(new_dados_final.Date)\n",
    "\n",
    "print(new_dados_final.dtypes)\n",
    "new_dados_final"
   ]
  },
  {
   "cell_type": "code",
   "execution_count": 19,
   "metadata": {
    "scrolled": true
   },
   "outputs": [
    {
     "data": {
      "text/html": [
       "<div>\n",
       "<style scoped>\n",
       "    .dataframe tbody tr th:only-of-type {\n",
       "        vertical-align: middle;\n",
       "    }\n",
       "\n",
       "    .dataframe tbody tr th {\n",
       "        vertical-align: top;\n",
       "    }\n",
       "\n",
       "    .dataframe thead th {\n",
       "        text-align: right;\n",
       "    }\n",
       "</style>\n",
       "<table border=\"1\" class=\"dataframe\">\n",
       "  <thead>\n",
       "    <tr style=\"text-align: right;\">\n",
       "      <th></th>\n",
       "      <th>Date</th>\n",
       "      <th>Open</th>\n",
       "      <th>High</th>\n",
       "      <th>Low</th>\n",
       "      <th>Close</th>\n",
       "      <th>Adj Close</th>\n",
       "      <th>Volume</th>\n",
       "    </tr>\n",
       "  </thead>\n",
       "  <tbody>\n",
       "    <tr>\n",
       "      <th>0</th>\n",
       "      <td>2021-10-13</td>\n",
       "      <td>29.170000</td>\n",
       "      <td>29.700001</td>\n",
       "      <td>29.080000</td>\n",
       "      <td>29.629999</td>\n",
       "      <td>29.629999</td>\n",
       "      <td>55605400</td>\n",
       "    </tr>\n",
       "    <tr>\n",
       "      <th>2</th>\n",
       "      <td>2021-10-14</td>\n",
       "      <td>29.860001</td>\n",
       "      <td>30.219999</td>\n",
       "      <td>29.500000</td>\n",
       "      <td>29.680000</td>\n",
       "      <td>29.680000</td>\n",
       "      <td>76172700</td>\n",
       "    </tr>\n",
       "    <tr>\n",
       "      <th>4</th>\n",
       "      <td>2021-10-15</td>\n",
       "      <td>29.799999</td>\n",
       "      <td>29.840000</td>\n",
       "      <td>29.510000</td>\n",
       "      <td>29.600000</td>\n",
       "      <td>29.600000</td>\n",
       "      <td>72479900</td>\n",
       "    </tr>\n",
       "    <tr>\n",
       "      <th>5</th>\n",
       "      <td>2021-10-15</td>\n",
       "      <td>29.799999</td>\n",
       "      <td>29.840000</td>\n",
       "      <td>29.510000</td>\n",
       "      <td>29.600000</td>\n",
       "      <td>29.600000</td>\n",
       "      <td>71603100</td>\n",
       "    </tr>\n",
       "  </tbody>\n",
       "</table>\n",
       "</div>"
      ],
      "text/plain": [
       "        Date       Open       High        Low      Close  Adj Close    Volume\n",
       "0 2021-10-13  29.170000  29.700001  29.080000  29.629999  29.629999  55605400\n",
       "2 2021-10-14  29.860001  30.219999  29.500000  29.680000  29.680000  76172700\n",
       "4 2021-10-15  29.799999  29.840000  29.510000  29.600000  29.600000  72479900\n",
       "5 2021-10-15  29.799999  29.840000  29.510000  29.600000  29.600000  71603100"
      ]
     },
     "execution_count": 19,
     "metadata": {},
     "output_type": "execute_result"
    }
   ],
   "source": [
    "# Ordenar pela data\n",
    "new_dados_final.sort_values(by = 'Date', inplace = True)\n",
    "new_dados_final\n",
    "\n",
    "#inplace = True significa alterar o proprio dataset.  "
   ]
  },
  {
   "cell_type": "code",
   "execution_count": 20,
   "metadata": {},
   "outputs": [
    {
     "data": {
      "text/plain": [
       "(4, 7)"
      ]
     },
     "execution_count": 20,
     "metadata": {},
     "output_type": "execute_result"
    }
   ],
   "source": [
    "new_dados_final.shape"
   ]
  },
  {
   "cell_type": "code",
   "execution_count": null,
   "metadata": {},
   "outputs": [],
   "source": [
    "# End"
   ]
  }
 ],
 "metadata": {
  "kernelspec": {
   "display_name": "Python 3",
   "language": "python",
   "name": "python3"
  },
  "language_info": {
   "codemirror_mode": {
    "name": "ipython",
    "version": 3
   },
   "file_extension": ".py",
   "mimetype": "text/x-python",
   "name": "python",
   "nbconvert_exporter": "python",
   "pygments_lexer": "ipython3",
   "version": "3.7.6"
  }
 },
 "nbformat": 4,
 "nbformat_minor": 4
}
