{
 "cells": [
  {
   "cell_type": "code",
   "execution_count": 1,
   "metadata": {},
   "outputs": [],
   "source": [
    "import pandas as pd\n",
    "import time\n",
    "import datetime"
   ]
  },
  {
   "cell_type": "code",
   "execution_count": 2,
   "metadata": {},
   "outputs": [],
   "source": [
    "df_food = pd.read_csv(\"dados/dataset.csv\", encoding = 'utf-8')"
   ]
  },
  {
   "cell_type": "code",
   "execution_count": 3,
   "metadata": {},
   "outputs": [
    {
     "data": {
      "text/plain": [
       "(260645, 7)"
      ]
     },
     "execution_count": 3,
     "metadata": {},
     "output_type": "execute_result"
    }
   ],
   "source": [
    "df_food.shape"
   ]
  },
  {
   "cell_type": "code",
   "execution_count": 5,
   "metadata": {},
   "outputs": [
    {
     "data": {
      "text/html": [
       "<div>\n",
       "<style scoped>\n",
       "    .dataframe tbody tr th:only-of-type {\n",
       "        vertical-align: middle;\n",
       "    }\n",
       "\n",
       "    .dataframe tbody tr th {\n",
       "        vertical-align: top;\n",
       "    }\n",
       "\n",
       "    .dataframe thead th {\n",
       "        text-align: right;\n",
       "    }\n",
       "</style>\n",
       "<table border=\"1\" class=\"dataframe\">\n",
       "  <thead>\n",
       "    <tr style=\"text-align: right;\">\n",
       "      <th></th>\n",
       "      <th>id_transacao</th>\n",
       "      <th>horario_pedido</th>\n",
       "      <th>localidade</th>\n",
       "      <th>nome_item</th>\n",
       "      <th>quantidade_item</th>\n",
       "      <th>latitude</th>\n",
       "      <th>longitude</th>\n",
       "    </tr>\n",
       "  </thead>\n",
       "  <tbody>\n",
       "    <tr>\n",
       "      <th>0</th>\n",
       "      <td>0x7901ee</td>\n",
       "      <td>2019-01-16 18:33:00</td>\n",
       "      <td>7</td>\n",
       "      <td>bebida</td>\n",
       "      <td>2</td>\n",
       "      <td>41.794132</td>\n",
       "      <td>-88.01014</td>\n",
       "    </tr>\n",
       "    <tr>\n",
       "      <th>1</th>\n",
       "      <td>0x7901ee</td>\n",
       "      <td>2019-01-16 18:33:00</td>\n",
       "      <td>7</td>\n",
       "      <td>pizza</td>\n",
       "      <td>2</td>\n",
       "      <td>41.794132</td>\n",
       "      <td>-88.01014</td>\n",
       "    </tr>\n",
       "    <tr>\n",
       "      <th>2</th>\n",
       "      <td>0x7901ee</td>\n",
       "      <td>2019-01-16 18:33:00</td>\n",
       "      <td>7</td>\n",
       "      <td>sobremesa</td>\n",
       "      <td>2</td>\n",
       "      <td>41.794132</td>\n",
       "      <td>-88.01014</td>\n",
       "    </tr>\n",
       "  </tbody>\n",
       "</table>\n",
       "</div>"
      ],
      "text/plain": [
       "  id_transacao       horario_pedido  localidade  nome_item  quantidade_item  \\\n",
       "0     0x7901ee  2019-01-16 18:33:00           7     bebida                2   \n",
       "1     0x7901ee  2019-01-16 18:33:00           7      pizza                2   \n",
       "2     0x7901ee  2019-01-16 18:33:00           7  sobremesa                2   \n",
       "\n",
       "    latitude  longitude  \n",
       "0  41.794132  -88.01014  \n",
       "1  41.794132  -88.01014  \n",
       "2  41.794132  -88.01014  "
      ]
     },
     "execution_count": 5,
     "metadata": {},
     "output_type": "execute_result"
    }
   ],
   "source": [
    "df_food.head(3)"
   ]
  },
  {
   "cell_type": "markdown",
   "metadata": {},
   "source": [
    "### 1- Extracting Time Granularity\n",
    "\n",
    "- The order Time column has details such as month, day and year. At some point it may be interesting to segment by month, for example."
   ]
  },
  {
   "cell_type": "code",
   "execution_count": 6,
   "metadata": {},
   "outputs": [],
   "source": [
    "# Extract the month and put it in a separate column\n",
    "df_food['mes'] = df_food['horario_pedido'].apply(lambda x: time.strftime(\"%m\", time.strptime(x,\"%Y-%m-%d %H:%M:%S\")))"
   ]
  },
  {
   "cell_type": "code",
   "execution_count": 7,
   "metadata": {},
   "outputs": [
    {
     "data": {
      "text/html": [
       "<div>\n",
       "<style scoped>\n",
       "    .dataframe tbody tr th:only-of-type {\n",
       "        vertical-align: middle;\n",
       "    }\n",
       "\n",
       "    .dataframe tbody tr th {\n",
       "        vertical-align: top;\n",
       "    }\n",
       "\n",
       "    .dataframe thead th {\n",
       "        text-align: right;\n",
       "    }\n",
       "</style>\n",
       "<table border=\"1\" class=\"dataframe\">\n",
       "  <thead>\n",
       "    <tr style=\"text-align: right;\">\n",
       "      <th></th>\n",
       "      <th>id_transacao</th>\n",
       "      <th>horario_pedido</th>\n",
       "      <th>localidade</th>\n",
       "      <th>nome_item</th>\n",
       "      <th>quantidade_item</th>\n",
       "      <th>latitude</th>\n",
       "      <th>longitude</th>\n",
       "      <th>mes</th>\n",
       "    </tr>\n",
       "  </thead>\n",
       "  <tbody>\n",
       "    <tr>\n",
       "      <th>0</th>\n",
       "      <td>0x7901ee</td>\n",
       "      <td>2019-01-16 18:33:00</td>\n",
       "      <td>7</td>\n",
       "      <td>bebida</td>\n",
       "      <td>2</td>\n",
       "      <td>41.794132</td>\n",
       "      <td>-88.010140</td>\n",
       "      <td>01</td>\n",
       "    </tr>\n",
       "    <tr>\n",
       "      <th>1</th>\n",
       "      <td>0x7901ee</td>\n",
       "      <td>2019-01-16 18:33:00</td>\n",
       "      <td>7</td>\n",
       "      <td>pizza</td>\n",
       "      <td>2</td>\n",
       "      <td>41.794132</td>\n",
       "      <td>-88.010140</td>\n",
       "      <td>01</td>\n",
       "    </tr>\n",
       "    <tr>\n",
       "      <th>2</th>\n",
       "      <td>0x7901ee</td>\n",
       "      <td>2019-01-16 18:33:00</td>\n",
       "      <td>7</td>\n",
       "      <td>sobremesa</td>\n",
       "      <td>2</td>\n",
       "      <td>41.794132</td>\n",
       "      <td>-88.010140</td>\n",
       "      <td>01</td>\n",
       "    </tr>\n",
       "    <tr>\n",
       "      <th>3</th>\n",
       "      <td>0x12b47f</td>\n",
       "      <td>2019-09-04 12:36:00</td>\n",
       "      <td>3</td>\n",
       "      <td>salada</td>\n",
       "      <td>1</td>\n",
       "      <td>41.884490</td>\n",
       "      <td>-87.627059</td>\n",
       "      <td>09</td>\n",
       "    </tr>\n",
       "    <tr>\n",
       "      <th>4</th>\n",
       "      <td>0x12b47f</td>\n",
       "      <td>2019-09-04 12:36:00</td>\n",
       "      <td>3</td>\n",
       "      <td>sobremesa</td>\n",
       "      <td>1</td>\n",
       "      <td>41.884490</td>\n",
       "      <td>-87.627059</td>\n",
       "      <td>09</td>\n",
       "    </tr>\n",
       "    <tr>\n",
       "      <th>5</th>\n",
       "      <td>0x6d6979</td>\n",
       "      <td>2019-03-18 00:27:00</td>\n",
       "      <td>6</td>\n",
       "      <td>pizza</td>\n",
       "      <td>2</td>\n",
       "      <td>41.784576</td>\n",
       "      <td>-87.607565</td>\n",
       "      <td>03</td>\n",
       "    </tr>\n",
       "    <tr>\n",
       "      <th>6</th>\n",
       "      <td>0x6d6979</td>\n",
       "      <td>2019-03-18 00:27:00</td>\n",
       "      <td>6</td>\n",
       "      <td>sobremesa</td>\n",
       "      <td>2</td>\n",
       "      <td>41.784576</td>\n",
       "      <td>-87.607565</td>\n",
       "      <td>03</td>\n",
       "    </tr>\n",
       "    <tr>\n",
       "      <th>7</th>\n",
       "      <td>0x78dd1e</td>\n",
       "      <td>2019-09-22 00:10:00</td>\n",
       "      <td>2</td>\n",
       "      <td>bebida</td>\n",
       "      <td>2</td>\n",
       "      <td>42.049306</td>\n",
       "      <td>-87.677606</td>\n",
       "      <td>09</td>\n",
       "    </tr>\n",
       "    <tr>\n",
       "      <th>8</th>\n",
       "      <td>0x78dd1e</td>\n",
       "      <td>2019-09-22 00:10:00</td>\n",
       "      <td>2</td>\n",
       "      <td>pizza</td>\n",
       "      <td>2</td>\n",
       "      <td>42.049306</td>\n",
       "      <td>-87.677606</td>\n",
       "      <td>09</td>\n",
       "    </tr>\n",
       "    <tr>\n",
       "      <th>9</th>\n",
       "      <td>0x78dd1e</td>\n",
       "      <td>2019-09-22 00:10:00</td>\n",
       "      <td>2</td>\n",
       "      <td>sobremesa</td>\n",
       "      <td>2</td>\n",
       "      <td>42.049306</td>\n",
       "      <td>-87.677606</td>\n",
       "      <td>09</td>\n",
       "    </tr>\n",
       "  </tbody>\n",
       "</table>\n",
       "</div>"
      ],
      "text/plain": [
       "  id_transacao       horario_pedido  localidade  nome_item  quantidade_item  \\\n",
       "0     0x7901ee  2019-01-16 18:33:00           7     bebida                2   \n",
       "1     0x7901ee  2019-01-16 18:33:00           7      pizza                2   \n",
       "2     0x7901ee  2019-01-16 18:33:00           7  sobremesa                2   \n",
       "3     0x12b47f  2019-09-04 12:36:00           3     salada                1   \n",
       "4     0x12b47f  2019-09-04 12:36:00           3  sobremesa                1   \n",
       "5     0x6d6979  2019-03-18 00:27:00           6      pizza                2   \n",
       "6     0x6d6979  2019-03-18 00:27:00           6  sobremesa                2   \n",
       "7     0x78dd1e  2019-09-22 00:10:00           2     bebida                2   \n",
       "8     0x78dd1e  2019-09-22 00:10:00           2      pizza                2   \n",
       "9     0x78dd1e  2019-09-22 00:10:00           2  sobremesa                2   \n",
       "\n",
       "    latitude  longitude mes  \n",
       "0  41.794132 -88.010140  01  \n",
       "1  41.794132 -88.010140  01  \n",
       "2  41.794132 -88.010140  01  \n",
       "3  41.884490 -87.627059  09  \n",
       "4  41.884490 -87.627059  09  \n",
       "5  41.784576 -87.607565  03  \n",
       "6  41.784576 -87.607565  03  \n",
       "7  42.049306 -87.677606  09  \n",
       "8  42.049306 -87.677606  09  \n",
       "9  42.049306 -87.677606  09  "
      ]
     },
     "execution_count": 7,
     "metadata": {},
     "output_type": "execute_result"
    }
   ],
   "source": [
    "df_food.head(10)"
   ]
  },
  {
   "cell_type": "code",
   "execution_count": 8,
   "metadata": {},
   "outputs": [
    {
     "data": {
      "text/plain": [
       "id_transacao       100000\n",
       "horario_pedido      76799\n",
       "localidade              9\n",
       "nome_item               4\n",
       "quantidade_item         5\n",
       "latitude                9\n",
       "longitude               9\n",
       "mes                    12\n",
       "dtype: int64"
      ]
     },
     "execution_count": 8,
     "metadata": {},
     "output_type": "execute_result"
    }
   ],
   "source": [
    "df_food.nunique()"
   ]
  },
  {
   "cell_type": "markdown",
   "metadata": {},
   "source": [
    "#### End"
   ]
  }
 ],
 "metadata": {
  "kernelspec": {
   "display_name": "Python 3",
   "language": "python",
   "name": "python3"
  },
  "language_info": {
   "codemirror_mode": {
    "name": "ipython",
    "version": 3
   },
   "file_extension": ".py",
   "mimetype": "text/x-python",
   "name": "python",
   "nbconvert_exporter": "python",
   "pygments_lexer": "ipython3",
   "version": "3.7.6"
  }
 },
 "nbformat": 4,
 "nbformat_minor": 4
}
