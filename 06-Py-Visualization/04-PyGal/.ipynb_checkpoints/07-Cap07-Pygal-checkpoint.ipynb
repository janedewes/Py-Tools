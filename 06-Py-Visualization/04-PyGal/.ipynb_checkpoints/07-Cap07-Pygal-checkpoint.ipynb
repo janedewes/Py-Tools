{
 "cells": [
  {
   "cell_type": "markdown",
   "metadata": {},
   "source": [
    "# Pygal"
   ]
  },
  {
   "cell_type": "markdown",
   "metadata": {},
   "source": [
    "http://pygal.org/ pacote free - para objetos svg"
   ]
  },
  {
   "cell_type": "markdown",
   "metadata": {},
   "source": [
    "https://github.com/Kozea/pygal"
   ]
  },
  {
   "cell_type": "code",
   "execution_count": 1,
   "metadata": {
    "scrolled": true
   },
   "outputs": [
    {
     "name": "stdout",
     "output_type": "stream",
     "text": [
      "Python version: 3.7.6\n"
     ]
    }
   ],
   "source": [
    "# Versão do Python\n",
    "import sys\n",
    "import warnings\n",
    "warnings.filterwarnings(\"ignore\")\n",
    "\n",
    "pyversion_major = sys.version_info[0];\n",
    "pyversion_minor = sys.version_info[1];\n",
    "pyversion_micro = sys.version_info[2];\n",
    "\n",
    "print(\"Python version: %s.%s.%s\" % (pyversion_major, pyversion_minor, pyversion_micro))"
   ]
  },
  {
   "cell_type": "markdown",
   "metadata": {},
   "source": [
    "# Usando svgwrite"
   ]
  },
  {
   "cell_type": "code",
   "execution_count": 2,
   "metadata": {},
   "outputs": [
    {
     "name": "stdout",
     "output_type": "stream",
     "text": [
      "Collecting svgwrite\n",
      "  Downloading svgwrite-1.4-py3-none-any.whl (66 kB)\n",
      "Installing collected packages: svgwrite\n",
      "Successfully installed svgwrite-1.4\n"
     ]
    }
   ],
   "source": [
    "# Instala o pacote - esse pacote permite gerar um  arq svg\n",
    "!pip install svgwrite"
   ]
  },
  {
   "cell_type": "code",
   "execution_count": 3,
   "metadata": {},
   "outputs": [],
   "source": [
    "# Importa o pacote\n",
    "import svgwrite"
   ]
  },
  {
   "cell_type": "code",
   "execution_count": 4,
   "metadata": {},
   "outputs": [],
   "source": [
    "# Desenhando um objeto SVG - usando o svgwrite: (img xml)\n",
    "\n",
    "drawObj = svgwrite.Drawing('grafico01.svg', profile = 'tiny', width = 444, height = 300)\n",
    "drawObj.add(drawObj.text('Teste', insert = (15, 64), fill = 'red', font_size = 70, font_family = 'sans-serif', font_weight = 'bold'))\n",
    "drawObj.add(drawObj.line((10, 10), (10, 70), stroke = svgwrite.rgb(0, 0, 0, '%')))\n",
    "drawObj.add(drawObj.line((10, 70), (370, 70), stroke = svgwrite.rgb(0, 0, 0, '%')))\n",
    "drawObj.save()"
   ]
  },
  {
   "cell_type": "markdown",
   "metadata": {},
   "source": [
    "# Usando PyGal "
   ]
  },
  {
   "cell_type": "code",
   "execution_count": 5,
   "metadata": {},
   "outputs": [
    {
     "name": "stdout",
     "output_type": "stream",
     "text": [
      "Collecting pygal\n",
      "  Downloading pygal-2.4.0-py2.py3-none-any.whl (127 kB)\n",
      "Installing collected packages: pygal\n",
      "Successfully installed pygal-2.4.0\n"
     ]
    }
   ],
   "source": [
    "# Instala o pacote\n",
    "!pip install pygal"
   ]
  },
  {
   "cell_type": "code",
   "execution_count": 6,
   "metadata": {},
   "outputs": [],
   "source": [
    "# Importa o pacote\n",
    "import pygal"
   ]
  },
  {
   "cell_type": "code",
   "execution_count": 7,
   "metadata": {},
   "outputs": [],
   "source": [
    "# Gráfico de Barras Horizontais\n",
    "bar = pygal.HorizontalBar()\n",
    "bar.title = 'Busca pelo termo: Machine Learning'\n",
    "bar.add('Buscas', [81, 88, 88, 100]) # dados\n",
    "bar.render_to_file('grafico02_bar_chart.svg') # gravar o arq .svg"
   ]
  },
  {
   "cell_type": "code",
   "execution_count": 8,
   "metadata": {},
   "outputs": [],
   "source": [
    "# Gráfico de Barras verticais\n",
    "bar = pygal.Bar()\n",
    "bar.title = 'Busca pelo termo: Big Data'\n",
    "bar.x_labels = map(str, range(2011, 2015))\n",
    "bar.add('Buscas', [81, 88, 88, 100])\n",
    "bar.render_to_file('grafico03_bar_chart.svg')"
   ]
  },
  {
   "cell_type": "code",
   "execution_count": 9,
   "metadata": {},
   "outputs": [],
   "source": [
    "# Gráfico de Linhas\n",
    "line = pygal.Line() \n",
    "line.title = 'Acessos ao Web Site nos últimos 2 anos' \n",
    "line.x_labels = map(str, range(2012, 2014)) \n",
    "line.add('Page views', [None, 0, 12, 32, 72, 148]) \n",
    "line.render_to_file('grafico04_linechart.svg') "
   ]
  },
  {
   "cell_type": "code",
   "execution_count": 13,
   "metadata": {},
   "outputs": [],
   "source": [
    "# ScatterPlot\n",
    "xy_chart = pygal.XY(stroke = False)\n",
    "xy_chart.add('Variável 1',  [(-50, -30), (100, 45), (120, 56), (168, 102), (211, 192), (279, 211)])\n",
    "xy_chart.add('Variável 2',  [(-2, -14), (370, 444), (391, 464), (399, 512), (412, 569), (789, 896)])\n",
    "xy_chart.add('Variável 3',  [(2, 10), (142, 164), (184, 216), (203, 243), (208, 335), (243, 201)])\n",
    "xy_chart.render_to_file(\"grafico05_xy_chart.svg\")"
   ]
  },
  {
   "cell_type": "code",
   "execution_count": 10,
   "metadata": {},
   "outputs": [],
   "source": [
    "# Stacked Bar Chart\n",
    "bar = pygal.StackedBar()\n",
    "bar.title = 'Busca pelo termo: Data Science'\n",
    "bar.x_labels = map(str, range(2011, 2015))\n",
    "bar.add('Homens', [81, 88, 88, 100])\n",
    "bar.add('Mulheres', [78, 84, 69, 92])\n",
    "bar.render_to_file('grafico06_bar_chart.svg')"
   ]
  },
  {
   "cell_type": "code",
   "execution_count": 12,
   "metadata": {},
   "outputs": [],
   "source": [
    "# Stacked Line Chart\n",
    "line = pygal.StackedLine(fill = True)\n",
    "line.title = 'Acessos ao Web Site nos últimos 2 anos' \n",
    "line.x_labels = map(str, range(2012, 2014)) \n",
    "line.add('Site A', [None, 0, 12, 32, 72, 148]) \n",
    "line.add('Site B', [2, 16, 12, 87, 91, 342]) \n",
    "line.add('Site C', [42, 55, 84, 88, 90, 171]) \n",
    "line.render_to_file('grafico07_linechart.svg') "
   ]
  },
  {
   "cell_type": "code",
   "execution_count": 14,
   "metadata": {},
   "outputs": [],
   "source": [
    "# Gráfico Matemático\n",
    "xy_chart = pygal.XY()\n",
    "xy_chart.add('Value 1',  [(-50, -30), (100, 45)])\n",
    "xy_chart.render_to_file(\"grafico08_xy_chart.svg\")"
   ]
  },
  {
   "cell_type": "code",
   "execution_count": 15,
   "metadata": {},
   "outputs": [],
   "source": [
    "# Gráfico Matemático\n",
    "xy_chart = pygal.XY()\n",
    "xy_chart.add('Valor 1',  [(-50, -30), (100, 45)])\n",
    "xy_chart.add('Valor 2',  [(-2, -14), (370, 444)])\n",
    "xy_chart.render_to_file(\"grafico09_xy_chart.svg\")"
   ]
  },
  {
   "cell_type": "code",
   "execution_count": 16,
   "metadata": {},
   "outputs": [],
   "source": [
    "# Gráfico Matemático\n",
    "xy_chart = pygal.XY()\n",
    "xy_chart.add('Valor 1',  [(-50, -30), (100, 45), (120, 56), (168, 102), (211, 192), (279, 211)])\n",
    "xy_chart.add('Valor 2',  [(-2, -14), (370, 444), (391, 464), (399, 512), (412, 569), (789, 896)])\n",
    "xy_chart.add('Valor 3',  [(2, 10), (142, 164), (184, 216), (203, 243), (208, 335), (243, 201)])\n",
    "xy_chart.render_to_file(\"grafico10_xy_chart.svg\")"
   ]
  },
  {
   "cell_type": "markdown",
   "metadata": {},
   "source": [
    "## Fim"
   ]
  }
 ],
 "metadata": {
  "anaconda-cloud": {},
  "kernelspec": {
   "display_name": "Python 3",
   "language": "python",
   "name": "python3"
  },
  "language_info": {
   "codemirror_mode": {
    "name": "ipython",
    "version": 3
   },
   "file_extension": ".py",
   "mimetype": "text/x-python",
   "name": "python",
   "nbconvert_exporter": "python",
   "pygments_lexer": "ipython3",
   "version": "3.7.6"
  }
 },
 "nbformat": 4,
 "nbformat_minor": 1
}
