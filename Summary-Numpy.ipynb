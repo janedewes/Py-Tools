{
 "cells": [
  {
   "cell_type": "markdown",
   "metadata": {},
   "source": [
    "# Comandos Numpy"
   ]
  },
  {
   "cell_type": "markdown",
   "metadata": {},
   "source": [
    "### Em Python TUDO é objeto, com métodos e atributos\n",
    "\n",
    "### Método - realiza ação no objeto\n",
    "\n",
    "### Atributo - característica do objeto"
   ]
  },
  {
   "cell_type": "code",
   "execution_count": null,
   "metadata": {},
   "outputs": [],
   "source": [
    "import numpy as np"
   ]
  },
  {
   "cell_type": "code",
   "execution_count": null,
   "metadata": {},
   "outputs": [],
   "source": [
    "# Atributos (para visualizar infos)\n",
    "objeto.\"APERTAR A TECLA TAB\"\n",
    "# ex:\n",
    "array1.shape # formato\n",
    "array2.ndim # Dimensao\n",
    "array3.dtype # tipo de dados dentro de um array"
   ]
  },
  {
   "cell_type": "code",
   "execution_count": null,
   "metadata": {},
   "outputs": [],
   "source": [
    "# Metodos (para executar acoes)\n",
    "# ex:\n",
    "array2.max()\n",
    "array2..copy()\n",
    "# Ordenando matriz por linhas\n",
    "array7.sort(axis = 1)\n",
    "# Ordenando matriz por colunas\n",
    "array8.sort(axis = 0)\n"
   ]
  },
  {
   "cell_type": "markdown",
   "metadata": {},
   "source": [
    "### Criar estruturas de dados com Numpy"
   ]
  },
  {
   "cell_type": "code",
   "execution_count": null,
   "metadata": {},
   "outputs": [],
   "source": [
    "# Criar array:\n",
    "np.array([]) #uni - vetor\n",
    "np.array([],[]) #bi - matriz, tabela\n",
    "\n",
    "# Criar estruturas de dados com a fc arange\n",
    "array3 = np.arange(15)\n",
    "\n",
    "# Usando start/end (exclusive)\n",
    "array4 = np.arange(0, 15, 5)\n",
    "\n",
    "# Criando estruturas de dados com linspace\n",
    "# Argumentos: (start, end, number of elements)\n",
    "array5 = np.linspace(0, 3, 4)\n",
    "\n",
    "\n",
    "# Criando estruturas de dados com outras funções:\n",
    "\n",
    "# numpy.zeros\n",
    "# Array 10x8 de zeros\n",
    "array6 = np.zeros((10, 8)); array6\n",
    "\n",
    "#numpy.ones\n",
    "# Array 2x3x2 de 1's\n",
    "array7 = np.ones((2, 3, 2)); array7\n",
    "\n",
    "# numpy.eye\n",
    "# Produz uma Identitiy Matrix \n",
    "array8 = np.eye(3); array8\n",
    "\n",
    "# Matriz diagonal\n",
    "array9 = np.diag((2,1,4,6)); array9\n",
    "\n",
    "#numpy.random.rand\n",
    "# A função rand(n) produz uma sequência de números uniformemente distribuídos com range de 0 a n\n",
    "array10 = np.random.rand(5) \n",
    "array10\n",
    "\n",
    "# A função randn(n) produz uma sequência de números com distribuição normal (Gaussian)\n",
    "array11 = np.random.randn(5)\n",
    "array11\n",
    "\n",
    "# numpy.empty\n",
    "array12 = np.empty((3,2))\n",
    "array12\n",
    "\n",
    "# numpy.tile (azulejo)\n",
    "np.array([[9, 4], [3, 7]]) # criar array\n",
    "np.tile(np.array([[9, 4], [3, 7]]), 4) # a fc tile vai duplicando o array criado acima (sentido de col )\n",
    "np.tile(np.array([[9, 4], [3, 7]]), (2,2)) # faz a mesma coisa so que no sentido de linhas\n",
    "\n",
    "\n",
    "# Podemos criar arrays com Python, sem usar o módulo NumPy. Porém o NumPy é muito mais rápido\n",
    "\n",
    "array_numpy = np.arange(1000)\n",
    "%timeit array_numpy ** 4 # calcula o tempo que ele levou para executar\n",
    "\n",
    "array_python = range(1000)\n",
    "%timeit [array_python[i] ** 4 for i in array_python] #usando list comprehension"
   ]
  },
  {
   "cell_type": "markdown",
   "metadata": {},
   "source": [
    "### Tipos de Dados NumPy"
   ]
  },
  {
   "cell_type": "code",
   "execution_count": null,
   "metadata": {},
   "outputs": [],
   "source": [
    "# Determinar os tipos de dados que serao colocados dentro do array \n",
    "array13 = np.array([8, -3, 5, 9], dtype = 'float')\n",
    "\n",
    "# Converter o tipo de dado:\n",
    "array18 = np.array([7, -3, 5.24])\n",
    "array18.dtype # float\n",
    "array18.astype(int) # converter em int"
   ]
  },
  {
   "cell_type": "markdown",
   "metadata": {},
   "source": [
    "### Operações com Arrays"
   ]
  },
  {
   "cell_type": "code",
   "execution_count": null,
   "metadata": {},
   "outputs": [],
   "source": [
    "# Array começando por 0, com 30 elementos e multiplicado po 5 (CADA ELEMENTO DO ARRAY)\n",
    "array19 = np.arange(0, 30) * 5 # multiplicar\n",
    "array19 \n",
    "\n",
    "# Elevando um array a potência\n",
    "array20 = np.arange(5) ** 4\n",
    "\n",
    "# Somando um número a cada elemento do array\n",
    "array21 = np.arange(0, 30) + 1\n",
    "\n",
    "# Operacoes entre os arrays\n",
    "array22 = np.arange(0, 30,3) + 3\n",
    "array23 = np.arange(1,11)\n",
    "\n",
    "# Subtração\n",
    "array22 - array23\n",
    "\n",
    "# Soma\n",
    "array22 + array23\n",
    "\n",
    "# Divisão\n",
    "array22 / array23\n",
    "\n",
    "# Multiplicação\n",
    "array22 * array23\n",
    "\n",
    "# Podemos ainda comparar arrays\n",
    "array22 > array23\n",
    "\n",
    "# Operacoes com valores logicos\n",
    "arr1 = np.array([True,False,True,False])\n",
    "arr2 = np.array([False,False,True, False])\n",
    "np.logical_and(arr1, arr2)\n"
   ]
  },
  {
   "cell_type": "markdown",
   "metadata": {},
   "source": [
    "### Indexação e Slicing com Numpy"
   ]
  },
  {
   "cell_type": "code",
   "execution_count": null,
   "metadata": {},
   "outputs": [],
   "source": [
    "array1 = np.arange(5)\n",
    "array1\n",
    "\n",
    "# Primeiro elemento do array (em Python a indexação começa por 0)\n",
    "array1[0]\n",
    "\n",
    "# Segundo elemento do array (em Python a indexação começa por 0)\n",
    "array1[1]\n",
    "\n",
    "# Último elemento do array (em Python a indexação começa por 0)\n",
    "array1[-1]\n",
    "\n",
    "# Invertendo o array\n",
    "array1[::-1]"
   ]
  },
  {
   "cell_type": "markdown",
   "metadata": {},
   "source": [
    "### Trabalhando com Array multi-dimensional"
   ]
  },
  {
   "cell_type": "code",
   "execution_count": null,
   "metadata": {},
   "outputs": [],
   "source": [
    "array3 = np.array([[190, 290, 490], [129, 458, 567], [761, 902, 346]])\n",
    "array3\n",
    "\n",
    "# Slicing da Matriz\n",
    "array3[2, 1]\n",
    "\n",
    "# Atribuindo um valor a um elemento da Matriz\n",
    "array3[1, 1] = 10\n",
    "\n",
    "# Exibe uma determinada linha (3a linha)\n",
    "array3[2]\n",
    "\n",
    "# Ou Retornando a terceira linha da Matriz (inteira)\n",
    "array3[2,]\n",
    "\n",
    "# Retornando todas as linhas da segunda coluna da Matriz\n",
    "array3[:,1]"
   ]
  },
  {
   "cell_type": "markdown",
   "metadata": {},
   "source": [
    "### Slicing de Arrays"
   ]
  },
  {
   "cell_type": "code",
   "execution_count": null,
   "metadata": {},
   "outputs": [],
   "source": [
    "array5 = np.arange(50) * 2\n",
    "array5\n",
    "\n",
    "# start/end/step\n",
    "array5[5:10:2]\n",
    "\n",
    "# Retorna todos os valores até o elemento de index 4 (exclusive)\n",
    "array5[:4]\n",
    "\n",
    "# A partir do elemento de index 4, retorna todos os valores\n",
    "array5[4:]\n",
    "\n",
    "array5[::3]\n",
    "\n",
    "# O slicing não altera o objeto original\n",
    "array5\n",
    "\n",
    "# Podemos usar as técnicas de slicing para alterar elementos ou conjuntos de elementos dentro do array\n",
    "array5[:3] = 1\n",
    "\n",
    "# Atribuindo um array a uma parte de outro array\n",
    "array5[:4] = np.ones(4)"
   ]
  },
  {
   "cell_type": "markdown",
   "metadata": {},
   "source": [
    "### Criando um subset e uma copia de um array"
   ]
  },
  {
   "cell_type": "code",
   "execution_count": null,
   "metadata": {},
   "outputs": [],
   "source": [
    "# Criar array\n",
    "array7 = np.arange(12)\n",
    "array7\n",
    "\n",
    "# Faz slincing e grava em outro array, o primeiro continua intacto\n",
    "array8 = array7[::2]\n",
    "array8\n",
    "\n",
    "\n",
    "# Copiando um array com np.copy\n",
    "array9 = np.arange(8)\n",
    "array9\n",
    "array10 = array9.copy()\n",
    "array10"
   ]
  },
  {
   "cell_type": "markdown",
   "metadata": {},
   "source": [
    "### Transposição e Reshaping de Arrays"
   ]
  },
  {
   "cell_type": "code",
   "execution_count": null,
   "metadata": {},
   "outputs": [],
   "source": [
    "# Criar array (em BI fazer pivo)\n",
    "array1 = np.array([[65, 23, 19], [41, 87, 10]])\n",
    "array1\n",
    "array1.T\n",
    "#ou\n",
    "np.transpose(array1)\n",
    "\n",
    "\n",
    "\n",
    "### Broadcasting\n",
    "# Criar transposta do array e somar com ele mesmo \n",
    "array2 = np.array([[33, 34, 35]])\n",
    "array2.T\n",
    "array2.T + array2\n",
    "\n",
    "\n",
    "\n",
    "### Transformando Matrizes em Vetores\n",
    "array3 = np.array([np.arange(1,6), np.arange(10,15)])\n",
    "array3\n",
    "array3.ravel() # transf em vetor uni, concatenado as linhas \n",
    "array3.T.ravel() # transposta e concatenar\n",
    "\n",
    "\n",
    "\n",
    "### Operadores Lógicos\n",
    "array4 = np.random.randint(1, 10, size = (4,4))\n",
    "array4\n",
    "np.any((array4 % 7) == 0) # qquer elemento\n",
    "np.all(array4 < 11) # todos os elementos\n",
    "\n",
    "\n",
    "\n",
    "### Reshaping\n",
    "array5 = np.arange(1,16)  #unidimensional \n",
    "array5\n",
    "array5.reshape(3, 5) #multidimensional\n",
    "\n",
    "\n",
    "\n",
    "### Ordenando o Array\n",
    "array7 = np.array([[3,2],[10,-1]])\n",
    "array7\n",
    "# Ordenando por linhas\n",
    "array7.sort(axis = 1)\n",
    "array7\n",
    "array8 = np.array([[3,2],[10,-1]])\n",
    "array8\n",
    "# Ordenando por colunas\n",
    "array8.sort(axis = 0)\n",
    "array8"
   ]
  },
  {
   "cell_type": "markdown",
   "metadata": {},
   "source": [
    "### End"
   ]
  }
 ],
 "metadata": {
  "kernelspec": {
   "display_name": "Python 3",
   "language": "python",
   "name": "python3"
  },
  "language_info": {
   "codemirror_mode": {
    "name": "ipython",
    "version": 3
   },
   "file_extension": ".py",
   "mimetype": "text/x-python",
   "name": "python",
   "nbconvert_exporter": "python",
   "pygments_lexer": "ipython3",
   "version": "3.7.6"
  }
 },
 "nbformat": 4,
 "nbformat_minor": 4
}
